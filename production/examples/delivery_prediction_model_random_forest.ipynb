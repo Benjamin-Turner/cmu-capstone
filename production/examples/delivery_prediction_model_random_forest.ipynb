{
 "cells": [
  {
   "cell_type": "markdown",
   "metadata": {},
   "source": [
    "# Delivery Prediction - Model - Random Forest \n",
    "This notebook covers the following:\n",
    "- Loading of preprocessed data for training the model\n",
    "- Training the random forest model\n",
    "- Manual hyperparameter tuning\n",
    "- Automated hyperparameter tuning with RandCV\n",
    "- Calculating and viewing overall accuracy \n",
    "- Calculating and viewing accuracy for individual classes"
   ]
  },
  {
   "cell_type": "code",
   "execution_count": 3,
   "metadata": {
    "ExecuteTime": {
     "end_time": "2019-07-13T23:17:16.328304Z",
     "start_time": "2019-07-13T23:17:16.312683Z"
    }
   },
   "outputs": [],
   "source": [
    "import time\n",
    "from datetime import timedelta\n",
    "from datetime import datetime\n",
    "import pickle\n",
    "import pandas as pd\n",
    "import os\n",
    "import numpy as np\n",
    "import seaborn as sns\n",
    "import matplotlib.pyplot as plt\n",
    "import time\n",
    "import statistics\n",
    "import joblib \n",
    "from imblearn.over_sampling import SMOTE\n",
    "\n",
    "# Load sklearn utilities\n",
    "# ----------------------\n",
    "from sklearn.model_selection import train_test_split\n",
    "from sklearn import preprocessing\n",
    "from sklearn.model_selection import GridSearchCV\n",
    "\n",
    "from sklearn.metrics import accuracy_score, classification_report, roc_auc_score, roc_curve, brier_score_loss, mean_squared_error, r2_score\n",
    "from sklearn.metrics import precision_recall_fscore_support as score\n",
    "\n",
    "from sklearn.calibration import calibration_curve\n",
    "\n",
    "# Load classifiers\n",
    "# ----------------\n",
    "from sklearn.linear_model import LogisticRegression\n",
    "from sklearn.linear_model import RidgeClassifier\n",
    "from sklearn.tree import DecisionTreeClassifier\n",
    "from sklearn.ensemble import RandomForestClassifier\n",
    "from sklearn.naive_bayes import GaussianNB\n",
    "from sklearn.neural_network import MLPClassifier\n",
    "from sklearn.ensemble import GradientBoostingClassifier\n",
    "from sklearn.ensemble import BaggingClassifier"
   ]
  },
  {
   "cell_type": "markdown",
   "metadata": {},
   "source": [
    "## Loading preprocessed data"
   ]
  },
  {
   "cell_type": "code",
   "execution_count": 6,
   "metadata": {},
   "outputs": [],
   "source": [
    "data_dict = np.load('data/data_dict_12windows_SMOTEno_MSAno.npz')"
   ]
  },
  {
   "cell_type": "code",
   "execution_count": 7,
   "metadata": {},
   "outputs": [],
   "source": [
    "X_train = data_dict['X_train']\n",
    "y_train = data_dict['y_train']\n",
    "\n",
    "X_test = data_dict['X_test']\n",
    "y_test = data_dict['y_test']"
   ]
  },
  {
   "cell_type": "code",
   "execution_count": null,
   "metadata": {},
   "outputs": [],
   "source": [
    "start_time = time.time()\n",
    "model_rf = RandomForestClassifier(verbose=0, n_jobs=-1, max_depth=100, n_estimators= 25)\n",
    "model_rf.fit(X_train, y_train)\n",
    "print(\"Predicting...\")\n",
    "y_pred_rf = model_rf.predict(X_test)\n",
    "y_pred_proba_rf = model_rf.predict_proba(X_test)\n",
    "\n",
    "print(\"Calculating accuracy...\")\n",
    "calc_accuracy_windows(2, y_test, y_pred_rf)\n",
    "\n",
    "elapsed_time_secs = time.time() - start_time\n",
    "msg = \"Execution took: %s secs (Wall clock time)\" % timedelta(seconds=round(elapsed_time_secs))\n",
    "print(msg)\n",
    "print(\"-----\")"
   ]
  },
  {
   "cell_type": "markdown",
   "metadata": {},
   "source": [
    "## Manual Hyperparameter tuning"
   ]
  },
  {
   "cell_type": "markdown",
   "metadata": {},
   "source": [
    "### Number of estimators"
   ]
  },
  {
   "cell_type": "code",
   "execution_count": 16,
   "metadata": {},
   "outputs": [
    {
     "name": "stdout",
     "output_type": "stream",
     "text": [
      "Training for n_estimators =  25\n",
      "Predicting...\n",
      "Calculating accuracy...\n",
      "Accuracy with +- 0 time window(s): 73.4555%\n",
      "Accuracy with +- 1 time window(s): 87.8412%\n",
      "Accuracy with +- 2 time window(s): 89.6862%\n",
      "Execution took: 0:04:20 secs (Wall clock time)\n",
      "Training for n_estimators =  46\n",
      "Predicting...\n",
      "Calculating accuracy...\n",
      "Accuracy with +- 0 time window(s): 73.8355%\n",
      "Accuracy with +- 1 time window(s): 88.0584%\n",
      "Accuracy with +- 2 time window(s): 89.8530%\n",
      "Execution took: 0:05:38 secs (Wall clock time)\n",
      "Training for n_estimators =  68\n",
      "Predicting...\n",
      "Calculating accuracy...\n",
      "Accuracy with +- 0 time window(s): 74.0563%\n",
      "Accuracy with +- 1 time window(s): 88.2213%\n",
      "Accuracy with +- 2 time window(s): 89.9944%\n",
      "Execution took: 0:09:05 secs (Wall clock time)\n",
      "Training for n_estimators =  90\n",
      "Predicting...\n",
      "Calculating accuracy...\n",
      "Accuracy with +- 0 time window(s): 74.1249%\n",
      "Accuracy with +- 1 time window(s): 88.2441%\n",
      "Accuracy with +- 2 time window(s): 90.0074%\n",
      "Execution took: 0:09:54 secs (Wall clock time)\n"
     ]
    }
   ],
   "source": [
    "n_estimators = [int(x) for x in np.linspace(start = 25, stop = 90, num = 4)]\n",
    "for i in n_estimators:\n",
    "    start_time = time.time()\n",
    "    print(\"Training for n_estimators = \", i)\n",
    "    model_rf = RandomForestClassifier(verbose=0, n_jobs=-1, max_depth=100, n_estimators= i)\n",
    "    model_rf.fit(X_train, y_train)\n",
    "    print(\"Predicting...\")\n",
    "    y_pred_rf = model_rf.predict(X_test)\n",
    "    y_pred_proba_rf = model_rf.predict_proba(X_test)\n",
    "\n",
    "    print(\"Calculating accuracy...\")\n",
    "    calc_accuracy_windows(2, y_test, y_pred_rf)\n",
    "\n",
    "    elapsed_time_secs = time.time() - start_time\n",
    "    msg = \"Execution took: %s secs (Wall clock time)\" % timedelta(seconds=round(elapsed_time_secs))\n",
    "    print(msg)\n",
    "    print(\"-----\")"
   ]
  },
  {
   "cell_type": "markdown",
   "metadata": {},
   "source": [
    "### Class weights"
   ]
  },
  {
   "cell_type": "code",
   "execution_count": 17,
   "metadata": {},
   "outputs": [
    {
     "name": "stdout",
     "output_type": "stream",
     "text": [
      "Training for class_weight =  balanced\n",
      "Predicting...\n",
      "Calculating accuracy...\n",
      "Accuracy with +- 0 time window(s): 72.5942%\n",
      "Accuracy with +- 1 time window(s): 86.9702%\n",
      "Accuracy with +- 2 time window(s): 88.8846%\n",
      "Execution took: 0:04:29 secs (Wall clock time)\n",
      "-----\n",
      "Training for class_weight =  balanced_subsample\n",
      "Predicting...\n",
      "Calculating accuracy...\n",
      "Accuracy with +- 0 time window(s): 72.5493%\n",
      "Accuracy with +- 1 time window(s): 86.9074%\n",
      "Accuracy with +- 2 time window(s): 88.8319%\n",
      "Execution took: 0:04:53 secs (Wall clock time)\n",
      "-----\n",
      "Training for class_weight =  None\n",
      "Predicting...\n",
      "Calculating accuracy...\n",
      "Accuracy with +- 0 time window(s): 73.4173%\n",
      "Accuracy with +- 1 time window(s): 87.8087%\n",
      "Accuracy with +- 2 time window(s): 89.6655%\n",
      "Execution took: 0:04:17 secs (Wall clock time)\n",
      "-----\n"
     ]
    }
   ],
   "source": [
    "class_weight =['balanced', 'balanced_subsample', None]\n",
    "for i in class_weight:\n",
    "    start_time = time.time()\n",
    "    print(\"Training for class_weight = \", i)\n",
    "    model_rf = RandomForestClassifier(verbose=0, n_jobs=-1, max_depth=100, n_estimators=25, class_weight=i)\n",
    "    model_rf.fit(X_train, y_train)\n",
    "    print(\"Predicting...\")\n",
    "    y_pred_rf = model_rf.predict(X_test)\n",
    "#     y_pred_proba_rf = model_rf.predict_proba(X_test)\n",
    "\n",
    "    print(\"Calculating accuracy...\")\n",
    "    calc_accuracy_windows(2, y_test, y_pred_rf)\n",
    "\n",
    "    elapsed_time_secs = time.time() - start_time\n",
    "    msg = \"Execution took: %s secs (Wall clock time)\" % timedelta(seconds=round(elapsed_time_secs))\n",
    "    print(msg)\n",
    "    print(\"-----\")"
   ]
  },
  {
   "cell_type": "markdown",
   "metadata": {},
   "source": [
    "### Maximum features"
   ]
  },
  {
   "cell_type": "code",
   "execution_count": 18,
   "metadata": {},
   "outputs": [
    {
     "name": "stdout",
     "output_type": "stream",
     "text": [
      "Training for max_features =  auto\n",
      "Predicting...\n",
      "Calculating accuracy...\n",
      "Accuracy with +- 0 time window(s): 73.4561%\n",
      "Accuracy with +- 1 time window(s): 87.8489%\n",
      "Accuracy with +- 2 time window(s): 89.6959%\n",
      "Execution took: 0:04:19 secs (Wall clock time)\n",
      "-----\n",
      "Training for max_features =  sqrt\n",
      "Predicting...\n",
      "Calculating accuracy...\n",
      "Accuracy with +- 0 time window(s): 73.4036%\n",
      "Accuracy with +- 1 time window(s): 87.7999%\n",
      "Accuracy with +- 2 time window(s): 89.6572%\n",
      "Execution took: 0:04:18 secs (Wall clock time)\n",
      "-----\n"
     ]
    }
   ],
   "source": [
    "max_features = ['auto', 'sqrt']\n",
    "for i in max_features:\n",
    "    start_time = time.time()\n",
    "    print(\"Training for max_features = \", i)\n",
    "    model_rf = RandomForestClassifier(verbose=0, n_jobs=-1, max_depth=100, n_estimators=25, max_features=i)\n",
    "    model_rf.fit(X_train, y_train)\n",
    "    print(\"Predicting...\")\n",
    "    y_pred_rf = model_rf.predict(X_test)\n",
    "#     y_pred_proba_rf = model_rf.predict_proba(X_test)\n",
    "\n",
    "    print(\"Calculating accuracy...\")\n",
    "    calc_accuracy_windows(2, y_test, y_pred_rf)\n",
    "\n",
    "    elapsed_time_secs = time.time() - start_time\n",
    "    msg = \"Execution took: %s secs (Wall clock time)\" % timedelta(seconds=round(elapsed_time_secs))\n",
    "    print(msg)\n",
    "    print(\"-----\")"
   ]
  },
  {
   "cell_type": "markdown",
   "metadata": {},
   "source": [
    "### Min Sample Split"
   ]
  },
  {
   "cell_type": "code",
   "execution_count": 19,
   "metadata": {},
   "outputs": [
    {
     "name": "stdout",
     "output_type": "stream",
     "text": [
      "Training for min_samples_split =  2\n",
      "Predicting...\n",
      "Calculating accuracy...\n",
      "Accuracy with +- 0 time window(s): 73.3567%\n",
      "Accuracy with +- 1 time window(s): 87.7783%\n",
      "Accuracy with +- 2 time window(s): 89.6312%\n",
      "Execution took: 0:04:18 secs (Wall clock time)\n",
      "-----\n",
      "Training for min_samples_split =  5\n",
      "Predicting...\n",
      "Calculating accuracy...\n",
      "Accuracy with +- 0 time window(s): 73.2551%\n",
      "Accuracy with +- 1 time window(s): 87.7496%\n",
      "Accuracy with +- 2 time window(s): 89.5448%\n",
      "Execution took: 0:04:20 secs (Wall clock time)\n",
      "-----\n",
      "Training for min_samples_split =  10\n",
      "Predicting...\n",
      "Calculating accuracy...\n",
      "Accuracy with +- 0 time window(s): 72.3045%\n",
      "Accuracy with +- 1 time window(s): 87.2390%\n",
      "Accuracy with +- 2 time window(s): 89.0391%\n",
      "Execution took: 0:04:13 secs (Wall clock time)\n",
      "-----\n"
     ]
    }
   ],
   "source": [
    "min_samples_split = [2, 5, 10]\n",
    "for i in min_samples_split:\n",
    "    start_time = time.time()\n",
    "    print(\"Training for min_samples_split = \", i)\n",
    "    model_rf = RandomForestClassifier(verbose=0, n_jobs=-1, max_depth=100, n_estimators=25, min_samples_split=i)\n",
    "    model_rf.fit(X_train, y_train)\n",
    "    print(\"Predicting...\")\n",
    "    y_pred_rf = model_rf.predict(X_test)\n",
    "#     y_pred_proba_rf = model_rf.predict_proba(X_test)\n",
    "\n",
    "    print(\"Calculating accuracy...\")\n",
    "    calc_accuracy_windows(2, y_test, y_pred_rf)\n",
    "\n",
    "    elapsed_time_secs = time.time() - start_time\n",
    "    msg = \"Execution took: %s secs (Wall clock time)\" % timedelta(seconds=round(elapsed_time_secs))\n",
    "    print(msg)\n",
    "    print(\"-----\")"
   ]
  },
  {
   "cell_type": "markdown",
   "metadata": {},
   "source": [
    "### Min Sample Leaf"
   ]
  },
  {
   "cell_type": "code",
   "execution_count": 20,
   "metadata": {},
   "outputs": [
    {
     "name": "stdout",
     "output_type": "stream",
     "text": [
      "Training for min_samples_leaf =  1\n",
      "Predicting...\n",
      "Calculating accuracy...\n",
      "Accuracy with +- 0 time window(s): 73.4013%\n",
      "Accuracy with +- 1 time window(s): 87.8180%\n",
      "Accuracy with +- 2 time window(s): 89.6644%\n",
      "Execution took: 0:04:23 secs (Wall clock time)\n",
      "-----\n",
      "Training for min_samples_leaf =  2\n",
      "Predicting...\n",
      "Calculating accuracy...\n",
      "Accuracy with +- 0 time window(s): 71.5882%\n",
      "Accuracy with +- 1 time window(s): 86.7669%\n",
      "Accuracy with +- 2 time window(s): 88.5813%\n",
      "Execution took: 0:04:08 secs (Wall clock time)\n",
      "-----\n",
      "Training for min_samples_leaf =  4\n",
      "Predicting...\n",
      "Calculating accuracy...\n",
      "Accuracy with +- 0 time window(s): 69.2795%\n",
      "Accuracy with +- 1 time window(s): 85.4237%\n",
      "Accuracy with +- 2 time window(s): 87.3183%\n",
      "Execution took: 0:04:04 secs (Wall clock time)\n",
      "-----\n"
     ]
    }
   ],
   "source": [
    "min_samples_leaf = [1, 2, 4]\n",
    "for i in min_samples_leaf:\n",
    "    start_time = time.time()\n",
    "    print(\"Training for min_samples_leaf = \", i)\n",
    "    model_rf = RandomForestClassifier(verbose=0, n_jobs=-1, max_depth=100, n_estimators=25, min_samples_leaf=i)\n",
    "    model_rf.fit(X_train, y_train)\n",
    "    print(\"Predicting...\")\n",
    "    y_pred_rf = model_rf.predict(X_test)\n",
    "#     y_pred_proba_rf = model_rf.predict_proba(X_test)\n",
    "\n",
    "    print(\"Calculating accuracy...\")\n",
    "    calc_accuracy_windows(2, y_test, y_pred_rf)\n",
    "\n",
    "    elapsed_time_secs = time.time() - start_time\n",
    "    msg = \"Execution took: %s secs (Wall clock time)\" % timedelta(seconds=round(elapsed_time_secs))\n",
    "    print(msg)\n",
    "    print(\"-----\")\n"
   ]
  },
  {
   "cell_type": "markdown",
   "metadata": {},
   "source": [
    "### Bootstrap"
   ]
  },
  {
   "cell_type": "code",
   "execution_count": 21,
   "metadata": {},
   "outputs": [
    {
     "name": "stdout",
     "output_type": "stream",
     "text": [
      "Training for bootstrap =  True\n",
      "Predicting...\n",
      "Calculating accuracy...\n",
      "Accuracy with +- 0 time window(s): 73.4590%\n",
      "Accuracy with +- 1 time window(s): 87.8690%\n",
      "Accuracy with +- 2 time window(s): 89.7166%\n",
      "Execution took: 0:04:24 secs (Wall clock time)\n",
      "-----\n",
      "Training for bootstrap =  False\n",
      "Predicting...\n",
      "Calculating accuracy...\n",
      "Accuracy with +- 0 time window(s): 73.6011%\n",
      "Accuracy with +- 1 time window(s): 88.0793%\n",
      "Accuracy with +- 2 time window(s): 90.0047%\n",
      "Execution took: 0:05:47 secs (Wall clock time)\n",
      "-----\n"
     ]
    }
   ],
   "source": [
    "bootstrap = [True, False]\n",
    "for i in bootstrap:\n",
    "    start_time = time.time()\n",
    "    print(\"Training for bootstrap = \", i)\n",
    "    model_rf = RandomForestClassifier(verbose=0, n_jobs=-1, max_depth=100, n_estimators=25, bootstrap=i)\n",
    "    model_rf.fit(X_train, y_train)\n",
    "    print(\"Predicting...\")\n",
    "    y_pred_rf = model_rf.predict(X_test)\n",
    "#     y_pred_proba_rf = model_rf.predict_proba(X_test)\n",
    "\n",
    "    print(\"Calculating accuracy...\")\n",
    "    calc_accuracy_windows(2, y_test, y_pred_rf)\n",
    "\n",
    "    elapsed_time_secs = time.time() - start_time\n",
    "    msg = \"Execution took: %s secs (Wall clock time)\" % timedelta(seconds=round(elapsed_time_secs))\n",
    "    print(msg)\n",
    "    print(\"-----\")"
   ]
  },
  {
   "cell_type": "markdown",
   "metadata": {},
   "source": [
    "## Automated Hyperparameter tuning with RandCV"
   ]
  },
  {
   "cell_type": "code",
   "execution_count": 32,
   "metadata": {},
   "outputs": [],
   "source": [
    "data_dict = np.load('data/data_dict_14windows_SMOTEno_MSAno.npz')"
   ]
  },
  {
   "cell_type": "code",
   "execution_count": 9,
   "metadata": {},
   "outputs": [
    {
     "name": "stdout",
     "output_type": "stream",
     "text": [
      "{'n_estimators': [50, 150, 250], 'max_features': ['auto', 'sqrt'], 'max_depth': [50, 76, 103, 130], 'min_samples_split': [2, 5, 10], 'min_samples_leaf': [1, 2, 4], 'bootstrap': [True, False], 'class_weight': ['balanced', 'balanced_subsample', None]}\n"
     ]
    }
   ],
   "source": [
    "# Number of trees in random forest\n",
    "n_estimators = [int(x) for x in np.linspace(start = 50, stop = 250, num = 3)]\n",
    "# Number of features to consider at every split\n",
    "max_features = ['auto', 'sqrt']\n",
    "# Maximum number of levels in tree\n",
    "max_depth = [int(x) for x in np.linspace(50, 130, num = 4)]\n",
    "# Minimum number of samples required to split a node\n",
    "min_samples_split = [2, 5, 10]\n",
    "# Minimum number of samples required at each leaf node\n",
    "min_samples_leaf = [1, 2, 4]\n",
    "# Method of selecting samples for training each tree\n",
    "bootstrap = [True, False]\n",
    "# Class weight\n",
    "class_weight =['balanced', 'balanced_subsample', None]\n",
    "\n",
    "# Create the random grid\n",
    "random_grid = {'n_estimators': n_estimators,\n",
    "               'max_features': max_features,\n",
    "               'max_depth': max_depth,\n",
    "               'min_samples_split': min_samples_split,\n",
    "               'min_samples_leaf': min_samples_leaf,\n",
    "               'bootstrap': bootstrap,\n",
    "               'class_weight': class_weight}\n",
    "\n",
    "print(random_grid)"
   ]
  },
  {
   "cell_type": "markdown",
   "metadata": {},
   "source": [
    "### Saving best results "
   ]
  },
  {
   "cell_type": "code",
   "execution_count": null,
   "metadata": {},
   "outputs": [],
   "source": [
    "joblib.dump(rf_random.best_estimator_ , 'rf_random_model.pkl.z')\n",
    "joblib.dump(rf_random.best_params_  , 'rf_random_params.pkl')\n",
    "joblib.dump(rf_random.cv_results_  , 'rf_random_results.pkl')"
   ]
  },
  {
   "cell_type": "markdown",
   "metadata": {},
   "source": [
    "## Visualizing overall accuracy "
   ]
  },
  {
   "cell_type": "code",
   "execution_count": 4,
   "metadata": {
    "ExecuteTime": {
     "end_time": "2019-07-13T06:07:31.270582Z",
     "start_time": "2019-07-13T06:07:31.254962Z"
    }
   },
   "outputs": [],
   "source": [
    "def calc_accuracy_windows(max_windows, y_test, y_pred):\n",
    "\n",
    "    # Initialize array to hold counts for each window\n",
    "    count_arr = np.zeros(max_windows)\n",
    "\n",
    "    # For each class window, if predicted class is in window, increment count \n",
    "    # E.g. if predicted class = 4 and target class = 6, since max window allowed = 2, consider instance as accurate and increment count \n",
    "    for idx, value in enumerate(y_test):\n",
    "        for window in np.arange(1,max_windows+1): \n",
    "             # window_arr calculates window that predicted value can fall into \n",
    "             # e.g. target value = 4, window = 2, window_arr = {2,3,4,5,6}\n",
    "             window_arr = np.arange(value - window, value + window + 1)\n",
    "             if (y_pred[idx] in window_arr):\n",
    "                count_arr[window-1] += 1\n",
    "\n",
    "    # Print accuracy for each time window     \n",
    "    accuracy_list = []\n",
    "    print(f\"Accuracy with +- 0 time window(s): {accuracy_score(y_test, y_pred)*100:.4f}%\")\n",
    "    accuracy_list.append(accuracy_score(y_test, y_pred))\n",
    "    for idx, count in enumerate(count_arr):\n",
    "        print(f\"Accuracy with +- {idx+1} time window(s): {(count/len(y_pred))*100:.4f}%\")   \n",
    "        accuracy_list.append(count/len(y_pred))\n",
    "    \n",
    "    return accuracy_list"
   ]
  },
  {
   "cell_type": "markdown",
   "metadata": {},
   "source": [
    "## Visualizing accuracy and classification results for individual results "
   ]
  },
  {
   "cell_type": "code",
   "execution_count": 31,
   "metadata": {},
   "outputs": [
    {
     "name": "stdout",
     "output_type": "stream",
     "text": [
      "                        precision    recall  f1-score   support\n",
      "\n",
      "                    0D       0.88      0.68      0.77     24483\n",
      "           0D - 1D 8am       0.79      0.52      0.63      1834\n",
      "   1D 8am - 1D 10.30am       0.80      0.48      0.60    111575\n",
      "   1D 10.30am - 1D 3pm       0.67      0.86      0.76    358761\n",
      "           1D 3pm - 2D       0.56      0.27      0.36    101900\n",
      "       2D - 2D 10.30am       0.84      0.40      0.54    135671\n",
      "2D 10.30am - 2D 4.30pm       0.71      0.88      0.79    533489\n",
      " 2D 4.30pm - 2D 6.30pm       0.68      0.13      0.22     48106\n",
      "        2D 6.30pm - 3D       0.68      0.13      0.21     12266\n",
      "        3D - 3D 4.30pm       0.76      0.82      0.79    423403\n",
      " 3D 4.30pm - 3D 6.30pm       0.70      0.12      0.20     33862\n",
      "        3D 6.30pm - 4D       0.69      0.12      0.20      9243\n",
      "               4D - 5D       0.81      0.85      0.83    353810\n",
      "               5D - 6D       0.85      0.73      0.79    134461\n",
      "\n",
      "              accuracy                           0.74   2282864\n",
      "             macro avg       0.74      0.50      0.55   2282864\n",
      "          weighted avg       0.74      0.74      0.72   2282864\n",
      "\n"
     ]
    }
   ],
   "source": [
    "from sklearn.metrics import classification_report\n",
    "\n",
    "target_names = ['0D', '0D - 1D 8am', '1D 8am - 1D 10.30am', '1D 10.30am - 1D 3pm',\n",
    "               '1D 3pm - 2D', '2D - 2D 10.30am', '2D 10.30am - 2D 4.30pm',\n",
    "               '2D 4.30pm - 2D 6.30pm', '2D 6.30pm - 3D', '3D - 3D 4.30pm',\n",
    "               '3D 4.30pm - 3D 6.30pm', '3D 6.30pm - 4D', '4D - 5D', '5D - 6D']\n",
    "print(classification_report(y_test, y_pred_rf, target_names=target_names))"
   ]
  }
 ],
 "metadata": {
  "kernelspec": {
   "display_name": "Python 3",
   "language": "python",
   "name": "python3"
  },
  "language_info": {
   "codemirror_mode": {
    "name": "ipython",
    "version": 3
   },
   "file_extension": ".py",
   "mimetype": "text/x-python",
   "name": "python",
   "nbconvert_exporter": "python",
   "pygments_lexer": "ipython3",
   "version": "3.6.8"
  },
  "latex_envs": {
   "LaTeX_envs_menu_present": true,
   "autoclose": true,
   "autocomplete": true,
   "bibliofile": "biblio.bib",
   "cite_by": "apalike",
   "current_citInitial": 1,
   "eqLabelWithNumbers": true,
   "eqNumInitial": 1,
   "hotkeys": {
    "equation": "Ctrl-E",
    "itemize": "Ctrl-I"
   },
   "labels_anchors": false,
   "latex_user_defs": false,
   "report_style_numbering": false,
   "user_envs_cfg": false
  }
 },
 "nbformat": 4,
 "nbformat_minor": 2
}
