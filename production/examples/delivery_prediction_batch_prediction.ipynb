{
 "cells": [
  {
   "cell_type": "markdown",
   "metadata": {},
   "source": [
    "# Delivery Prediction - Batch Prediction\n",
    "This notebook covers the following:\n",
    "- Getting correct input for batch prediction"
   ]
  },
  {
   "cell_type": "code",
   "execution_count": 17,
   "metadata": {
    "ExecuteTime": {
     "end_time": "2019-07-14T00:00:38.487543Z",
     "start_time": "2019-07-14T00:00:34.207265Z"
    }
   },
   "outputs": [],
   "source": [
    "import datetime\n",
    "import os\n",
    "import time\n",
    "\n",
    "import joblib\n",
    "import numpy as np\n",
    "import pandas as pd\n",
    "import pgeocode\n",
    "import shippo\n",
    "import zipcodes\n",
    "from tabulate import tabulate\n",
    "from tqdm import tqdm\n",
    "from uszipcode import SearchEngine\n",
    "\n",
    "import delivery_prediction_preprocess\n",
    "import paths\n",
    "import utilities"
   ]
  },
  {
   "cell_type": "markdown",
   "metadata": {},
   "source": [
    "## Import batch CSV"
   ]
  },
  {
   "cell_type": "code",
   "execution_count": 20,
   "metadata": {
    "ExecuteTime": {
     "end_time": "2019-07-14T00:00:44.986009Z",
     "start_time": "2019-07-14T00:00:38.487543Z"
    }
   },
   "outputs": [
    {
     "data": {
      "text/html": [
       "<div>\n",
       "<style scoped>\n",
       "    .dataframe tbody tr th:only-of-type {\n",
       "        vertical-align: middle;\n",
       "    }\n",
       "\n",
       "    .dataframe tbody tr th {\n",
       "        vertical-align: top;\n",
       "    }\n",
       "\n",
       "    .dataframe thead th {\n",
       "        text-align: right;\n",
       "    }\n",
       "</style>\n",
       "<table border=\"1\" class=\"dataframe\">\n",
       "  <thead>\n",
       "    <tr style=\"text-align: right;\">\n",
       "      <th></th>\n",
       "      <th>shipment_date</th>\n",
       "      <th>sender_zip</th>\n",
       "      <th>recipient_zip</th>\n",
       "      <th>weight</th>\n",
       "      <th>shipper</th>\n",
       "      <th>service_type</th>\n",
       "      <th>zone</th>\n",
       "    </tr>\n",
       "  </thead>\n",
       "  <tbody>\n",
       "    <tr>\n",
       "      <th>0</th>\n",
       "      <td>2019-05-22</td>\n",
       "      <td>15213</td>\n",
       "      <td>33324</td>\n",
       "      <td>33</td>\n",
       "      <td>fedex</td>\n",
       "      <td>fedex_first_overnight</td>\n",
       "      <td>5</td>\n",
       "    </tr>\n",
       "    <tr>\n",
       "      <th>1</th>\n",
       "      <td>2019-11-08</td>\n",
       "      <td>29910</td>\n",
       "      <td>16066</td>\n",
       "      <td>33</td>\n",
       "      <td>fedex</td>\n",
       "      <td>fedex_priority_overnight</td>\n",
       "      <td>4</td>\n",
       "    </tr>\n",
       "    <tr>\n",
       "      <th>2</th>\n",
       "      <td>2019-03-15</td>\n",
       "      <td>29673</td>\n",
       "      <td>43015</td>\n",
       "      <td>41</td>\n",
       "      <td>fedex</td>\n",
       "      <td>fedex_standard_overnight</td>\n",
       "      <td>4</td>\n",
       "    </tr>\n",
       "    <tr>\n",
       "      <th>3</th>\n",
       "      <td>2019-06-15</td>\n",
       "      <td>21044</td>\n",
       "      <td>03053</td>\n",
       "      <td>3</td>\n",
       "      <td>fedex</td>\n",
       "      <td>fedex_2_day_am</td>\n",
       "      <td>4</td>\n",
       "    </tr>\n",
       "    <tr>\n",
       "      <th>4</th>\n",
       "      <td>2019-07-01</td>\n",
       "      <td>30019</td>\n",
       "      <td>10954</td>\n",
       "      <td>3</td>\n",
       "      <td>fedex</td>\n",
       "      <td>fedex_2_day</td>\n",
       "      <td>5</td>\n",
       "    </tr>\n",
       "  </tbody>\n",
       "</table>\n",
       "</div>"
      ],
      "text/plain": [
       "  shipment_date sender_zip recipient_zip weight shipper  \\\n",
       "0    2019-05-22      15213         33324     33   fedex   \n",
       "1    2019-11-08      29910         16066     33   fedex   \n",
       "2    2019-03-15      29673         43015     41   fedex   \n",
       "3    2019-06-15      21044         03053      3   fedex   \n",
       "4    2019-07-01      30019         10954      3   fedex   \n",
       "\n",
       "               service_type zone  \n",
       "0     fedex_first_overnight    5  \n",
       "1  fedex_priority_overnight    4  \n",
       "2  fedex_standard_overnight    4  \n",
       "3            fedex_2_day_am    4  \n",
       "4               fedex_2_day    5  "
      ]
     },
     "execution_count": 20,
     "metadata": {},
     "output_type": "execute_result"
    }
   ],
   "source": [
    "# Import batch\n",
    "batch_sample_csv = pd.read_csv('../data/delivery_prediction/input/delivery_prediction_batch_sample_cmu.csv', dtype=str)\n",
    "batch_sample_csv.head()"
   ]
  },
  {
   "cell_type": "markdown",
   "metadata": {},
   "source": [
    "## Validate batch function"
   ]
  },
  {
   "cell_type": "code",
   "execution_count": 43,
   "metadata": {},
   "outputs": [],
   "source": [
    "def validate_batch(df):\n",
    "    \"\"\"Validates input in CSV.\n",
    "\n",
    "    Please see module documentation for valid input.\n",
    "\n",
    "    Args:\n",
    "        df (pandas dataframe obj): Pandas dataframe that must contain service_type\n",
    "\n",
    "    Returns:\n",
    "        True if batch passes validation\n",
    "    \"\"\"\n",
    "    print(\"Validating input...\")\n",
    "    # Below loading edited for current ipynb file path \n",
    "    fedex_services_dict = joblib.load(\"../\"+paths.fedex_service_types_to_time_window)\n",
    "    ups_services_dict = joblib.load(\"../\"+paths.ups_service_types_to_time_window)\n",
    "    all_ok = True\n",
    "    for row in df.itertuples():\n",
    "        # Validate da1te input\n",
    "        try:\n",
    "            datetime.datetime.strptime(row.shipment_date, '%Y-%m-%d')\n",
    "        except ValueError:\n",
    "            print(\n",
    "                f\"Found incorrect date input `{row.shipment_date}` in row {row.Index}. Please make sure dates are in YYYY-MM-DD format before trying again.\")\n",
    "            all_ok = False\n",
    "        # Validate zip codes\n",
    "        ok = False\n",
    "        if row.sender_zip.isdigit() and len(row.sender_zip) == 5:\n",
    "            ok = zipcodes.is_real(row.sender_zip) and \\\n",
    "                 (zipcodes.matching(row.sender_zip)[0]['state'] != 'HI') and \\\n",
    "                 (zipcodes.matching(row.sender_zip)[0]['state'] != 'AK')\n",
    "        if not ok:\n",
    "            print(\n",
    "                f\"Found invalid sender zipcode `{row.sender_zip}` in row {row.Index}.\\nPlease amend zipcode before trying again.\")\n",
    "            all_ok = False\n",
    "        # Validate zip codes\n",
    "        ok = False\n",
    "        if row.recipient_zip.isdigit() and len(row.recipient_zip) == 5:\n",
    "            ok = zipcodes.is_real(row.recipient_zip)\n",
    "        if not ok:\n",
    "            print(\n",
    "                f\"Found invalid sender zipcode `{row.recipient_zip}` in row {row.Index}. Please amend zipcode before trying again.\")\n",
    "            all_ok = False\n",
    "        # Validate weight\n",
    "        try:\n",
    "            weight = float(row.weight)\n",
    "        except ValueError:\n",
    "            print(f\"Found invalid weight `{row.weight}` in row {row.Index}. Please amend weight before trying again.\")\n",
    "            all_ok = False\n",
    "        # Validate shipper\n",
    "        ok = False\n",
    "        if row.shipper.lower() in ['fedex', 'ups']:\n",
    "            ok = True\n",
    "        if ok == False:\n",
    "            print(\n",
    "                f\"Found invalid shipper `{row.shipper}` in row {row.Index}. Model only takes fedex and ups now. Please amend shipper before trying again.\")\n",
    "            all_ok = False\n",
    "        # Validate service_type\n",
    "        ok = False\n",
    "        if row.shipper.lower() in ['fedex']:\n",
    "            if row.service_type.lower() in list(fedex_services_dict.keys()):\n",
    "                ok = True\n",
    "        elif row.shipper.lower() in ['ups']:\n",
    "            if row.service_type.lower() in list(ups_services_dict.keys()):\n",
    "                ok = True\n",
    "        if ok == False:\n",
    "            print(\n",
    "                f\"Found invalid service type `{row.service_type}` in row {row.Index}. Please amend service type before trying again.\")\n",
    "            all_ok = False\n",
    "        # Validate zone\n",
    "        ok = False\n",
    "        try:\n",
    "            if int(row.zone) in range(2, 9):\n",
    "                ok = True\n",
    "            if not ok:\n",
    "                print(f\"Found invalid zone `{row.zone}` in row {row.Index}. Model only takes zones between 2 and 8. Please amend zone before trying again.\")\n",
    "        except ValueError:\n",
    "            print(f\"Zone must be a number\")\n",
    "            all_ok = False\n",
    "    return all_ok"
   ]
  },
  {
   "cell_type": "markdown",
   "metadata": {},
   "source": [
    "## Validate current sample CSV"
   ]
  },
  {
   "cell_type": "code",
   "execution_count": 22,
   "metadata": {},
   "outputs": [
    {
     "name": "stdout",
     "output_type": "stream",
     "text": [
      "Validating input...\n"
     ]
    },
    {
     "data": {
      "text/plain": [
       "True"
      ]
     },
     "execution_count": 22,
     "metadata": {},
     "output_type": "execute_result"
    }
   ],
   "source": [
    "validate_batch(batch_sample_csv)"
   ]
  },
  {
   "cell_type": "markdown",
   "metadata": {},
   "source": [
    "## What is validated?"
   ]
  },
  {
   "cell_type": "markdown",
   "metadata": {},
   "source": [
    "To note: For CSV batch shipment input, CSV file must be stored in delivery_prediction/input folder and\n",
    "contain the following column names with fixed format:\n",
    "- shipment_date (str): YYYY-MM-DD format\n",
    "- sender_zip (str): String representation of 5-digit zipcode, Non Alaska / Hawaii\n",
    "- recipient_zip (str): String representation of 5-digit zipcode, Non Alaska / Hawaii\n",
    "- weight (str): Shipment weight in pounds\n",
    "- shipper (str): ups or fedex\n",
    "- service_type (str): Shipper service type with fixed format. See below.\n",
    "- zone (int): 2 to 8"
   ]
  },
  {
   "cell_type": "code",
   "execution_count": 35,
   "metadata": {},
   "outputs": [
    {
     "name": "stdout",
     "output_type": "stream",
     "text": [
      "Allowed service_type strings:\n",
      "FEDEX: ['fedex_first_overnight', 'fedex_priority_overnight', 'fedex_standard_overnight', 'fedex_2_day_am', 'fedex_2_day', 'fedex_express_saver']\n",
      "----------\n",
      "UPS: ['ups_next_day_air_early_am', 'ups_next_day_air', 'ups_next_day_air_saver', 'ups_second_day_air_am', 'ups_second_day_air', 'ups_3_day_select']\n"
     ]
    }
   ],
   "source": [
    "fedex_services_dict = joblib.load(\"../\"+paths.fedex_service_types_to_time_window)\n",
    "ups_services_dict = joblib.load(\"../\"+paths.ups_service_types_to_time_window)\n",
    "print(\"Allowed service_type strings:\")\n",
    "print(\"FEDEX:\", end=\" \")\n",
    "print(list(fedex_services_dict.keys()))\n",
    "print(\"----------\")\n",
    "print (\"UPS:\", end=\" \")\n",
    "print(list(ups_services_dict.keys()))"
   ]
  },
  {
   "cell_type": "markdown",
   "metadata": {},
   "source": [
    "## Example of invalid input in CSV"
   ]
  },
  {
   "cell_type": "code",
   "execution_count": 37,
   "metadata": {},
   "outputs": [],
   "source": [
    "# Invalid zip codes\n",
    "batch_sample_csv.at[1, 'sender_zip'] = \"abc\"\n",
    "batch_sample_csv.at[2, 'sender_zip'] = \"11111\"\n",
    "batch_sample_csv.at[10, 'recipient_zip'] = \"99501\" # Alaska zipcode\n",
    "batch_sample_csv.at[12, 'recipient_zip'] = \"96701\" # Hawaii zipcode\n",
    "# Invalid shipment_date\n",
    "batch_sample_csv.at[11, 'shipment_date'] = \"2019-02-30\" \n",
    "batch_sample_csv.at[13, 'shipment_date'] = \"2019\" \n",
    "batch_sample_csv.at[17, 'shipment_date'] = \"a\" \n",
    "# Invalid weight\n",
    "batch_sample_csv.at[20, 'weight'] = \"a\" \n",
    "# Invalid shipper\n",
    "batch_sample_csv.at[2, 'shipper'] = \"usps\" \n",
    "# Invalid service_type\n",
    "batch_sample_csv.at[0, 'service_type'] = \"ups_next_day_air\"  # UPS service for fedex shipment\n",
    "batch_sample_csv.at[20, 'service_type'] = \"abc\"\n",
    "# Invalid zone\n",
    "batch_sample_csv.at[14, 'zone'] = \"10\" # Not in range 2-8\n",
    "batch_sample_csv.at[19, 'zone'] = \"a\"\n",
    "batch_sample_csv.at[14, 'zone'] = 1"
   ]
  },
  {
   "cell_type": "code",
   "execution_count": 44,
   "metadata": {},
   "outputs": [
    {
     "name": "stdout",
     "output_type": "stream",
     "text": [
      "Validating input...\n",
      "Found invalid service type `ups_next_day_air` in row 0. Please amend service type before trying again.\n",
      "Found invalid sender zipcode `abc` in row 1.\n",
      "Please amend zipcode before trying again.\n",
      "Found invalid sender zipcode `11111` in row 2.\n",
      "Please amend zipcode before trying again.\n",
      "Found invalid shipper `usps` in row 2. Model only takes fedex and ups now. Please amend shipper before trying again.\n",
      "Found invalid service type `fedex_standard_overnight` in row 2. Please amend service type before trying again.\n",
      "Found incorrect date input `2019-02-30` in row 11. Please make sure dates are in YYYY-MM-DD format before trying again.\n",
      "Found incorrect date input `2019` in row 13. Please make sure dates are in YYYY-MM-DD format before trying again.\n",
      "Found invalid zone `1` in row 14. Model only takes zones between 2 and 8. Please amend zone before trying again.\n",
      "Found incorrect date input `a` in row 17. Please make sure dates are in YYYY-MM-DD format before trying again.\n",
      "Zone must be a number\n",
      "Found invalid weight `a` in row 20. Please amend weight before trying again.\n",
      "Found invalid service type `abc` in row 20. Please amend service type before trying again.\n"
     ]
    },
    {
     "data": {
      "text/plain": [
       "False"
      ]
     },
     "execution_count": 44,
     "metadata": {},
     "output_type": "execute_result"
    }
   ],
   "source": [
    "validate_batch(batch_sample_csv)"
   ]
  },
  {
   "cell_type": "code",
   "execution_count": null,
   "metadata": {},
   "outputs": [],
   "source": []
  },
  {
   "cell_type": "code",
   "execution_count": null,
   "metadata": {},
   "outputs": [],
   "source": []
  }
 ],
 "metadata": {
  "kernelspec": {
   "display_name": "Python 3",
   "language": "python",
   "name": "python3"
  },
  "language_info": {
   "codemirror_mode": {
    "name": "ipython",
    "version": 3
   },
   "file_extension": ".py",
   "mimetype": "text/x-python",
   "name": "python",
   "nbconvert_exporter": "python",
   "pygments_lexer": "ipython3",
   "version": "3.6.8"
  },
  "latex_envs": {
   "LaTeX_envs_menu_present": true,
   "autoclose": true,
   "autocomplete": true,
   "bibliofile": "biblio.bib",
   "cite_by": "apalike",
   "current_citInitial": 1,
   "eqLabelWithNumbers": true,
   "eqNumInitial": 1,
   "hotkeys": {
    "equation": "Ctrl-E",
    "itemize": "Ctrl-I"
   },
   "labels_anchors": false,
   "latex_user_defs": false,
   "report_style_numbering": false,
   "user_envs_cfg": false
  }
 },
 "nbformat": 4,
 "nbformat_minor": 2
}
