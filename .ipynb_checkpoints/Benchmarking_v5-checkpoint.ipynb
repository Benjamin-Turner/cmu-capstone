{
 "cells": [
  {
   "cell_type": "markdown",
   "metadata": {},
   "source": [
    "# Benchmarking_v5"
   ]
  },
  {
   "cell_type": "markdown",
   "metadata": {},
   "source": [
    "This notebook contains code for the Customer Benchmarking Solution as developed by CMU's capstone team for 71lbs.<br>\n",
    "The code structure is outlined below:"
   ]
  },
  {
   "cell_type": "markdown",
   "metadata": {},
   "source": [
    "1. Import relevant packages\n",
    "2. Read in the input pickle file\n",
    "3. Pre-Process data for Benchmarking:\n",
    "    - Extract relevant attributes from input dataframe\n",
    "    - Create pivot tables for shipment volume, weight and their respective zone-wise proportions\n",
    "    - Calculate the indices required as input for the Similarity Score calculation. These include:<br>\n",
    "    i. `Volumetric Scale Index (VSI)`: Quantifies customer similarity through total shipment volume<br>\n",
    "    ii.`Volumetric Distribution Index (VDI)`: Quantifies customer similarity through zone-wise volume distribution<br>\n",
    "    iii.`Weight Scale Index (WSI)`: Quantifies customer similarity through total shipment weight<br>\n",
    "    iv. `Weight Distribution Index (WDI)`: Quantifies customer similarity through zone-wise weight distribution\n",
    "4. Calculate Similarity Scores\n",
    "5. Create Similarity Score Matrix\n",
    "6. Identify Similar Customers\n",
    "7. Calculate and display relevant KPIs"
   ]
  },
  {
   "cell_type": "markdown",
   "metadata": {},
   "source": [
    "## 1. Import Relevant Packages"
   ]
  },
  {
   "cell_type": "code",
   "execution_count": 1,
   "metadata": {},
   "outputs": [],
   "source": [
    "import numpy as np\n",
    "import pandas as pd\n",
    "import matplotlib.pyplot as plt\n",
    "from scipy.stats import boxcox as bc\n",
    "from scipy.stats import skew\n",
    "import pickle\n",
    "import os\n",
    "import warnings\n",
    "warnings.filterwarnings('ignore')"
   ]
  },
  {
   "cell_type": "markdown",
   "metadata": {},
   "source": [
    "## 2. Read in the input pickle file"
   ]
  },
  {
   "cell_type": "code",
   "execution_count": 2,
   "metadata": {},
   "outputs": [
    {
     "name": "stdout",
     "output_type": "stream",
     "text": [
      "C:\\Users\\colto\\OneDrive\\Documents\\GitHub\\cmu-capstone\n",
      "Reading pickle file from C:\\Users\\colto\\OneDrive\\Documents\\GitHub\\cmu-capstone\\data\\test_merged_sample.pickle\n",
      "Initial pickle contains 914372 records\n"
     ]
    }
   ],
   "source": [
    "print(os.getcwd())\n",
    "\n",
    "pickle_dir = os.getcwd()+ \"\\\\data\\\\test_merged_sample.pickle\"\n",
    "#pickle_dir = os.getcwd()+ \"\\\\Benchmarking\\\\test_merged_190715_half.pickle\"\n",
    "#pickle_dir = os.getcwd()+ \"\\\\Benchmarking\\\\test_merged_full.pickle\"\n",
    "print(\"Reading pickle file from\", pickle_dir)\n",
    "\n",
    "raw_df = pd.DataFrame()\n",
    "raw_df = pd.read_pickle(pickle_dir)#test_merged_sample.pickle\")\n",
    "print(\"Initial pickle contains\", len(raw_df.index), \"records\")"
   ]
  },
  {
   "cell_type": "markdown",
   "metadata": {},
   "source": [
    "## 3. Pre-process data for Benchmarking"
   ]
  },
  {
   "cell_type": "markdown",
   "metadata": {},
   "source": [
    "### Extract relevant attributes from input dataframe"
   ]
  },
  {
   "cell_type": "code",
   "execution_count": 3,
   "metadata": {},
   "outputs": [
    {
     "name": "stdout",
     "output_type": "stream",
     "text": [
      "There are 2811 unique customers in the dataset\n"
     ]
    },
    {
     "data": {
      "text/html": [
       "<div>\n",
       "<style scoped>\n",
       "    .dataframe tbody tr th:only-of-type {\n",
       "        vertical-align: middle;\n",
       "    }\n",
       "\n",
       "    .dataframe tbody tr th {\n",
       "        vertical-align: top;\n",
       "    }\n",
       "\n",
       "    .dataframe thead th {\n",
       "        text-align: right;\n",
       "    }\n",
       "</style>\n",
       "<table border=\"1\" class=\"dataframe\">\n",
       "  <thead>\n",
       "    <tr style=\"text-align: right;\">\n",
       "      <th></th>\n",
       "      <th>business_sid</th>\n",
       "      <th>weight</th>\n",
       "      <th>zone</th>\n",
       "    </tr>\n",
       "  </thead>\n",
       "  <tbody>\n",
       "    <tr>\n",
       "      <th>1232555</th>\n",
       "      <td>SOJW8FQCGI</td>\n",
       "      <td>2.0</td>\n",
       "      <td>6</td>\n",
       "    </tr>\n",
       "    <tr>\n",
       "      <th>1423326</th>\n",
       "      <td>XKVL2MMJL2</td>\n",
       "      <td>4.0</td>\n",
       "      <td>6</td>\n",
       "    </tr>\n",
       "    <tr>\n",
       "      <th>1516794</th>\n",
       "      <td>BE922CE458</td>\n",
       "      <td>10.0</td>\n",
       "      <td>8</td>\n",
       "    </tr>\n",
       "    <tr>\n",
       "      <th>1738984</th>\n",
       "      <td>BE922CE458</td>\n",
       "      <td>20.0</td>\n",
       "      <td>2</td>\n",
       "    </tr>\n",
       "    <tr>\n",
       "      <th>164310</th>\n",
       "      <td>VAQ6Q6TLDY</td>\n",
       "      <td>15.0</td>\n",
       "      <td>8</td>\n",
       "    </tr>\n",
       "  </tbody>\n",
       "</table>\n",
       "</div>"
      ],
      "text/plain": [
       "        business_sid  weight zone\n",
       "1232555   SOJW8FQCGI     2.0    6\n",
       "1423326   XKVL2MMJL2     4.0    6\n",
       "1516794   BE922CE458    10.0    8\n",
       "1738984   BE922CE458    20.0    2\n",
       "164310    VAQ6Q6TLDY    15.0    8"
      ]
     },
     "execution_count": 3,
     "metadata": {},
     "output_type": "execute_result"
    }
   ],
   "source": [
    "#Count the number of unique business_sids in the input dataframe\n",
    "business_sid_list = raw_df.iloc[:,1].unique()\n",
    "total_customers_in_data = len(business_sid_list)\n",
    "print(\"There are\" , total_customers_in_data , \"unique customers in the dataset\")\n",
    "\n",
    "#Extract business_sid, shipment weight and zone to use for the benchmarking algorithm\n",
    "benchmarking_df = raw_df[['business_sid', 'weight', 'zone']]\n",
    "benchmarking_df.iloc[:,2] = benchmarking_df.iloc[:,2].astype('int64').astype('category') \n",
    "benchmarking_df.head()\n",
    "\n",
    "#Optional code below - to free up memory\n",
    "#del raw_df"
   ]
  },
  {
   "cell_type": "markdown",
   "metadata": {},
   "source": [
    "### Create pivot tables for shipment volume, weight and their respective zone-wise proportions"
   ]
  },
  {
   "cell_type": "code",
   "execution_count": 5,
   "metadata": {},
   "outputs": [],
   "source": [
    "#Create pivot table for volume counts\n",
    "def create_volumeCount_pivotTable(arg_df):\n",
    "    tempvoldf = arg_df.groupby(['business_sid', 'zone']).count()\n",
    "    tempvoldf.columns = ['Count']\n",
    "    volumeCount_pivotTable = pd.pivot_table(tempvoldf, values = 'Count', index = ['business_sid'], columns = 'zone', \n",
    "                     aggfunc = np.sum, fill_value = 0)\n",
    "    if len(volumeCount_pivotTable)!=total_customers_in_data:\n",
    "        print(\"Pivot table created for a subset of all customer IDs\")\n",
    "    return volumeCount_pivotTable\n",
    "####################################################################################################################    \n",
    "#Create pivot table for volume proportions\n",
    "def create_volumeProportion_pivotTable(arg_df):\n",
    "    volumeProportion_pivotTable = arg_df.apply(lambda x: x/x.sum(), axis = 1)\n",
    "    if len(volumeProportion_pivotTable)!=total_customers_in_data:\n",
    "        print(\"Pivot table created for a subset of all customer IDs\")\n",
    "    return volumeProportion_pivotTable\n",
    "####################################################################################################################\n",
    "#Create pivot table for weight counts   \n",
    "def create_weightCount_pivotTable(arg_df):\n",
    "    tempwtdf = arg_df.groupby(['business_sid', 'zone']).sum()\n",
    "    weightSum_pivotTable = pd.pivot_table(tempwtdf, values = 'weight', index = ['business_sid'], columns = 'zone',\n",
    "                                         aggfunc = np.sum, fill_value = 0)\n",
    "    if len(weightSum_pivotTable)!=total_customers_in_data:\n",
    "        print(\"Pivot table created for a subset of all customer IDs\")\n",
    "    return weightSum_pivotTable\n",
    "####################################################################################################################    \n",
    "#Create pivot table for weight proportions\n",
    "def create_weightProportion_pivotTable(arg_df):\n",
    "    weightProportion_pivotTable= arg_df.apply(lambda x: x/x.sum(), axis = 1)\n",
    "    if len(weightProportion_pivotTable)!=total_customers_in_data:\n",
    "        print(\"Pivot table created for a subset of all customer IDs\")\n",
    "    return weightProportion_pivotTable\n",
    "####################################################################################################################    \n",
    "#Combine all pivot tables under a single function\n",
    "#This will come in handy later while calculating similarity scores\n",
    "def create_PivotTables(arg_df):\n",
    "    a = create_volumeCount_pivotTable(arg_df)\n",
    "    b = create_volumeProportion_pivotTable(a)\n",
    "    c = create_weightCount_pivotTable(arg_df)\n",
    "    d = create_weightProportion_pivotTable(c)\n",
    "    return a,b,c,d   "
   ]
  },
  {
   "cell_type": "code",
   "execution_count": 7,
   "metadata": {},
   "outputs": [
    {
     "data": {
      "text/plain": [
       "'\\nvc_table_test = create_volumeCount_pivotTable(benchmarking_df)\\nvc_table_test.head()\\n\\nvp_table_test = create_volumeProportion_pivotTable(vc_table_test)\\nvp_table_test.head()\\n\\nwc_table_test = create_weightCount_pivotTable(benchmarking_df)\\nwc_table_test.head()\\n\\nwp_table_test = create_weightProportion_pivotTable(wc_table_test)\\nwp_table_test.head()\\n'"
      ]
     },
     "execution_count": 7,
     "metadata": {},
     "output_type": "execute_result"
    }
   ],
   "source": [
    "#Sample code for testing\n",
    "'''\n",
    "vc_table_test = create_volumeCount_pivotTable(benchmarking_df)\n",
    "vc_table_test.head()\n",
    "\n",
    "vp_table_test = create_volumeProportion_pivotTable(vc_table_test)\n",
    "vp_table_test.head()\n",
    "\n",
    "wc_table_test = create_weightCount_pivotTable(benchmarking_df)\n",
    "wc_table_test.head()\n",
    "\n",
    "wp_table_test = create_weightProportion_pivotTable(wc_table_test)\n",
    "wp_table_test.head()\n",
    "'''"
   ]
  },
  {
   "cell_type": "code",
   "execution_count": 9,
   "metadata": {},
   "outputs": [],
   "source": [
    "#These table outputs are just a sample for testing\n",
    "# vsitestingdf = vc_table_test.head()\n",
    "# vditestingdf = vp_table_test.head()\n",
    "# wsitestingdf = wc_table_test.head()\n",
    "# wditestingdf = wp_table_test.head()"
   ]
  },
  {
   "cell_type": "code",
   "execution_count": null,
   "metadata": {},
   "outputs": [],
   "source": [
    "vsitestingdf"
   ]
  },
  {
   "cell_type": "code",
   "execution_count": null,
   "metadata": {},
   "outputs": [],
   "source": [
    "vditestingdf"
   ]
  },
  {
   "cell_type": "code",
   "execution_count": null,
   "metadata": {},
   "outputs": [],
   "source": [
    "wsitestingdf"
   ]
  },
  {
   "cell_type": "code",
   "execution_count": null,
   "metadata": {},
   "outputs": [],
   "source": [
    "wditestingdf"
   ]
  },
  {
   "cell_type": "markdown",
   "metadata": {},
   "source": [
    "### Calculate the indices required as input for the Similarity Score calculation"
   ]
  },
  {
   "cell_type": "code",
   "execution_count": 10,
   "metadata": {},
   "outputs": [],
   "source": [
    "def calculate_VSI(sid_in_focus, vsiPivotTable, sid_count, sid_list):\n",
    "    #sid_list = vsiPivotTable.index.values\n",
    "    #sid_count = len(sid_list)\n",
    "    vsi_list = np.empty(sid_count)\n",
    "    sid_in_focus_arr = np.array(vsiPivotTable.loc[sid_in_focus])\n",
    "    comparison_arr = np.array(vsiPivotTable)\n",
    "    for x in range(sid_count):\n",
    "        if(sid_list[x]!=sid_in_focus):\n",
    "            #code for v3\n",
    "            vsi_numerator = np.minimum(sid_in_focus_arr,comparison_arr[x]).sum()\n",
    "            vsi_denominator = np.maximum(sid_in_focus_arr,comparison_arr[x]).sum()\n",
    "            \n",
    "            #code for v2\n",
    "            #vsi_numerator = np.minimum(np.array(vsiPivotTable.loc[sid_in_focus]),np.array(vsiPivotTable.iloc[x])).sum()\n",
    "            #vsi_denominator = np.maximum(np.array(vsiPivotTable.loc[sid_in_focus]),np.array(vsiPivotTable.iloc[x])).sum()\n",
    "         \n",
    "            #code for v1\n",
    "            #vsi_numerator = vsiPivotTable.loc[sid_in_focus].combine(vsiPivotTable.iloc[x], min, 0)\n",
    "            #vsi_denominator = vsiPivotTable.loc[sid_in_focus].combine(vsiPivotTable.iloc[x], max, 0)\n",
    "            #vsi_list[x] = vsi_numerator.sum()/vsi_denominator.sum()\n",
    "            \n",
    "            vsi_list[x] = vsi_numerator/vsi_denominator\n",
    "        else:\n",
    "            vsi_list[x] = -1  # return a value of -1 when comparing a customer to themselves        \n",
    "    return vsi_list\n",
    "####################################################################################################################    \n",
    "def calculate_VDI(sid_in_focus, vdiPivotTable, sid_count, sid_list):\n",
    "    #sid_list = vdiPivotTable.index.values\n",
    "    #sid_count = len(sid_list)\n",
    "    vdi_list = np.empty(sid_count)\n",
    "    sid_in_focus_arr = np.array(vdiPivotTable.loc[sid_in_focus])\n",
    "    comparison_arr = np.array(vdiPivotTable)\n",
    "    for x in range(sid_count):\n",
    "        if(sid_list[x]!=sid_in_focus):\n",
    "            #code for v3\n",
    "            vdi_numerator = np.minimum(sid_in_focus_arr,comparison_arr[x]).sum()\n",
    "            vdi_denominator = np.maximum(sid_in_focus_arr,comparison_arr[x]).sum()\n",
    "            \n",
    "            #code for v2\n",
    "            #vdi_numerator = np.minimum(np.array(vdiPivotTable.loc[sid_in_focus]),np.array(vdiPivotTable.iloc[x])).sum()\n",
    "            #vdi_denominator = np.maximum(np.array(vdiPivotTable.loc[sid_in_focus]),np.array(vdiPivotTable.iloc[x])).sum()\n",
    "            \n",
    "            #code for v1\n",
    "            #vdi_numerator = vdiPivotTable.loc[sid_in_focus].combine(vdiPivotTable.iloc[x], min, 0)\n",
    "            #vdi_denominator = vdiPivotTable.loc[sid_in_focus].combine(vdiPivotTable.iloc[x], max, 0)\n",
    "            vdi_list[x] = vdi_numerator/vdi_denominator\n",
    "        else:\n",
    "            vdi_list[x] = -1  # return a value of -1 when comparing a customer to themselves                \n",
    "    return vdi_list\n",
    "####################################################################################################################    \n",
    "def calculate_WSI(sid_in_focus, wsiPivotTable, sid_count, sid_list):\n",
    "    #sid_list = wsiPivotTable.index.values\n",
    "    #sid_count = len(sid_list)\n",
    "    wsi_list = np.empty(sid_count)\n",
    "    sid_in_focus_arr = np.array(wsiPivotTable.loc[sid_in_focus])\n",
    "    comparison_arr = np.array(wsiPivotTable)\n",
    "    for x in range(sid_count):\n",
    "        if(sid_list[x]!=sid_in_focus):\n",
    "            #code for v3\n",
    "            wsi_numerator = np.minimum(sid_in_focus_arr,comparison_arr[x]).sum()\n",
    "            wsi_denominator = np.maximum(sid_in_focus_arr,comparison_arr[x]).sum()\n",
    "            \n",
    "            #code for v2\n",
    "            #wsi_numerator = np.minimum(np.array(wsiPivotTable.loc[sid_in_focus]),np.array(wsiPivotTable.iloc[x])).sum()\n",
    "            #wsi_denominator = np.maximum(np.array(wsiPivotTable.loc[sid_in_focus]),np.array(wsiPivotTable.iloc[x])).sum()\n",
    "            \n",
    "            #code for v1\n",
    "            #wsi_numerator = wsiPivotTable.loc[sid_in_focus].combine(wsiPivotTable.iloc[x], min, 0)\n",
    "            #wsi_denominator = wsiPivotTable.loc[sid_in_focus].combine(wsiPivotTable.iloc[x], max, 0)\n",
    "            wsi_list[x] = wsi_numerator/wsi_denominator\n",
    "        else:\n",
    "            wsi_list[x] = -1 # return a value of -1 when comparing a customer to themselves            \n",
    "    return wsi_list\n",
    "####################################################################################################################    \n",
    "def calculate_WDI(sid_in_focus, wdiPivotTable, sid_count,sid_list):\n",
    "    #sid_list = wdiPivotTable.index.values\n",
    "    #sid_count = len(sid_list)\n",
    "    wdi_list = np.empty(sid_count)\n",
    "    sid_in_focus_arr = np.array(wdiPivotTable.loc[sid_in_focus])\n",
    "    comparison_arr = np.array(wdiPivotTable)\n",
    "    for x in range(sid_count):\n",
    "        if(sid_list[x]!=sid_in_focus):\n",
    "            #code for v3\n",
    "            wdi_numerator = np.minimum(sid_in_focus_arr,comparison_arr[x]).sum()\n",
    "            wdi_denominator = np.maximum(sid_in_focus_arr,comparison_arr[x]).sum()\n",
    "            \n",
    "            #code for v2\n",
    "            #wdi_numerator = np.minimum(np.array(wdiPivotTable.loc[sid_in_focus]),np.array(wdiPivotTable.iloc[x])).sum()\n",
    "            #wdi_denominator = np.maximum(np.array(wdiPivotTable.loc[sid_in_focus]),np.array(wdiPivotTable.iloc[x])).sum()\n",
    "            \n",
    "            #code for v1\n",
    "            #wdi_numerator = wdiPivotTable.loc[sid_in_focus].combine(wdiPivotTable.iloc[x], min, 0)\n",
    "            #wdi_denominator = wdiPivotTable.loc[sid_in_focus].combine(wdiPivotTable.iloc[x], max, 0)\n",
    "            wdi_list[x] = wdi_numerator/wdi_denominator\n",
    "        else:\n",
    "            wdi_list[x] = -1 # return a value of -1 when comparing a customer to themselves               \n",
    "    return wdi_list"
   ]
  },
  {
   "cell_type": "markdown",
   "metadata": {},
   "source": [
    "## 4. Calculate Similarity Scores"
   ]
  },
  {
   "cell_type": "markdown",
   "metadata": {},
   "source": [
    "There are 2 sets of parameters that can be changed for computing similarity scores:<br>\n",
    " 1. `weight_array`: This stores weights associated with each of the 4 indices calculated above. Changing these will directly impact the Similarity Score values.\n",
    " 2. `customer_subset`: This parameter controls the # of customers against which the Similarity Scores are calculated"
   ]
  },
  {
   "cell_type": "code",
   "execution_count": 11,
   "metadata": {},
   "outputs": [
    {
     "name": "stdout",
     "output_type": "stream",
     "text": [
      "weight_array_sum: 1.0\n",
      "Scores will be checked against 2811 customers\n"
     ]
    }
   ],
   "source": [
    "#The sum of all 4 values MUST always add up to 1\n",
    "#Weights are assigned in the order VSI, VDI, WSI and WDI\n",
    "weight_array = np.array([0.25,0.25,0.25,0.25])\n",
    "print(\"weight_array_sum:\", weight_array.sum())\n",
    "\n",
    "#By default, similarity scores are computed against every customer in the original dataset.\n",
    "#To select a subset of customers, subset the benchmarking_df accordingly(either using head() or pandas subsetting)\n",
    "#benchmarking_df has the following columns: business_sid, weight, zone\n",
    "\n",
    "customer_subset = benchmarking_df\n",
    "print(\"Scores will be checked against\", customer_subset.iloc[:,0].nunique(), \"customers\")"
   ]
  },
  {
   "cell_type": "code",
   "execution_count": 12,
   "metadata": {},
   "outputs": [],
   "source": [
    "allPivots = [x for x in create_PivotTables(customer_subset)]\n",
    "idx_vals = allPivots[0].index.values\n",
    "def calculate_similarity_score(sid_in_focus, pivotTables = allPivots, weights = weight_array): \n",
    "    if(weights.sum()!=1.0):\n",
    "        print(\"Weights do not sum to 1. Check the weight_array parameter.\")\n",
    "        return -1\n",
    "    sid_cnt = len(pivotTables[0].index.values)\n",
    "    vsiList = calculate_VSI(sid_in_focus, vsiPivotTable= pivotTables[0], sid_count = sid_cnt, sid_list = idx_vals)\n",
    "    vdiList = calculate_VDI(sid_in_focus, vdiPivotTable= pivotTables[1], sid_count = sid_cnt, sid_list = idx_vals)\n",
    "    wsiList = calculate_WSI(sid_in_focus, wsiPivotTable= pivotTables[2], sid_count = sid_cnt, sid_list = idx_vals)\n",
    "    wdiList = calculate_WDI(sid_in_focus, wdiPivotTable= pivotTables[3], sid_count = sid_cnt, sid_list = idx_vals) \n",
    "    ss_array = (weight_array[0]*vsiList + \\\n",
    "                weight_array[1]*vdiList + \\\n",
    "                weight_array[2]*wsiList + \\\n",
    "                weight_array[3]*wdiList)*100\n",
    "    return np.round(ss_array,3)"
   ]
  },
  {
   "cell_type": "code",
   "execution_count": 13,
   "metadata": {},
   "outputs": [
    {
     "name": "stdout",
     "output_type": "stream",
     "text": [
      "Wall time: 186 ms\n"
     ]
    },
    {
     "data": {
      "text/plain": [
       "array([19.596, 51.086, 26.118, ..., 15.817, 20.827,  8.906])"
      ]
     },
     "execution_count": 13,
     "metadata": {},
     "output_type": "execute_result"
    }
   ],
   "source": [
    "%%time\n",
    "calculate_similarity_score('7B8E9E45F5')"
   ]
  },
  {
   "cell_type": "code",
   "execution_count": 14,
   "metadata": {},
   "outputs": [
    {
     "name": "stdout",
     "output_type": "stream",
     "text": [
      "Wall time: 178 ms\n"
     ]
    },
    {
     "data": {
      "text/plain": [
       "array([19.596, 51.086, 26.118, ..., 15.817, 20.827,  8.906])"
      ]
     },
     "execution_count": 14,
     "metadata": {},
     "output_type": "execute_result"
    }
   ],
   "source": [
    "%%time\n",
    "calculate_similarity_score('7B8E9E45F5')"
   ]
  },
  {
   "cell_type": "markdown",
   "metadata": {},
   "source": [
    "## 5. Create Similarity Score Matrix"
   ]
  },
  {
   "cell_type": "code",
   "execution_count": 15,
   "metadata": {},
   "outputs": [],
   "source": [
    "#This function only takes the list of all relevant sids as an input and generates the complete similarity score table\n",
    "#Note: This table takes up a large amount of memory if all business_sids are provided in allPivots\n",
    "\n",
    "matrix_cols = allPivots[0].index.values\n",
    "def create_similarity_score_table(sid_list):\n",
    "    similarity_score_table = pd.DataFrame(index = sid_list, columns = matrix_cols).fillna(-1)\n",
    "    for x in sid_list:\n",
    "        row_vals = calculate_similarity_score(sid_in_focus = x)\n",
    "        if row_vals[0]==-1:\n",
    "            break\n",
    "        else:\n",
    "            similarity_score_table.loc[x] = row_vals\n",
    "    return similarity_score_table"
   ]
  },
  {
   "cell_type": "code",
   "execution_count": 16,
   "metadata": {},
   "outputs": [
    {
     "name": "stdout",
     "output_type": "stream",
     "text": [
      "Wall time: 5.48 s\n"
     ]
    }
   ],
   "source": [
    "%%time\n",
    "#Sample IDs from Jose:\n",
    "'''\n",
    "7B8E9E45F5\n",
    "E0518749DD\n",
    "924052DDF5\n",
    "AACOENJW\n",
    "FHVD7BDTDG\n",
    "'''\n",
    "\n",
    "#ref_sids = ['004BB4E8C4', '0071F0E134','008936A589']\n",
    "ref_sids = ['7B8E9E45F5','E0518749DD','924052DDF5','AACOENJW','FHVD7BDTDG']\n",
    "sstable = create_similarity_score_table(ref_sids)\n",
    "sstable"
   ]
  },
  {
   "cell_type": "code",
   "execution_count": 17,
   "metadata": {},
   "outputs": [
    {
     "name": "stdout",
     "output_type": "stream",
     "text": [
      "Wall time: 0 ns\n"
     ]
    }
   ],
   "source": [
    "%%time\n",
    "#Sample IDs from Jose:\n",
    "'''\n",
    "7B8E9E45F5\n",
    "E0518749DD\n",
    "924052DDF5\n",
    "AACOENJW\n",
    "FHVD7BDTDG\n",
    "'''\n",
    "\n",
    "#ref_sids = ['004BB4E8C4', '0071F0E134','008936A589']\n",
    "ref_sids = ['7B8E9E45F5','E0518749DD','924052DDF5','AACOENJW','FHVD7BDTDG']\n",
    "#sstable = create_similarity_score_table('7B8E9E45F5')\n",
    "sstable"
   ]
  },
  {
   "cell_type": "code",
   "execution_count": 18,
   "metadata": {},
   "outputs": [
    {
     "data": {
      "text/html": [
       "<div>\n",
       "<style scoped>\n",
       "    .dataframe tbody tr th:only-of-type {\n",
       "        vertical-align: middle;\n",
       "    }\n",
       "\n",
       "    .dataframe tbody tr th {\n",
       "        vertical-align: top;\n",
       "    }\n",
       "\n",
       "    .dataframe thead th {\n",
       "        text-align: right;\n",
       "    }\n",
       "</style>\n",
       "<table border=\"1\" class=\"dataframe\">\n",
       "  <thead>\n",
       "    <tr style=\"text-align: right;\">\n",
       "      <th></th>\n",
       "      <th>004BB4E8C4</th>\n",
       "      <th>0071F0E134</th>\n",
       "      <th>008936A589</th>\n",
       "      <th>009F7F037A</th>\n",
       "      <th>00B9362597</th>\n",
       "      <th>00BE684C10</th>\n",
       "      <th>00D34BA35B</th>\n",
       "      <th>00E31A2581</th>\n",
       "      <th>00EF728145</th>\n",
       "      <th>010010C13F</th>\n",
       "      <th>...</th>\n",
       "      <th>ZDCQ18XSQ7</th>\n",
       "      <th>ZJ0TWKQX7Z</th>\n",
       "      <th>ZKBSDC62J0</th>\n",
       "      <th>ZP77K0NJFU</th>\n",
       "      <th>ZP85EVXH</th>\n",
       "      <th>ZPOU6IQNXR</th>\n",
       "      <th>ZSDMR6LL8Z</th>\n",
       "      <th>ZX49ECRM1S</th>\n",
       "      <th>ZYBZN1KOJB</th>\n",
       "      <th>ZZS5HUY6YT</th>\n",
       "    </tr>\n",
       "  </thead>\n",
       "  <tbody>\n",
       "    <tr>\n",
       "      <th>7B8E9E45F5</th>\n",
       "      <td>19.596</td>\n",
       "      <td>51.086</td>\n",
       "      <td>26.118</td>\n",
       "      <td>20.741</td>\n",
       "      <td>25.675</td>\n",
       "      <td>5.880</td>\n",
       "      <td>11.813</td>\n",
       "      <td>55.305</td>\n",
       "      <td>24.673</td>\n",
       "      <td>18.578</td>\n",
       "      <td>...</td>\n",
       "      <td>22.038</td>\n",
       "      <td>40.938</td>\n",
       "      <td>9.749</td>\n",
       "      <td>25.165</td>\n",
       "      <td>2.019</td>\n",
       "      <td>14.277</td>\n",
       "      <td>44.031</td>\n",
       "      <td>15.817</td>\n",
       "      <td>20.827</td>\n",
       "      <td>8.906</td>\n",
       "    </tr>\n",
       "    <tr>\n",
       "      <th>E0518749DD</th>\n",
       "      <td>21.346</td>\n",
       "      <td>45.099</td>\n",
       "      <td>40.897</td>\n",
       "      <td>25.521</td>\n",
       "      <td>38.880</td>\n",
       "      <td>13.112</td>\n",
       "      <td>15.549</td>\n",
       "      <td>41.034</td>\n",
       "      <td>34.987</td>\n",
       "      <td>18.018</td>\n",
       "      <td>...</td>\n",
       "      <td>18.129</td>\n",
       "      <td>53.429</td>\n",
       "      <td>5.020</td>\n",
       "      <td>32.974</td>\n",
       "      <td>2.195</td>\n",
       "      <td>11.371</td>\n",
       "      <td>46.355</td>\n",
       "      <td>27.398</td>\n",
       "      <td>25.371</td>\n",
       "      <td>9.483</td>\n",
       "    </tr>\n",
       "    <tr>\n",
       "      <th>924052DDF5</th>\n",
       "      <td>21.346</td>\n",
       "      <td>37.745</td>\n",
       "      <td>34.299</td>\n",
       "      <td>27.925</td>\n",
       "      <td>33.048</td>\n",
       "      <td>6.801</td>\n",
       "      <td>16.036</td>\n",
       "      <td>38.052</td>\n",
       "      <td>27.721</td>\n",
       "      <td>18.331</td>\n",
       "      <td>...</td>\n",
       "      <td>21.960</td>\n",
       "      <td>49.360</td>\n",
       "      <td>5.818</td>\n",
       "      <td>34.332</td>\n",
       "      <td>1.524</td>\n",
       "      <td>12.756</td>\n",
       "      <td>45.282</td>\n",
       "      <td>20.618</td>\n",
       "      <td>27.492</td>\n",
       "      <td>8.648</td>\n",
       "    </tr>\n",
       "    <tr>\n",
       "      <th>AACOENJW</th>\n",
       "      <td>25.598</td>\n",
       "      <td>24.649</td>\n",
       "      <td>44.716</td>\n",
       "      <td>46.826</td>\n",
       "      <td>32.495</td>\n",
       "      <td>3.663</td>\n",
       "      <td>32.508</td>\n",
       "      <td>35.805</td>\n",
       "      <td>25.219</td>\n",
       "      <td>32.311</td>\n",
       "      <td>...</td>\n",
       "      <td>30.169</td>\n",
       "      <td>39.755</td>\n",
       "      <td>13.049</td>\n",
       "      <td>35.167</td>\n",
       "      <td>5.635</td>\n",
       "      <td>25.670</td>\n",
       "      <td>45.130</td>\n",
       "      <td>23.312</td>\n",
       "      <td>46.808</td>\n",
       "      <td>14.766</td>\n",
       "    </tr>\n",
       "    <tr>\n",
       "      <th>FHVD7BDTDG</th>\n",
       "      <td>27.705</td>\n",
       "      <td>19.498</td>\n",
       "      <td>44.857</td>\n",
       "      <td>59.232</td>\n",
       "      <td>29.089</td>\n",
       "      <td>2.077</td>\n",
       "      <td>41.990</td>\n",
       "      <td>32.798</td>\n",
       "      <td>18.313</td>\n",
       "      <td>33.485</td>\n",
       "      <td>...</td>\n",
       "      <td>28.666</td>\n",
       "      <td>45.517</td>\n",
       "      <td>13.944</td>\n",
       "      <td>41.055</td>\n",
       "      <td>7.401</td>\n",
       "      <td>23.403</td>\n",
       "      <td>49.544</td>\n",
       "      <td>21.353</td>\n",
       "      <td>58.052</td>\n",
       "      <td>18.161</td>\n",
       "    </tr>\n",
       "  </tbody>\n",
       "</table>\n",
       "<p>5 rows × 2811 columns</p>\n",
       "</div>"
      ],
      "text/plain": [
       "            004BB4E8C4  0071F0E134  008936A589  009F7F037A  00B9362597  \\\n",
       "7B8E9E45F5      19.596      51.086      26.118      20.741      25.675   \n",
       "E0518749DD      21.346      45.099      40.897      25.521      38.880   \n",
       "924052DDF5      21.346      37.745      34.299      27.925      33.048   \n",
       "AACOENJW        25.598      24.649      44.716      46.826      32.495   \n",
       "FHVD7BDTDG      27.705      19.498      44.857      59.232      29.089   \n",
       "\n",
       "            00BE684C10  00D34BA35B  00E31A2581  00EF728145  010010C13F  ...  \\\n",
       "7B8E9E45F5       5.880      11.813      55.305      24.673      18.578  ...   \n",
       "E0518749DD      13.112      15.549      41.034      34.987      18.018  ...   \n",
       "924052DDF5       6.801      16.036      38.052      27.721      18.331  ...   \n",
       "AACOENJW         3.663      32.508      35.805      25.219      32.311  ...   \n",
       "FHVD7BDTDG       2.077      41.990      32.798      18.313      33.485  ...   \n",
       "\n",
       "            ZDCQ18XSQ7  ZJ0TWKQX7Z  ZKBSDC62J0  ZP77K0NJFU  ZP85EVXH  \\\n",
       "7B8E9E45F5      22.038      40.938       9.749      25.165     2.019   \n",
       "E0518749DD      18.129      53.429       5.020      32.974     2.195   \n",
       "924052DDF5      21.960      49.360       5.818      34.332     1.524   \n",
       "AACOENJW        30.169      39.755      13.049      35.167     5.635   \n",
       "FHVD7BDTDG      28.666      45.517      13.944      41.055     7.401   \n",
       "\n",
       "            ZPOU6IQNXR  ZSDMR6LL8Z  ZX49ECRM1S  ZYBZN1KOJB  ZZS5HUY6YT  \n",
       "7B8E9E45F5      14.277      44.031      15.817      20.827       8.906  \n",
       "E0518749DD      11.371      46.355      27.398      25.371       9.483  \n",
       "924052DDF5      12.756      45.282      20.618      27.492       8.648  \n",
       "AACOENJW        25.670      45.130      23.312      46.808      14.766  \n",
       "FHVD7BDTDG      23.403      49.544      21.353      58.052      18.161  \n",
       "\n",
       "[5 rows x 2811 columns]"
      ]
     },
     "execution_count": 18,
     "metadata": {},
     "output_type": "execute_result"
    }
   ],
   "source": [
    "sstable"
   ]
  },
  {
   "cell_type": "markdown",
   "metadata": {},
   "source": [
    "## 6. Identify Similar Customers"
   ]
  },
  {
   "cell_type": "markdown",
   "metadata": {},
   "source": [
    "### Steps:\n",
    "0. Select an SID via user input\n",
    "1. Retrieve Similarity Scores(SS) against every other SID\n",
    "2. Calculate a `threshold score` for a given(user-selected) percentile\n",
    "3. Retrieve SIDs whose scores are greater than or equal to `threshold_score`"
   ]
  },
  {
   "cell_type": "code",
   "execution_count": 19,
   "metadata": {},
   "outputs": [
    {
     "data": {
      "text/html": [
       "<div>\n",
       "<style scoped>\n",
       "    .dataframe tbody tr th:only-of-type {\n",
       "        vertical-align: middle;\n",
       "    }\n",
       "\n",
       "    .dataframe tbody tr th {\n",
       "        vertical-align: top;\n",
       "    }\n",
       "\n",
       "    .dataframe thead th {\n",
       "        text-align: right;\n",
       "    }\n",
       "</style>\n",
       "<table border=\"1\" class=\"dataframe\">\n",
       "  <thead>\n",
       "    <tr style=\"text-align: right;\">\n",
       "      <th></th>\n",
       "      <th>004BB4E8C4</th>\n",
       "      <th>0071F0E134</th>\n",
       "      <th>008936A589</th>\n",
       "      <th>009F7F037A</th>\n",
       "      <th>00B9362597</th>\n",
       "      <th>00BE684C10</th>\n",
       "      <th>00D34BA35B</th>\n",
       "      <th>00E31A2581</th>\n",
       "      <th>00EF728145</th>\n",
       "      <th>010010C13F</th>\n",
       "    </tr>\n",
       "  </thead>\n",
       "  <tbody>\n",
       "    <tr>\n",
       "      <th>004BB4E8C4</th>\n",
       "      <td>-100.000</td>\n",
       "      <td>12.364</td>\n",
       "      <td>31.161</td>\n",
       "      <td>27.956</td>\n",
       "      <td>19.526</td>\n",
       "      <td>19.485</td>\n",
       "      <td>28.155</td>\n",
       "      <td>19.554</td>\n",
       "      <td>17.934</td>\n",
       "      <td>44.321</td>\n",
       "    </tr>\n",
       "    <tr>\n",
       "      <th>0071F0E134</th>\n",
       "      <td>12.364</td>\n",
       "      <td>-100.000</td>\n",
       "      <td>24.423</td>\n",
       "      <td>11.835</td>\n",
       "      <td>37.984</td>\n",
       "      <td>26.802</td>\n",
       "      <td>8.711</td>\n",
       "      <td>47.551</td>\n",
       "      <td>33.068</td>\n",
       "      <td>19.507</td>\n",
       "    </tr>\n",
       "    <tr>\n",
       "      <th>008936A589</th>\n",
       "      <td>31.161</td>\n",
       "      <td>24.423</td>\n",
       "      <td>-100.000</td>\n",
       "      <td>51.938</td>\n",
       "      <td>57.435</td>\n",
       "      <td>19.029</td>\n",
       "      <td>45.774</td>\n",
       "      <td>30.227</td>\n",
       "      <td>31.619</td>\n",
       "      <td>40.284</td>\n",
       "    </tr>\n",
       "    <tr>\n",
       "      <th>009F7F037A</th>\n",
       "      <td>27.956</td>\n",
       "      <td>11.835</td>\n",
       "      <td>51.938</td>\n",
       "      <td>-100.000</td>\n",
       "      <td>33.888</td>\n",
       "      <td>7.944</td>\n",
       "      <td>65.099</td>\n",
       "      <td>20.470</td>\n",
       "      <td>14.790</td>\n",
       "      <td>37.378</td>\n",
       "    </tr>\n",
       "    <tr>\n",
       "      <th>00B9362597</th>\n",
       "      <td>19.526</td>\n",
       "      <td>37.984</td>\n",
       "      <td>57.435</td>\n",
       "      <td>33.888</td>\n",
       "      <td>-100.000</td>\n",
       "      <td>25.800</td>\n",
       "      <td>26.170</td>\n",
       "      <td>27.153</td>\n",
       "      <td>36.935</td>\n",
       "      <td>25.187</td>\n",
       "    </tr>\n",
       "    <tr>\n",
       "      <th>00BE684C10</th>\n",
       "      <td>19.485</td>\n",
       "      <td>26.802</td>\n",
       "      <td>19.029</td>\n",
       "      <td>7.944</td>\n",
       "      <td>25.800</td>\n",
       "      <td>-100.000</td>\n",
       "      <td>7.403</td>\n",
       "      <td>13.344</td>\n",
       "      <td>34.724</td>\n",
       "      <td>15.053</td>\n",
       "    </tr>\n",
       "    <tr>\n",
       "      <th>00D34BA35B</th>\n",
       "      <td>28.155</td>\n",
       "      <td>8.711</td>\n",
       "      <td>45.774</td>\n",
       "      <td>65.099</td>\n",
       "      <td>26.170</td>\n",
       "      <td>7.403</td>\n",
       "      <td>-100.000</td>\n",
       "      <td>19.550</td>\n",
       "      <td>14.964</td>\n",
       "      <td>32.566</td>\n",
       "    </tr>\n",
       "    <tr>\n",
       "      <th>00E31A2581</th>\n",
       "      <td>19.554</td>\n",
       "      <td>47.551</td>\n",
       "      <td>30.227</td>\n",
       "      <td>20.470</td>\n",
       "      <td>27.153</td>\n",
       "      <td>13.344</td>\n",
       "      <td>19.550</td>\n",
       "      <td>-100.000</td>\n",
       "      <td>21.625</td>\n",
       "      <td>30.230</td>\n",
       "    </tr>\n",
       "    <tr>\n",
       "      <th>00EF728145</th>\n",
       "      <td>17.934</td>\n",
       "      <td>33.068</td>\n",
       "      <td>31.619</td>\n",
       "      <td>14.790</td>\n",
       "      <td>36.935</td>\n",
       "      <td>34.724</td>\n",
       "      <td>14.964</td>\n",
       "      <td>21.625</td>\n",
       "      <td>-100.000</td>\n",
       "      <td>29.935</td>\n",
       "    </tr>\n",
       "    <tr>\n",
       "      <th>010010C13F</th>\n",
       "      <td>44.321</td>\n",
       "      <td>19.507</td>\n",
       "      <td>40.284</td>\n",
       "      <td>37.378</td>\n",
       "      <td>25.187</td>\n",
       "      <td>15.053</td>\n",
       "      <td>32.566</td>\n",
       "      <td>30.230</td>\n",
       "      <td>29.935</td>\n",
       "      <td>-100.000</td>\n",
       "    </tr>\n",
       "  </tbody>\n",
       "</table>\n",
       "</div>"
      ],
      "text/plain": [
       "            004BB4E8C4  0071F0E134  008936A589  009F7F037A  00B9362597  \\\n",
       "004BB4E8C4    -100.000      12.364      31.161      27.956      19.526   \n",
       "0071F0E134      12.364    -100.000      24.423      11.835      37.984   \n",
       "008936A589      31.161      24.423    -100.000      51.938      57.435   \n",
       "009F7F037A      27.956      11.835      51.938    -100.000      33.888   \n",
       "00B9362597      19.526      37.984      57.435      33.888    -100.000   \n",
       "00BE684C10      19.485      26.802      19.029       7.944      25.800   \n",
       "00D34BA35B      28.155       8.711      45.774      65.099      26.170   \n",
       "00E31A2581      19.554      47.551      30.227      20.470      27.153   \n",
       "00EF728145      17.934      33.068      31.619      14.790      36.935   \n",
       "010010C13F      44.321      19.507      40.284      37.378      25.187   \n",
       "\n",
       "            00BE684C10  00D34BA35B  00E31A2581  00EF728145  010010C13F  \n",
       "004BB4E8C4      19.485      28.155      19.554      17.934      44.321  \n",
       "0071F0E134      26.802       8.711      47.551      33.068      19.507  \n",
       "008936A589      19.029      45.774      30.227      31.619      40.284  \n",
       "009F7F037A       7.944      65.099      20.470      14.790      37.378  \n",
       "00B9362597      25.800      26.170      27.153      36.935      25.187  \n",
       "00BE684C10    -100.000       7.403      13.344      34.724      15.053  \n",
       "00D34BA35B       7.403    -100.000      19.550      14.964      32.566  \n",
       "00E31A2581      13.344      19.550    -100.000      21.625      30.230  \n",
       "00EF728145      34.724      14.964      21.625    -100.000      29.935  \n",
       "010010C13F      15.053      32.566      30.230      29.935    -100.000  "
      ]
     },
     "execution_count": 19,
     "metadata": {},
     "output_type": "execute_result"
    }
   ],
   "source": [
    "#Quickstart for full matrix analysis\n",
    "matrix_dir = os.getcwd()+ \"\\\\data\\\\full_similarity_score_table.pickle\"\n",
    "full_ss_matrix = pd.read_pickle(matrix_dir)\n",
    "#full_ss_matrix.describe()\n",
    "full_ss_matrix.head(10).iloc[:,:10]"
   ]
  },
  {
   "cell_type": "code",
   "execution_count": 20,
   "metadata": {},
   "outputs": [
    {
     "name": "stdout",
     "output_type": "stream",
     "text": [
      "(3148, 3148)\n",
      "3148 SIDs in the SS matrix\n"
     ]
    }
   ],
   "source": [
    "#Convert datarame to numpy array for performance\n",
    "full_ss_matrix_optimized = np.array(full_ss_matrix)\n",
    "print(full_ss_matrix_optimized.shape)\n",
    "\n",
    "#Collect all sid values\n",
    "full_matrix_indices = np.array(full_ss_matrix.index.values)\n",
    "print(len(full_matrix_indices), 'SIDs in the SS matrix')"
   ]
  },
  {
   "cell_type": "markdown",
   "metadata": {},
   "source": [
    "### Step 0. Select an SID via user input"
   ]
  },
  {
   "cell_type": "code",
   "execution_count": 21,
   "metadata": {},
   "outputs": [],
   "source": [
    "#Sample IDs from Jose:\n",
    "'''\n",
    "7B8E9E45F5\n",
    "E0518749DD\n",
    "924052DDF5\n",
    "AACOENJW\n",
    "FHVD7BDTDG\n",
    "'''\n",
    "ref_sids = ['7B8E9E45F5','E0518749DD','924052DDF5','AACOENJW','FHVD7BDTDG']"
   ]
  },
  {
   "cell_type": "markdown",
   "metadata": {},
   "source": [
    "### Step 1. Retrieve Similarity Scores(SS) against every other SID"
   ]
  },
  {
   "cell_type": "code",
   "execution_count": 22,
   "metadata": {},
   "outputs": [
    {
     "name": "stdout",
     "output_type": "stream",
     "text": [
      "7B8E9E45F5\n"
     ]
    },
    {
     "data": {
      "text/plain": [
       "array([16.012, 50.154, 27.731, ...,  3.844, 14.677, 15.928])"
      ]
     },
     "execution_count": 22,
     "metadata": {},
     "output_type": "execute_result"
    }
   ],
   "source": [
    "#%%time\n",
    "def get_raw_scores(sid):\n",
    "    #Retrieve the index at which the requested sid is present in the SS matrix\n",
    "    test_sid_idx = np.where(full_matrix_indices==sid)[0][0]\n",
    "    #Return the SS array\n",
    "    raw_score_array = full_ss_matrix_optimized[test_sid_idx]\n",
    "    #Change NANs to 0\n",
    "    raw_score_array[np.isnan(raw_score_array)]=0\n",
    "    #Identify indices where scores <=0 are currently present\n",
    "    dirty_score_idx = np.where(raw_score_array<=0)\n",
    "    #print(dirty_score_idx)\n",
    "    #Update these indices with a different value (0.0001 is chosen here)\n",
    "    clean_scores = raw_score_array\n",
    "    #print(clean_scores[0:5])\n",
    "    np.put(clean_scores,dirty_score_idx, np.full(shape = len(dirty_score_idx),fill_value = 0.0001))\n",
    "    #print(clean_scores[0:5])\n",
    "    return np.array(clean_scores)\n",
    "    \n",
    "test_sid = ref_sids[0]#full_matrix_indices[0]\n",
    "print(test_sid)#\n",
    "raw_score_array = get_raw_scores(test_sid)\n",
    "raw_score_array"
   ]
  },
  {
   "cell_type": "markdown",
   "metadata": {},
   "source": [
    "### Step 2: Calculate SS threshold for a given percentile"
   ]
  },
  {
   "cell_type": "code",
   "execution_count": 23,
   "metadata": {},
   "outputs": [
    {
     "name": "stdout",
     "output_type": "stream",
     "text": [
      "Threshold score at 95 %ile 39.483\n",
      "Threshold score at 90 %ile 33.909\n",
      "Threshold score at 85 %ile 30.828\n",
      "Threshold score at 80 %ile 28.869\n",
      "Threshold score at 75 %ile 27.344\n"
     ]
    }
   ],
   "source": [
    "#For a given sid and percentile, this function returns both the normalized and raw threshold similarity score value. \n",
    "#All sids with a similarity score higher than the normalized threshold value will be deemed 'similar customers'\n",
    "#at the given percentile(default 90th %ile) level\n",
    "\n",
    "#without normalization\n",
    "def ss_threshold(sid, percentile = 90):\n",
    "    #First, calculate the normalized threshold score. This will be used for identifying similar customers\n",
    "    normalized_ref_scores = get_raw_scores(sid)\n",
    "    #print(normalized_ref_scores)#get_normalized_scores(sid) \n",
    "    normalized_ref_mean = np.nanmean(normalized_ref_scores)\n",
    "    #print(normalized_ref_mean)\n",
    "    normalized_ref_stdev = np.nanstd(normalized_ref_scores)\n",
    "    #print(normalized_ref_stdev)\n",
    "    #print('non-normalized percentile score', np.percentile(normalized_ref_scores, percentile))\n",
    "    normalized_threshold_score = (np.percentile(normalized_ref_scores, percentile))\n",
    "    #print(normalized_threshold_score)\n",
    "    \n",
    "    return np.round(normalized_threshold_score,3)\n",
    "\n",
    "test_sid = ref_sids[0]\n",
    "print('Threshold score at 95 %ile',ss_threshold(test_sid, 95))\n",
    "print('Threshold score at 90 %ile',ss_threshold(test_sid, 90))\n",
    "print('Threshold score at 85 %ile',ss_threshold(test_sid, 85))\n",
    "print('Threshold score at 80 %ile',ss_threshold(test_sid, 80))\n",
    "print('Threshold score at 75 %ile',ss_threshold(test_sid, 75))\n",
    "    "
   ]
  },
  {
   "cell_type": "code",
   "execution_count": 24,
   "metadata": {},
   "outputs": [
    {
     "name": "stdout",
     "output_type": "stream",
     "text": [
      "1.34 ms ± 24.2 µs per loop (mean ± std. dev. of 7 runs, 1000 loops each)\n"
     ]
    }
   ],
   "source": [
    "%%timeit\n",
    "ss_threshold(test_sid, 95)"
   ]
  },
  {
   "cell_type": "markdown",
   "metadata": {},
   "source": [
    "###  Step 3: Retrieve SIDs whose scores are greater than or equal to the threshold score"
   ]
  },
  {
   "cell_type": "code",
   "execution_count": 25,
   "metadata": {},
   "outputs": [
    {
     "name": "stdout",
     "output_type": "stream",
     "text": [
      "Similar customers at 99-%ile 32\n",
      "Similar customers at 95-%ile 158\n",
      "Similar customers at 90-%ile 315\n",
      "Similar customers at 85-%ile 473\n",
      "Similar customers at 80-%ile 630\n",
      "Similar customers at 75-%ile 787\n"
     ]
    }
   ],
   "source": [
    "#This is the function that should be executed for initializing the dashboard when a user logs in and requests \n",
    "#a list of similar customers\n",
    "\n",
    "#This directly returns a list of ALL similar customers that are above a certain percentile threshold(default 90th %ile)\n",
    "\n",
    "def get_similar_customers(input_sid, percentile = 95):\n",
    "    #print(percentile)\n",
    "    inp_sid = input_sid\n",
    "    #Get normalized threshold score for requested sid\n",
    "    normalized_threshold_score = ss_threshold(inp_sid, percentile)\n",
    "    #print('NTS:',normalized_threshold_score)\n",
    "    \n",
    "    \n",
    "    #Get index of requested sid in the full_ss_matrix\n",
    "    sid_idx = np.where(full_matrix_indices==input_sid)[0][0]\n",
    "    #print('sid_idx:',sid_idx)\n",
    "    \n",
    "    #Get normalized scores for the test_sid from the full_ss_matrix\n",
    "    sid_scores = get_raw_scores(full_matrix_indices[sid_idx])\n",
    "    \n",
    "    #First get all scores that are higher than the normalized threshold score\n",
    "    similar_scores = full_ss_matrix_optimized[sid_idx][np.where(sid_scores>=normalized_threshold_score)[0]]\n",
    "    #print(len(similar_scores))\n",
    "    #Then get a list of sids that have scores higher than the normalized threshold score\n",
    "    similar_sids = full_matrix_indices[np.where(sid_scores>=normalized_threshold_score)[0]]\n",
    "    \n",
    "    #Sort scores in descending order\n",
    "    sorted_idx = np.argsort(similar_scores)[::-1]\n",
    "    \n",
    "    #Sort similar_sids in descending order based on scores\n",
    "    sorted_sids = similar_sids[sorted_idx]\n",
    "    \n",
    "    return sorted_sids\n",
    "\n",
    "test_sid = ref_sids[0]\n",
    "print('Similar customers at 99-%ile',len(get_similar_customers(test_sid, 99)))\n",
    "print('Similar customers at 95-%ile',len(get_similar_customers(test_sid, 95)))\n",
    "print('Similar customers at 90-%ile',len(get_similar_customers(test_sid, 90)))\n",
    "print('Similar customers at 85-%ile',len(get_similar_customers(test_sid, 85)))\n",
    "print('Similar customers at 80-%ile',len(get_similar_customers(test_sid, 80)))\n",
    "print('Similar customers at 75-%ile',len(get_similar_customers(test_sid, 75)))"
   ]
  },
  {
   "cell_type": "code",
   "execution_count": 26,
   "metadata": {},
   "outputs": [
    {
     "name": "stdout",
     "output_type": "stream",
     "text": [
      "There are 158 similar customers for sid: 924052DDF5\n",
      "The 10 most similar customers are:\n"
     ]
    },
    {
     "data": {
      "text/plain": [
       "array(['FE845213D0', '94F4546DE0', '2F49D7B816', 'EC5572BDD2',\n",
       "       'D40B0745D8', '7721FE5CD5', '80BB7ED5C3', '2694F1D4B7',\n",
       "       'C95B528306', 'EC1CF6CD07'], dtype=object)"
      ]
     },
     "execution_count": 26,
     "metadata": {},
     "output_type": "execute_result"
    }
   ],
   "source": [
    "#del similar_customer_list\n",
    "similar_customer_list = get_similar_customers(ref_sids[0], 95)\n",
    "print('There are', len(similar_customer_list), 'similar customers', 'for sid:' ,ref_sids[2])\n",
    "print('The 10 most similar customers are:')\n",
    "similar_customer_list[:10]"
   ]
  },
  {
   "cell_type": "markdown",
   "metadata": {},
   "source": [
    "## 7. Calculate and display relevant KPIs"
   ]
  },
  {
   "cell_type": "markdown",
   "metadata": {},
   "source": [
    "List of KPIs to be calculated include (for customer to view their own metrics side-by-side with similar customers):\n",
    "1. Average Customer Spend = (Total charges for every similar customer) / (Total # of shipments by similar customers)\n",
    "2. Average Customer Discount = (Total discounts for every similar customer) / (Total # of shipments by similar customers)\n",
    "3. Average Shipment Weights = (Total shipment weight for every similar customer) / (Total # of shipments by similar customers)\n",
    "4. Average Customer Spend per Shipping Method\n",
    "5. Average Customer Spend per Month (Last 12 Months)\n",
    "6. Average Discounts per Shipping Method\n",
    "7. Average Discounts per Zone\n",
    "8. Proportion of Shipping Method Use\n",
    "9. Volume per Shipping Method"
   ]
  },
  {
   "cell_type": "code",
   "execution_count": 4,
   "metadata": {},
   "outputs": [
    {
     "data": {
      "text/plain": [
       "Index(['year_week', 'business_sid', 'industry', 'sub_industry', 'shipper',\n",
       "       'service_type', 'std_service_type', 'package_count', 'weight',\n",
       "       'shipment_date', 'delivery_date', 'delivery_time', 'freight_charges',\n",
       "       'freight_discount_amount', 'misc_charges', 'misc_discount_amount',\n",
       "       'net_charge_amount', 'zone', 'sender_city', 'sender_state',\n",
       "       'sender_zip', 'recipient_city', 'recipient_state', 'recipient_zip'],\n",
       "      dtype='object')"
      ]
     },
     "execution_count": 4,
     "metadata": {},
     "output_type": "execute_result"
    }
   ],
   "source": [
    "raw_df.columns"
   ]
  },
  {
   "cell_type": "code",
   "execution_count": 5,
   "metadata": {},
   "outputs": [
    {
     "data": {
      "text/html": [
       "<div>\n",
       "<style scoped>\n",
       "    .dataframe tbody tr th:only-of-type {\n",
       "        vertical-align: middle;\n",
       "    }\n",
       "\n",
       "    .dataframe tbody tr th {\n",
       "        vertical-align: top;\n",
       "    }\n",
       "\n",
       "    .dataframe thead th {\n",
       "        text-align: right;\n",
       "    }\n",
       "</style>\n",
       "<table border=\"1\" class=\"dataframe\">\n",
       "  <thead>\n",
       "    <tr style=\"text-align: right;\">\n",
       "      <th></th>\n",
       "      <th>year_week</th>\n",
       "      <th>business_sid</th>\n",
       "      <th>industry</th>\n",
       "      <th>sub_industry</th>\n",
       "      <th>shipper</th>\n",
       "      <th>service_type</th>\n",
       "      <th>std_service_type</th>\n",
       "      <th>package_count</th>\n",
       "      <th>weight</th>\n",
       "      <th>shipment_date</th>\n",
       "      <th>...</th>\n",
       "      <th>misc_charges</th>\n",
       "      <th>misc_discount_amount</th>\n",
       "      <th>net_charge_amount</th>\n",
       "      <th>zone</th>\n",
       "      <th>sender_city</th>\n",
       "      <th>sender_state</th>\n",
       "      <th>sender_zip</th>\n",
       "      <th>recipient_city</th>\n",
       "      <th>recipient_state</th>\n",
       "      <th>recipient_zip</th>\n",
       "    </tr>\n",
       "  </thead>\n",
       "  <tbody>\n",
       "    <tr>\n",
       "      <th>1232555</th>\n",
       "      <td>201903</td>\n",
       "      <td>SOJW8FQCGI</td>\n",
       "      <td>OTHER</td>\n",
       "      <td>OTHER</td>\n",
       "      <td>ups</td>\n",
       "      <td>ground commercial third party</td>\n",
       "      <td>Ground</td>\n",
       "      <td>1</td>\n",
       "      <td>2.0</td>\n",
       "      <td>2019-01-03</td>\n",
       "      <td>...</td>\n",
       "      <td>1.30</td>\n",
       "      <td>0.53</td>\n",
       "      <td>7.82</td>\n",
       "      <td>6</td>\n",
       "      <td>EARTH CITY</td>\n",
       "      <td>MO</td>\n",
       "      <td>63025</td>\n",
       "      <td>LOWELL</td>\n",
       "      <td>MA</td>\n",
       "      <td>01854</td>\n",
       "    </tr>\n",
       "    <tr>\n",
       "      <th>1423326</th>\n",
       "      <td>201849</td>\n",
       "      <td>XKVL2MMJL2</td>\n",
       "      <td>RETAIL</td>\n",
       "      <td>ECOMMERCE</td>\n",
       "      <td>ups</td>\n",
       "      <td>ground residential</td>\n",
       "      <td>Ground</td>\n",
       "      <td>1</td>\n",
       "      <td>4.0</td>\n",
       "      <td>2018-11-26</td>\n",
       "      <td>...</td>\n",
       "      <td>5.09</td>\n",
       "      <td>1.68</td>\n",
       "      <td>10.98</td>\n",
       "      <td>6</td>\n",
       "      <td>TUKWILA</td>\n",
       "      <td>WA</td>\n",
       "      <td>98032</td>\n",
       "      <td>CHULA VISTA</td>\n",
       "      <td>CA</td>\n",
       "      <td>91910</td>\n",
       "    </tr>\n",
       "    <tr>\n",
       "      <th>1516794</th>\n",
       "      <td>201849</td>\n",
       "      <td>BE922CE458</td>\n",
       "      <td>RETAIL</td>\n",
       "      <td>ECOMMERCE</td>\n",
       "      <td>ups</td>\n",
       "      <td>ground commercial</td>\n",
       "      <td>Ground</td>\n",
       "      <td>1</td>\n",
       "      <td>10.0</td>\n",
       "      <td>2018-11-26</td>\n",
       "      <td>...</td>\n",
       "      <td>5.55</td>\n",
       "      <td>1.55</td>\n",
       "      <td>18.06</td>\n",
       "      <td>8</td>\n",
       "      <td>SECAUCUS</td>\n",
       "      <td>NJ</td>\n",
       "      <td>07014</td>\n",
       "      <td>TUCSON</td>\n",
       "      <td>AZ</td>\n",
       "      <td>85756</td>\n",
       "    </tr>\n",
       "  </tbody>\n",
       "</table>\n",
       "<p>3 rows × 24 columns</p>\n",
       "</div>"
      ],
      "text/plain": [
       "         year_week business_sid industry sub_industry shipper  \\\n",
       "1232555     201903   SOJW8FQCGI    OTHER        OTHER     ups   \n",
       "1423326     201849   XKVL2MMJL2   RETAIL    ECOMMERCE     ups   \n",
       "1516794     201849   BE922CE458   RETAIL    ECOMMERCE     ups   \n",
       "\n",
       "                          service_type std_service_type  package_count  \\\n",
       "1232555  ground commercial third party           Ground              1   \n",
       "1423326             ground residential           Ground              1   \n",
       "1516794              ground commercial           Ground              1   \n",
       "\n",
       "         weight shipment_date  ... misc_charges misc_discount_amount  \\\n",
       "1232555     2.0    2019-01-03  ...         1.30                 0.53   \n",
       "1423326     4.0    2018-11-26  ...         5.09                 1.68   \n",
       "1516794    10.0    2018-11-26  ...         5.55                 1.55   \n",
       "\n",
       "         net_charge_amount  zone  sender_city  sender_state  sender_zip  \\\n",
       "1232555               7.82     6   EARTH CITY            MO       63025   \n",
       "1423326              10.98     6      TUKWILA            WA       98032   \n",
       "1516794              18.06     8     SECAUCUS            NJ       07014   \n",
       "\n",
       "        recipient_city recipient_state recipient_zip  \n",
       "1232555         LOWELL              MA         01854  \n",
       "1423326    CHULA VISTA              CA         91910  \n",
       "1516794         TUCSON              AZ         85756  \n",
       "\n",
       "[3 rows x 24 columns]"
      ]
     },
     "execution_count": 5,
     "metadata": {},
     "output_type": "execute_result"
    }
   ],
   "source": [
    "raw_df.head(3)"
   ]
  },
  {
   "cell_type": "markdown",
   "metadata": {},
   "source": [
    "1. create numpy array of business_sids as they appear in raw_df(np.array(raw_df['business_sid])\n",
    "2. create numpy array of net_charge_amount\n",
    "3. get indices of net_charge_amount where business_sids are in the similar_customer_list\n",
    "4. Compute sum of these net_charge_amounts\n",
    "5. divide by length of array in #3\n",
    "\n",
    "full_sid_list = np.array(raw_df['business_sid'])\n",
    "full_net_amount_list = np.array(raw_df['net_charge_amount'])"
   ]
  },
  {
   "cell_type": "code",
   "execution_count": 30,
   "metadata": {},
   "outputs": [
    {
     "data": {
      "image/png": "[encoded data removed]",
      "text/plain": [
       "<Figure size 432x288 with 1 Axes>"
      ]
     },
     "metadata": {},
     "output_type": "display_data"
    },
    {
     "name": "stdout",
     "output_type": "stream",
     "text": [
      "SID 7B8E9E45F5 spends $ 11.55 per shipment on average. Their peers spend $ 15.0 on average.\n"
     ]
    }
   ],
   "source": [
    "#Replace raw_df here with the full_raw_df containing ALL records\n",
    "full_sid_list = np.array(raw_df['business_sid'])\n",
    "full_net_amount_list = np.array(raw_df['net_charge_amount'])\n",
    "\n",
    "def KPI_avg_similar_customer_spend(sid):\n",
    "    #Get list of all similar customers\n",
    "    similar_customer_list = get_similar_customers(sid)\n",
    "    \n",
    "    #Get row indices of transactions for all similar customers in the raw_df\n",
    "    similar_customers_idx = np.isin(full_sid_list, similar_customer_list)\n",
    "    \n",
    "    #The KPI denominator is the # of all transactions by similar customers\n",
    "    KPI_denominator = len(similar_customers_idx.nonzero()[0])\n",
    "    \n",
    "    #The KPI numerator is the total sum of charges paid by similar customers\n",
    "    KPI_numerator = np.sum(full_net_amount_list[similar_customers_idx])\n",
    "    \n",
    "    #Compute KPI\n",
    "    KPI = KPI_numerator/KPI_denominator\n",
    "    \n",
    "    #Also, compute and return the avg. spend of the input sid\n",
    "    input_sid_idx = np.isin(full_sid_list, sid)\n",
    "    input_denominator = len(input_sid_idx.nonzero()[0])\n",
    "    input_numerator = np.sum(full_net_amount_list[input_sid_idx])\n",
    "    input_sid_avg_spend = input_numerator/input_denominator\n",
    "    \n",
    "    #Also, compute the avg. spend of each similar sid\n",
    "    avg_spend_array = np.zeros(len(similar_customer_list))\n",
    "    for i,j in enumerate(similar_customer_list):\n",
    "        #print(i,j)\n",
    "        sim_sid_idx = np.isin(full_sid_list,j)\n",
    "        sim_sid_denom = len(sim_sid_idx.nonzero()[0])\n",
    "        sim_sid_num = np.sum(full_net_amount_list[sim_sid_idx])\n",
    "        avg_spend_array[i] = sim_sid_num/sim_sid_denom\n",
    "        \n",
    "    plt.hist(avg_spend_array,color = 'blue', bins = 15);\n",
    "    plt.xlabel('Average Customer Spend(in $)')\n",
    "    plt.ylabel('No. of Customers')\n",
    "    plt.title('Avg. Customer Spend Distribution')\n",
    "    plt.show();\n",
    "        \n",
    "    print('SID', sid, 'spends $', round(input_sid_avg_spend,2), 'per shipment on average. Their peers spend $',round(KPI,2), 'on average.')    \n",
    "    return np.round([input_sid_avg_spend, KPI], 2)\n",
    "\n",
    "test_sid = ref_sids[0]\n",
    "KPI_avg_spend_values = KPI_avg_similar_customer_spend(test_sid)\n",
    "# print('SID', test_sid, 'spends $', KPI_avg_spend_values[0], 'per shipment on average. Their peers spend $',KPI_avg_spend_values[1], 'on average.')"
   ]
  },
  {
   "cell_type": "code",
   "execution_count": 31,
   "metadata": {},
   "outputs": [
    {
     "data": {
      "image/png": "[encoded data removed]",
      "text/plain": [
       "<Figure size 432x288 with 1 Axes>"
      ]
     },
     "metadata": {},
     "output_type": "display_data"
    },
    {
     "name": "stdout",
     "output_type": "stream",
     "text": [
      "SID 924052DDF5 gets a discount of $ 7.27 per shipment on average. Their peers get $ 10.96 on average.\n",
      "SID 924052DDF5 gets a discount of $ 7.27 per shipment on average. Their peers get $ 10.96 on average.\n"
     ]
    }
   ],
   "source": [
    "full_sid_list = np.array(raw_df['business_sid'])\n",
    "#we need to take absolute values for the freight_discount_amount\n",
    "full_discount_list = np.add(abs(np.array(raw_df['freight_discount_amount'])),\\\n",
    "                            np.array(raw_df['misc_discount_amount'])  )\n",
    "\n",
    "def KPI_avg_discounts(sid):\n",
    "    #Get list of all similar customers\n",
    "    similar_customer_list = get_similar_customers(sid)\n",
    "    \n",
    "    #Get row indices of transactions for all similar customers in the raw_df\n",
    "    similar_customers_idx = np.isin(full_sid_list, similar_customer_list)\n",
    "    \n",
    "    #The KPI denominator is the # of all transactions by similar customers\n",
    "    KPI_denominator = len(similar_customers_idx.nonzero()[0])\n",
    "    \n",
    "    #The KPI numerator is the total sum of charges paid by similar customers\n",
    "    KPI_numerator = np.sum(full_discount_list[similar_customers_idx])\n",
    "    \n",
    "    #Compute KPI\n",
    "    KPI = KPI_numerator/KPI_denominator\n",
    "    \n",
    "    #Also, compute and return the avg. discount of the input sid\n",
    "    input_sid_idx = np.isin(full_sid_list, sid)\n",
    "    input_denominator = len(input_sid_idx.nonzero()[0])\n",
    "    input_numerator = np.sum(full_discount_list[input_sid_idx])\n",
    "    input_sid_avg_discount = input_numerator/input_denominator\n",
    "    \n",
    "    #Also, compute the avg. discount of each similar sid\n",
    "    avg_discount_array = np.zeros(len(similar_customer_list))\n",
    "    for i,j in enumerate(similar_customer_list):\n",
    "        #print(i,j)\n",
    "        sim_sid_idx = np.isin(full_sid_list,j)\n",
    "        sim_sid_denom = len(sim_sid_idx.nonzero()[0])\n",
    "        sim_sid_num = np.sum(full_discount_list[sim_sid_idx])\n",
    "        avg_discount_array[i] = sim_sid_num/sim_sid_denom\n",
    "        \n",
    "    plt.hist(avg_discount_array,color = 'green', bins = 15);\n",
    "    plt.xlabel('Average Customer Discount(in $)')\n",
    "    plt.ylabel('No. of Customers')\n",
    "    plt.title('Avg. Customer Discount Distribution')\n",
    "    plt.show();\n",
    "    \n",
    "    print('SID', sid, 'gets a discount of $', round(input_sid_avg_discount,2), 'per shipment on average. Their peers get $',round(KPI,2), 'on average.')    \n",
    "    return np.round([input_sid_avg_discount, KPI], 2)\n",
    "\n",
    "test_sid = ref_sids[2]\n",
    "KPI_avg_discount_values = KPI_avg_discounts(test_sid)\n",
    "print('SID', test_sid, 'gets a discount of $', KPI_avg_discount_values[0], 'per shipment on average. Their peers get $',KPI_avg_discount_values[1], 'on average.')"
   ]
  },
  {
   "cell_type": "code",
   "execution_count": 15,
   "metadata": {},
   "outputs": [
    {
     "data": {
      "text/plain": [
       "array(['Ground', 'Smartpost', 'Home Delivery', '2Day', 'Surepost',\n",
       "       'Priority Overnight', 'Express Saver', '2nd Day Air',\n",
       "       'Next Day Air', '2Day AM', 'Standard Overnight', '3 Day Select',\n",
       "       'First Overnight', 'Next Day Air Early', '2nd Day Air A.M.',\n",
       "       'Standard'], dtype=object)"
      ]
     },
     "execution_count": 15,
     "metadata": {},
     "output_type": "execute_result"
    }
   ],
   "source": [
    "raw_df.std_service_type.unique()"
   ]
  },
  {
   "cell_type": "code",
   "execution_count": 6,
   "metadata": {},
   "outputs": [],
   "source": [
    "'''\n",
    "Method to add standard timeframes (as provided by Jose) as a new feature\n",
    "This new feature will then be used to calculate KPI's by the \n",
    "create_customer_KPI_database function.\n",
    "'''\n",
    "def add_standard_methods(arg_df):\n",
    "    arg_df = arg_df.reset_index()\n",
    "    # Creating and filling the dictionary with the correct mappings of standardized windows/timeframes\n",
    "    std_timeframes_dict = {}\n",
    "    for method in raw_df.std_service_type.unique():\n",
    "        if method == 'Ground':\n",
    "            std_timeframes_dict['Ground'] = \"Ground\"\n",
    "        elif method == 'Smartpost':\n",
    "            std_timeframes_dict['Smartpost'] = \"Ground\"\n",
    "        elif method == 'Home Delivery':\n",
    "            std_timeframes_dict['Home Delivery'] = \"Ground\"\n",
    "        elif method == '2Day':\n",
    "            std_timeframes_dict['2Day'] = \"2nd day EOD\"\n",
    "        elif method == 'Surepost':\n",
    "            std_timeframes_dict['Surepost'] = \"Ground\"\n",
    "        elif method == 'Priority Overnight':\n",
    "            std_timeframes_dict['Priority Overnight'] = \"Next Day 10.30 am\"\n",
    "        elif method == 'Express Saver':\n",
    "            std_timeframes_dict['Express Saver'] = \"3 day\"\n",
    "        elif method == '2nd Day Air':\n",
    "            std_timeframes_dict['2nd Day Air'] = \"2nd day EOD\"\n",
    "        elif method == 'Next Day Air':\n",
    "            std_timeframes_dict['Next Day Air'] = \"Next Day 3 pm\"\n",
    "        elif method == '2Day AM':\n",
    "            std_timeframes_dict['2Day AM'] = \"2nd day am\"\n",
    "        elif method == 'Standard Overnight':\n",
    "            std_timeframes_dict['Standard Overnight'] = \"Next Day 3 pm\"\n",
    "        elif method == '3 Day Select':\n",
    "            std_timeframes_dict['3 Day Select'] = \"3 day\"\n",
    "        elif method == 'First Overnight':\n",
    "            std_timeframes_dict['First Overnight'] = \"Next Day 10.30 am\"\n",
    "        elif method == 'Next Day Air Early':\n",
    "            std_timeframes_dict['Next Day Air Early'] = \"Next Day 8 am\"\n",
    "        elif method == '2nd Day Air A.M.':\n",
    "            std_timeframes_dict['2nd Day Air A.M.'] = \"2nd day am\"\n",
    "        elif method == 'Standard':\n",
    "            std_timeframes_dict['Standard'] = \"Ground\"\n",
    "    \n",
    "    new_df = np.array(arg_df['std_service_type'])\n",
    "    # Array to hold standard windows/timeframes to be appended to df\n",
    "    std_timeframes = []\n",
    "\n",
    "    for method in new_df:\n",
    "        std_timeframes.append(std_timeframes_dict[method])\n",
    "\n",
    "    df = pd.DataFrame(std_timeframes)\n",
    "    df.columns = ['std_timeframes']\n",
    "    \n",
    "    complete_df = pd.concat([arg_df, df], axis = 1)\n",
    "    return complete_df"
   ]
  },
  {
   "cell_type": "code",
   "execution_count": 7,
   "metadata": {},
   "outputs": [
    {
     "data": {
      "text/html": [
       "<div>\n",
       "<style scoped>\n",
       "    .dataframe tbody tr th:only-of-type {\n",
       "        vertical-align: middle;\n",
       "    }\n",
       "\n",
       "    .dataframe tbody tr th {\n",
       "        vertical-align: top;\n",
       "    }\n",
       "\n",
       "    .dataframe thead th {\n",
       "        text-align: right;\n",
       "    }\n",
       "</style>\n",
       "<table border=\"1\" class=\"dataframe\">\n",
       "  <thead>\n",
       "    <tr style=\"text-align: right;\">\n",
       "      <th></th>\n",
       "      <th>index</th>\n",
       "      <th>year_week</th>\n",
       "      <th>business_sid</th>\n",
       "      <th>industry</th>\n",
       "      <th>sub_industry</th>\n",
       "      <th>shipper</th>\n",
       "      <th>service_type</th>\n",
       "      <th>std_service_type</th>\n",
       "      <th>package_count</th>\n",
       "      <th>weight</th>\n",
       "      <th>...</th>\n",
       "      <th>misc_discount_amount</th>\n",
       "      <th>net_charge_amount</th>\n",
       "      <th>zone</th>\n",
       "      <th>sender_city</th>\n",
       "      <th>sender_state</th>\n",
       "      <th>sender_zip</th>\n",
       "      <th>recipient_city</th>\n",
       "      <th>recipient_state</th>\n",
       "      <th>recipient_zip</th>\n",
       "      <th>std_timeframes</th>\n",
       "    </tr>\n",
       "  </thead>\n",
       "  <tbody>\n",
       "    <tr>\n",
       "      <th>0</th>\n",
       "      <td>1232555</td>\n",
       "      <td>201903</td>\n",
       "      <td>SOJW8FQCGI</td>\n",
       "      <td>OTHER</td>\n",
       "      <td>OTHER</td>\n",
       "      <td>ups</td>\n",
       "      <td>ground commercial third party</td>\n",
       "      <td>Ground</td>\n",
       "      <td>1</td>\n",
       "      <td>2.0</td>\n",
       "      <td>...</td>\n",
       "      <td>0.53</td>\n",
       "      <td>7.82</td>\n",
       "      <td>6</td>\n",
       "      <td>EARTH CITY</td>\n",
       "      <td>MO</td>\n",
       "      <td>63025</td>\n",
       "      <td>LOWELL</td>\n",
       "      <td>MA</td>\n",
       "      <td>01854</td>\n",
       "      <td>Ground</td>\n",
       "    </tr>\n",
       "    <tr>\n",
       "      <th>1</th>\n",
       "      <td>1423326</td>\n",
       "      <td>201849</td>\n",
       "      <td>XKVL2MMJL2</td>\n",
       "      <td>RETAIL</td>\n",
       "      <td>ECOMMERCE</td>\n",
       "      <td>ups</td>\n",
       "      <td>ground residential</td>\n",
       "      <td>Ground</td>\n",
       "      <td>1</td>\n",
       "      <td>4.0</td>\n",
       "      <td>...</td>\n",
       "      <td>1.68</td>\n",
       "      <td>10.98</td>\n",
       "      <td>6</td>\n",
       "      <td>TUKWILA</td>\n",
       "      <td>WA</td>\n",
       "      <td>98032</td>\n",
       "      <td>CHULA VISTA</td>\n",
       "      <td>CA</td>\n",
       "      <td>91910</td>\n",
       "      <td>Ground</td>\n",
       "    </tr>\n",
       "    <tr>\n",
       "      <th>2</th>\n",
       "      <td>1516794</td>\n",
       "      <td>201849</td>\n",
       "      <td>BE922CE458</td>\n",
       "      <td>RETAIL</td>\n",
       "      <td>ECOMMERCE</td>\n",
       "      <td>ups</td>\n",
       "      <td>ground commercial</td>\n",
       "      <td>Ground</td>\n",
       "      <td>1</td>\n",
       "      <td>10.0</td>\n",
       "      <td>...</td>\n",
       "      <td>1.55</td>\n",
       "      <td>18.06</td>\n",
       "      <td>8</td>\n",
       "      <td>SECAUCUS</td>\n",
       "      <td>NJ</td>\n",
       "      <td>07014</td>\n",
       "      <td>TUCSON</td>\n",
       "      <td>AZ</td>\n",
       "      <td>85756</td>\n",
       "      <td>Ground</td>\n",
       "    </tr>\n",
       "    <tr>\n",
       "      <th>3</th>\n",
       "      <td>1738984</td>\n",
       "      <td>201846</td>\n",
       "      <td>BE922CE458</td>\n",
       "      <td>RETAIL</td>\n",
       "      <td>ECOMMERCE</td>\n",
       "      <td>ups</td>\n",
       "      <td>ground commercial</td>\n",
       "      <td>Ground</td>\n",
       "      <td>1</td>\n",
       "      <td>20.0</td>\n",
       "      <td>...</td>\n",
       "      <td>0.58</td>\n",
       "      <td>8.01</td>\n",
       "      <td>2</td>\n",
       "      <td>SECAUCUS</td>\n",
       "      <td>NJ</td>\n",
       "      <td></td>\n",
       "      <td>BROOKLYN</td>\n",
       "      <td>NY</td>\n",
       "      <td>11211</td>\n",
       "      <td>Ground</td>\n",
       "    </tr>\n",
       "    <tr>\n",
       "      <th>4</th>\n",
       "      <td>164310</td>\n",
       "      <td>201839</td>\n",
       "      <td>VAQ6Q6TLDY</td>\n",
       "      <td>MANUFACTURING</td>\n",
       "      <td>MISC MANUFACTURING INDS MFRS</td>\n",
       "      <td>fedex</td>\n",
       "      <td>ground</td>\n",
       "      <td>Ground</td>\n",
       "      <td>1</td>\n",
       "      <td>15.0</td>\n",
       "      <td>...</td>\n",
       "      <td>0.00</td>\n",
       "      <td>12.00</td>\n",
       "      <td>8</td>\n",
       "      <td>GLENS FALLS</td>\n",
       "      <td>NY</td>\n",
       "      <td>12801</td>\n",
       "      <td>PASCO</td>\n",
       "      <td>WA</td>\n",
       "      <td>99301</td>\n",
       "      <td>Ground</td>\n",
       "    </tr>\n",
       "  </tbody>\n",
       "</table>\n",
       "<p>5 rows × 26 columns</p>\n",
       "</div>"
      ],
      "text/plain": [
       "     index  year_week business_sid       industry  \\\n",
       "0  1232555     201903   SOJW8FQCGI          OTHER   \n",
       "1  1423326     201849   XKVL2MMJL2         RETAIL   \n",
       "2  1516794     201849   BE922CE458         RETAIL   \n",
       "3  1738984     201846   BE922CE458         RETAIL   \n",
       "4   164310     201839   VAQ6Q6TLDY  MANUFACTURING   \n",
       "\n",
       "                   sub_industry shipper                   service_type  \\\n",
       "0                         OTHER     ups  ground commercial third party   \n",
       "1                     ECOMMERCE     ups             ground residential   \n",
       "2                     ECOMMERCE     ups              ground commercial   \n",
       "3                     ECOMMERCE     ups              ground commercial   \n",
       "4  MISC MANUFACTURING INDS MFRS   fedex                         ground   \n",
       "\n",
       "  std_service_type  package_count  weight  ... misc_discount_amount  \\\n",
       "0           Ground              1     2.0  ...                 0.53   \n",
       "1           Ground              1     4.0  ...                 1.68   \n",
       "2           Ground              1    10.0  ...                 1.55   \n",
       "3           Ground              1    20.0  ...                 0.58   \n",
       "4           Ground              1    15.0  ...                 0.00   \n",
       "\n",
       "  net_charge_amount zone  sender_city  sender_state  sender_zip  \\\n",
       "0              7.82    6   EARTH CITY            MO       63025   \n",
       "1             10.98    6      TUKWILA            WA       98032   \n",
       "2             18.06    8     SECAUCUS            NJ       07014   \n",
       "3              8.01    2     SECAUCUS            NJ               \n",
       "4             12.00    8  GLENS FALLS            NY       12801   \n",
       "\n",
       "   recipient_city  recipient_state recipient_zip std_timeframes  \n",
       "0          LOWELL               MA         01854         Ground  \n",
       "1     CHULA VISTA               CA         91910         Ground  \n",
       "2          TUCSON               AZ         85756         Ground  \n",
       "3        BROOKLYN               NY         11211         Ground  \n",
       "4           PASCO               WA         99301         Ground  \n",
       "\n",
       "[5 rows x 26 columns]"
      ]
     },
     "execution_count": 7,
     "metadata": {},
     "output_type": "execute_result"
    }
   ],
   "source": [
    "# To test the above method\n",
    "this_df = add_standard_methods(raw_df)\n",
    "this_df.head()"
   ]
  },
  {
   "cell_type": "code",
   "execution_count": 34,
   "metadata": {},
   "outputs": [],
   "source": [
    "'''\n",
    "Function to create the dataframe to be imported into a database which would then be\n",
    "queried each time a similarity calculation is made.\n",
    "\n",
    "The eight KPI Metrics are as follows:\n",
    "    1. Average total spend (1 column)\n",
    "    2. Average total discounts (1 column)\n",
    "    3. Average spend per shipping method (7 columns)\n",
    "    4. Average discounts per shipping method (7 columns)\n",
    "    5. Average spend per month (12 columns)\n",
    "    6. Average discounts per zone (However many columns for zones used)\n",
    "    7. Proportion of shipping methods used (7 columns)\n",
    "    8. Total volume shipped per shipping method (7 columns)\n",
    "    9. Proportion of each carrier (FedEx, UPS) used (2 columns)\n",
    "'''\n",
    "def create_customer_KPI_database(arg_df):\n",
    "    \n",
    "    # Add the new feature for standard method windows/timeframes as provided by Jose\n",
    "    arg_df = add_standard_methods(arg_df)\n",
    "    \n",
    "    ################################################################\n",
    "    # 1. Average total spend\n",
    "    avg_spend_df = arg_df[['business_sid', 'net_charge_amount']]\n",
    "    avg_tot_spend = avg_spend_df.groupby(['business_sid']).mean()\n",
    "    avg_tot_spend.columns = ['avg_tot_spend']\n",
    "    \n",
    "    ################################################################\n",
    "    # 2. Average total discounts\n",
    "    avg_disc_df = arg_df[['business_sid', 'freight_discount_amount']]\n",
    "    avg_tot_discounts = abs(avg_disc_df.groupby(['business_sid']).mean())\n",
    "    avg_tot_discounts.columns = ['avg_tot_discounts']\n",
    "    \n",
    "    ################################################################\n",
    "    # 3. Pivot table for average spend per method\n",
    "    avg_spend_per_method_pt = pd.pivot_table(arg_df, values = 'net_charge_amount', \n",
    "                                            index = ['business_sid'], \n",
    "                                            columns = 'std_timeframes', \n",
    "                                            aggfunc = np.mean, fill_value = 0)\n",
    "    \n",
    "    avg_spend_per_method_pt.columns = ['avg_spend_Ground', 'avg_spend_2nd_day_EOD', 'avg_spend_Next_Day_10.30_am', \n",
    "                                       'avg_spend_3_day', 'avg_spend_Next_Day_3_pm', 'avg_spend_2nd_day_am', \n",
    "                                       'avg_spend_Next_Day_8_am']\n",
    "    \n",
    "    ################################################################\n",
    "    # 4. Pivot table for average spend per month\n",
    "    arg_df['month'] = arg_df.shipment_date.dt.month\n",
    "    avg_spend_per_month_pt = pd.pivot_table(arg_df, values = 'net_charge_amount',\n",
    "                                           index = ['business_sid'],\n",
    "                                           columns = 'month',\n",
    "                                           aggfunc = np.mean, fill_value = 0)\n",
    "    \n",
    "    avg_spend_per_month_pt.columns = ['avg_spend_Jan', 'avg_spend_Feb', 'avg_spend_Mar', 'avg_spend_Apr', \n",
    "                                      'avg_spend_May', 'avg_spend_Jun', 'avg_spend_Jul', 'avg_spend_Aug', \n",
    "                                      'avg_spend_Sep', 'avg_spend_Oct', 'avg_spend_Nov', 'avg_spend_Dec']\n",
    "    \n",
    "    ################################################################\n",
    "    # 5. Pivot table for average discount per method\n",
    "    avg_disc_per_method_pt = abs(pd.pivot_table(arg_df, values = 'freight_discount_amount',\n",
    "                                           index = ['business_sid'],\n",
    "                                           columns = 'std_timeframes',\n",
    "                                           aggfunc = np.mean, fill_value = 0))\n",
    "    \n",
    "    avg_disc_per_method_pt.columns = ['avg_disc_Ground', 'avg_disc_2nd_day_EOD', 'avg_disc_Next_Day_10.30_am', \n",
    "                                       'avg_disc_3_day', 'avg_disc_Next_Day_3_pm', 'avg_disc_2nd_day_am', \n",
    "                                       'avg_disc_Next_Day_8_am']\n",
    "    \n",
    "    ################################################################\n",
    "    # 6. Pivot table for average discount per zone\n",
    "    avg_disc_per_zone_pt = abs(pd.pivot_table(arg_df, values = 'freight_discount_amount',\n",
    "                                           index = ['business_sid'],\n",
    "                                           columns = 'zone',\n",
    "                                           aggfunc = np.mean, fill_value = 0))\n",
    "    \n",
    "    avg_disc_per_zone_pt_columns = []\n",
    "    for zone in avg_disc_per_zone_pt.columns:\n",
    "        avg_disc_per_zone_pt_columns.append(\"avg_disc_zone_\" + str(zone))\n",
    "    \n",
    "    avg_disc_per_zone_pt.columns = avg_disc_per_zone_pt_columns\n",
    "    \n",
    "    ################################################################\n",
    "    # 7. Proportions of shipping methods used\n",
    "    prop_methods_df = arg_df[['business_sid', 'weight', 'std_timeframes']]\n",
    "    tempvoldf = prop_methods_df.groupby(['business_sid', 'std_timeframes']).count()\n",
    "    tempvoldf.columns = ['Count']\n",
    "    volume_count_method_pt = pd.pivot_table(tempvoldf, values = 'Count', index = ['business_sid'], columns = 'std_timeframes', \n",
    "                     aggfunc = np.sum, fill_value = 0)\n",
    "    \n",
    "    volume_proportion_per_method = volume_count_method_pt.apply(lambda x: x/x.sum(), axis = 1)\n",
    "    \n",
    "    volume_proportion_per_method.columns = ['vp_Ground', 'vp_2nd_day_EOD', 'vp_Next_Day_10.30_am', \n",
    "                                       'vp_3_day', 'vp_Next_Day_3_pm', 'vp_2nd_day_am', \n",
    "                                       'vp_Next_Day_8_am']\n",
    "    \n",
    "    ################################################################\n",
    "    # 8. Total volume per method used\n",
    "    tot_vol_method_df = arg_df[['business_sid', 'weight', 'std_timeframes']]\n",
    "    tempvol_df = tot_vol_method_df.groupby(['business_sid', 'std_timeframes']).count()\n",
    "    tempvol_df.columns = ['Count']\n",
    "\n",
    "    volume_count_method_pt = pd.pivot_table(tempvoldf, values = 'Count', index = ['business_sid'], columns = 'std_timeframes', \n",
    "                     aggfunc = np.sum, fill_value = 0)\n",
    "\n",
    "    volume_count_method_pt.columns = ['vc_Ground', 'vc_2nd_day_EOD', 'vc_Next_Day_10.30_am', \n",
    "                                       'vc_3_day', 'vc_Next_Day_3_pm', 'vc_2nd_day_am', \n",
    "                                       'vc_Next_Day_8_am']\n",
    "    \n",
    "    ################################################################\n",
    "    # 9. Proportional carrier use (fedex/ups)\n",
    "    prop_carrier_df = arg_df[['business_sid', 'weight', 'shipper']]\n",
    "    tempvoldf = prop_carrier_df.groupby(['business_sid', 'shipper']).count()\n",
    "    tempvoldf.columns = ['Count']\n",
    "    \n",
    "    prop_count_method_pt = pd.pivot_table(tempvoldf, values = 'Count', index = ['business_sid'], columns = 'shipper', \n",
    "                     aggfunc = np.sum, fill_value = 0)\n",
    "\n",
    "    proportion_per_carrier = prop_count_method_pt.apply(lambda x: x/x.sum(), axis = 1)\n",
    "    proportion_per_carrier.columns = ['prop_fedex', 'prop_ups']\n",
    "    \n",
    "    ################################################################\n",
    "    # Concatenate all dataframes into final product\n",
    "    return_df = pd.concat([avg_tot_spend, \n",
    "                avg_tot_discounts, \n",
    "                avg_spend_per_method_pt, \n",
    "                avg_spend_per_month_pt,\n",
    "                avg_disc_per_method_pt, \n",
    "                avg_disc_per_zone_pt,\n",
    "                volume_proportion_per_method, \n",
    "                volume_count_method_pt,\n",
    "                proportion_per_carrier], axis=1)\n",
    "\n",
    "    return return_df"
   ]
  },
  {
   "cell_type": "code",
   "execution_count": 37,
   "metadata": {},
   "outputs": [],
   "source": [
    "# Test the above method\n",
    "df = create_customer_KPI_database(raw_df)\n",
    "df.to_csv(\"customer_KPI_database.csv\")"
   ]
  },
  {
   "cell_type": "code",
   "execution_count": 67,
   "metadata": {},
   "outputs": [
    {
     "data": {
      "image/png": "[encoded data removed]",
      "text/plain": [
       "<Figure size 432x288 with 1 Axes>"
      ]
     },
     "metadata": {},
     "output_type": "display_data"
    },
    {
     "name": "stdout",
     "output_type": "stream",
     "text": [
      "SID E0518749DD spends $ 15.84 per shipment on average. Their peers spend $ 15.43 on average.\n"
     ]
    },
    {
     "data": {
      "image/png": "[encoded data removed]",
      "text/plain": [
       "<Figure size 432x288 with 1 Axes>"
      ]
     },
     "metadata": {},
     "output_type": "display_data"
    },
    {
     "name": "stdout",
     "output_type": "stream",
     "text": [
      "SID E0518749DD gets a discount of $ 17.92 per shipment on average. Their peers get $ 12.11 on average.\n"
     ]
    },
    {
     "data": {
      "image/png": "[encoded data removed]",
      "text/plain": [
       "<Figure size 432x288 with 1 Axes>"
      ]
     },
     "metadata": {},
     "output_type": "display_data"
    },
    {
     "name": "stdout",
     "output_type": "stream",
     "text": [
      "SID E0518749DD has an avg shipment weight of  12.4 lbs. Their peers have an avg. shipment weight of 14.66 lbs\n"
     ]
    }
   ],
   "source": [
    "def calculate_all_KPIs(sid):\n",
    "    KPI_avg_similar_customer_spend(sid)\n",
    "    KPI_avg_discounts(sid)\n",
    "    KPI_avg_weights(sid)\n",
    "    \n",
    "test_sid = ref_sids[1]    \n",
    "calculate_all_KPIs(test_sid)"
   ]
  },
  {
   "cell_type": "code",
   "execution_count": 65,
   "metadata": {},
   "outputs": [
    {
     "data": {
      "image/png": "[encoded data removed]",
      "text/plain": [
       "<Figure size 432x288 with 1 Axes>"
      ]
     },
     "metadata": {},
     "output_type": "display_data"
    },
    {
     "name": "stdout",
     "output_type": "stream",
     "text": [
      "SID 924052DDF5 has an avg shipment weight of  24.74 lbs. Their peers have an avg. shipment weight of 18.05 lbs\n",
      "SID 924052DDF5 has an avg shipment weight of  24.74 lbs. Their peers have an avg. shipment weight of 18.05 lbs\n"
     ]
    }
   ],
   "source": [
    "#full_sid_list = np.array(raw_df['business_sid'])\n",
    "full_weight_list = np.array(raw_df['weight'])\n",
    "\n",
    "def KPI_avg_weights(sid):\n",
    "    #Get list of all similar customers\n",
    "    similar_customer_list = get_similar_customers(sid)\n",
    "    \n",
    "    #Get row indices of transactions for all similar customers in the raw_df\n",
    "    similar_customers_idx = np.isin(full_sid_list, similar_customer_list)\n",
    "    \n",
    "    #The KPI denominator is the # of all transactions by similar customers\n",
    "    KPI_denominator = len(similar_customers_idx.nonzero()[0])\n",
    "    \n",
    "    #The KPI numerator is the total sum of charges paid by similar customers\n",
    "    KPI_numerator = np.sum(full_weight_list[similar_customers_idx])\n",
    "    \n",
    "    #Compute KPI\n",
    "    KPI = KPI_numerator/KPI_denominator\n",
    "    \n",
    "    #Also, compute and return the avg. weight of the input sid\n",
    "    input_sid_idx = np.isin(full_sid_list, sid)\n",
    "    input_denominator = len(input_sid_idx.nonzero()[0])\n",
    "    input_numerator = np.sum(full_weight_list[input_sid_idx])\n",
    "    input_sid_avg_discount = input_numerator/input_denominator\n",
    "    \n",
    "    #Also, compute the avg. discount of each similar sid\n",
    "    avg_weight_array = np.zeros(len(similar_customer_list))\n",
    "    for i,j in enumerate(similar_customer_list):\n",
    "        #print(i,j)\n",
    "        sim_sid_idx = np.isin(full_sid_list,j)\n",
    "        sim_sid_denom = len(sim_sid_idx.nonzero()[0])\n",
    "        sim_sid_num = np.sum(full_weight_list[sim_sid_idx])\n",
    "        avg_weight_array[i] = sim_sid_num/sim_sid_denom\n",
    "        \n",
    "    plt.hist(avg_weight_array,color = 'maroon');\n",
    "    plt.xlabel('Average Shipment Weight(in lbs)')\n",
    "    plt.ylabel('No. of Customers')\n",
    "    plt.title('Avg. Shipment Weight Distribution')\n",
    "    plt.show();\n",
    "    \n",
    "    print('SID',sid, 'has an avg shipment weight of ', round(input_sid_avg_discount,2), 'lbs. Their peers have an avg. shipment weight of',round(KPI,2), 'lbs')    \n",
    "    return np.round([input_sid_avg_discount, KPI], 2)\n",
    "\n",
    "test_sid = ref_sids[2]\n",
    "KPI_avg_weight_values = KPI_avg_weights(test_sid)\n",
    "print('SID', test_sid, 'has an avg shipment weight of ', KPI_avg_weight_values[0], 'lbs. Their peers have an avg. shipment weight of',KPI_avg_weight_values[1], 'lbs')"
   ]
  }
 ],
 "metadata": {
  "kernelspec": {
   "display_name": "Python 3",
   "language": "python",
   "name": "python3"
  },
  "language_info": {
   "codemirror_mode": {
    "name": "ipython",
    "version": 3
   },
   "file_extension": ".py",
   "mimetype": "text/x-python",
   "name": "python",
   "nbconvert_exporter": "python",
   "pygments_lexer": "ipython3",
   "version": "3.6.5"
  }
 },
 "nbformat": 4,
 "nbformat_minor": 2
}
