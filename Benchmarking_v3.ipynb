{
 "cells": [
  {
   "cell_type": "markdown",
   "metadata": {},
   "source": [
    "# Benchmarking_v3"
   ]
  },
  {
   "cell_type": "markdown",
   "metadata": {},
   "source": [
    "This notebook contains code for the Customer Benchmarking Solution as developed by CMU's capstone team for 71lbs.<br>\n",
    "The code structure is outlined below:"
   ]
  },
  {
   "cell_type": "markdown",
   "metadata": {},
   "source": [
    "1. Import relevant packages\n",
    "2. Read in the input pickle file\n",
    "3. Pre-Process data for Benchmarking:\n",
    "    - Extract relevant attributes from input dataframe\n",
    "    - Create pivot tables for shipment volume, weight and their respective zone-wise proportions\n",
    "    - Calculate the indices required as input for the Similarity Score calculation. These include:<br>\n",
    "    i. `Volumetric Scale Index (VSI)`: Quantifies customer similarity through total shipment volume<br>\n",
    "    ii.`Volumetric Distribution Index (VDI)`: Quantifies customer similarity through zone-wise volume distribution<br>\n",
    "    iii.`Weight Scale Index (WSI)`: Quantifies customer similarity through total shipment weight<br>\n",
    "    iv. `Weight Distribution Index (WDI)`: Quantifies customer similarity through zone-wise weight distribution\n",
    "4. Calculate Similarity Scores\n",
    "5. Create Similarity Score Matrix\n",
    "6. Identify Similar Customers\n",
    "7. Calculate and display relevant KPIs"
   ]
  },
  {
   "cell_type": "markdown",
   "metadata": {},
   "source": [
    "## 1. Import Relevant Packages"
   ]
  },
  {
   "cell_type": "code",
   "execution_count": 1,
   "metadata": {},
   "outputs": [],
   "source": [
    "import numpy as np\n",
    "import pandas as pd\n",
    "import matplotlib.pyplot as plt\n",
    "from scipy.stats import boxcox as bc\n",
    "from scipy.stats import skew\n",
    "import pickle\n",
    "import os\n",
    "import warnings\n",
    "warnings.filterwarnings('ignore')"
   ]
  },
  {
   "cell_type": "markdown",
   "metadata": {},
   "source": [
    "## 2. Read in the input pickle file"
   ]
  },
  {
   "cell_type": "code",
   "execution_count": 2,
   "metadata": {},
   "outputs": [
    {
     "name": "stdout",
     "output_type": "stream",
     "text": [
      "C:\\Users\\Shivalik\\Desktop\\CMU\\M19\\Capstone\n",
      "Reading pickle file from C:\\Users\\Shivalik\\Desktop\\CMU\\M19\\Capstone\\Benchmarking\\test_merged_sample.pickle\n",
      "Initial pickle contains 914372 records\n"
     ]
    }
   ],
   "source": [
    "print(os.getcwd())\n",
    "\n",
    "pickle_dir = os.getcwd()+ \"\\\\Benchmarking\\\\test_merged_sample.pickle\"\n",
    "#pickle_dir = os.getcwd()+ \"\\\\Benchmarking\\\\test_merged_190715_half.pickle\"\n",
    "#pickle_dir = os.getcwd()+ \"\\\\Benchmarking\\\\test_merged_full.pickle\"\n",
    "print(\"Reading pickle file from\", pickle_dir)\n",
    "\n",
    "raw_df = pd.DataFrame()\n",
    "raw_df = pd.read_pickle(pickle_dir)#test_merged_sample.pickle\")\n",
    "print(\"Initial pickle contains\", len(raw_df.index), \"records\")"
   ]
  },
  {
   "cell_type": "markdown",
   "metadata": {},
   "source": [
    "## 3. Pre-process data for Benchmarking"
   ]
  },
  {
   "cell_type": "markdown",
   "metadata": {},
   "source": [
    "### Extract relevant attributes from input dataframe"
   ]
  },
  {
   "cell_type": "code",
   "execution_count": 3,
   "metadata": {},
   "outputs": [
    {
     "name": "stdout",
     "output_type": "stream",
     "text": [
      "There are 2811 unique customers in the dataset\n"
     ]
    },
    {
     "name": "stderr",
     "output_type": "stream",
     "text": [
      "C:\\Users\\Shivalik\\Anaconda3\\lib\\site-packages\\pandas\\core\\indexing.py:543: SettingWithCopyWarning: \n",
      "A value is trying to be set on a copy of a slice from a DataFrame.\n",
      "Try using .loc[row_indexer,col_indexer] = value instead\n",
      "\n",
      "See the caveats in the documentation: http://pandas.pydata.org/pandas-docs/stable/indexing.html#indexing-view-versus-copy\n",
      "  self.obj[item] = s\n"
     ]
    },
    {
     "data": {
      "text/html": [
       "<div>\n",
       "<style scoped>\n",
       "    .dataframe tbody tr th:only-of-type {\n",
       "        vertical-align: middle;\n",
       "    }\n",
       "\n",
       "    .dataframe tbody tr th {\n",
       "        vertical-align: top;\n",
       "    }\n",
       "\n",
       "    .dataframe thead th {\n",
       "        text-align: right;\n",
       "    }\n",
       "</style>\n",
       "<table border=\"1\" class=\"dataframe\">\n",
       "  <thead>\n",
       "    <tr style=\"text-align: right;\">\n",
       "      <th></th>\n",
       "      <th>business_sid</th>\n",
       "      <th>weight</th>\n",
       "      <th>zone</th>\n",
       "    </tr>\n",
       "  </thead>\n",
       "  <tbody>\n",
       "    <tr>\n",
       "      <th>1232555</th>\n",
       "      <td>SOJW8FQCGI</td>\n",
       "      <td>2.0</td>\n",
       "      <td>6</td>\n",
       "    </tr>\n",
       "    <tr>\n",
       "      <th>1423326</th>\n",
       "      <td>XKVL2MMJL2</td>\n",
       "      <td>4.0</td>\n",
       "      <td>6</td>\n",
       "    </tr>\n",
       "    <tr>\n",
       "      <th>1516794</th>\n",
       "      <td>BE922CE458</td>\n",
       "      <td>10.0</td>\n",
       "      <td>8</td>\n",
       "    </tr>\n",
       "    <tr>\n",
       "      <th>1738984</th>\n",
       "      <td>BE922CE458</td>\n",
       "      <td>20.0</td>\n",
       "      <td>2</td>\n",
       "    </tr>\n",
       "    <tr>\n",
       "      <th>164310</th>\n",
       "      <td>VAQ6Q6TLDY</td>\n",
       "      <td>15.0</td>\n",
       "      <td>8</td>\n",
       "    </tr>\n",
       "  </tbody>\n",
       "</table>\n",
       "</div>"
      ],
      "text/plain": [
       "        business_sid  weight zone\n",
       "1232555   SOJW8FQCGI     2.0    6\n",
       "1423326   XKVL2MMJL2     4.0    6\n",
       "1516794   BE922CE458    10.0    8\n",
       "1738984   BE922CE458    20.0    2\n",
       "164310    VAQ6Q6TLDY    15.0    8"
      ]
     },
     "execution_count": 3,
     "metadata": {},
     "output_type": "execute_result"
    }
   ],
   "source": [
    "#Count the number of unique business_sids in the input dataframe\n",
    "business_sid_list = raw_df.iloc[:,1].unique()\n",
    "total_customers_in_data = len(business_sid_list)\n",
    "print(\"There are\" , total_customers_in_data , \"unique customers in the dataset\")\n",
    "\n",
    "#Extract business_sid, shipment weight and zone to use for the benchmarking algorithm\n",
    "benchmarking_df = raw_df[['business_sid', 'weight', 'zone']]\n",
    "benchmarking_df.iloc[:,2] = benchmarking_df.iloc[:,2].astype('int64').astype('category') \n",
    "benchmarking_df.head()\n",
    "\n",
    "#Optional code below - to free up memory\n",
    "#del raw_df"
   ]
  },
  {
   "cell_type": "markdown",
   "metadata": {},
   "source": [
    "### Create pivot tables for shipment volume, weight and their respective zone-wise proportions"
   ]
  },
  {
   "cell_type": "code",
   "execution_count": 4,
   "metadata": {},
   "outputs": [],
   "source": [
    "#Create pivot table for volume counts\n",
    "def create_volumeCount_pivotTable(arg_df):\n",
    "    tempvoldf = arg_df.groupby(['business_sid', 'zone']).count()\n",
    "    tempvoldf.columns = ['Count']\n",
    "    volumeCount_pivotTable = pd.pivot_table(tempvoldf, values = 'Count', index = ['business_sid'], columns = 'zone', \n",
    "                     aggfunc = np.sum, fill_value = 0)\n",
    "    if len(volumeCount_pivotTable)!=total_customers_in_data:\n",
    "        print(\"Pivot table created for a subset of all customer IDs\")\n",
    "    return volumeCount_pivotTable\n",
    "####################################################################################################################    \n",
    "#Create pivot table for volume proportions\n",
    "def create_volumeProportion_pivotTable(arg_df):\n",
    "    volumeProportion_pivotTable = arg_df.apply(lambda x: x/x.sum(), axis = 1)\n",
    "    if len(volumeProportion_pivotTable)!=total_customers_in_data:\n",
    "        print(\"Pivot table created for a subset of all customer IDs\")\n",
    "    return volumeProportion_pivotTable\n",
    "####################################################################################################################\n",
    "#Create pivot table for weight counts   \n",
    "def create_weightCount_pivotTable(arg_df):\n",
    "    tempwtdf = arg_df.groupby(['business_sid', 'zone']).sum()\n",
    "    weightSum_pivotTable = pd.pivot_table(tempwtdf, values = 'weight', index = ['business_sid'], columns = 'zone',\n",
    "                                         aggfunc = np.sum, fill_value = 0)\n",
    "    if len(weightSum_pivotTable)!=total_customers_in_data:\n",
    "        print(\"Pivot table created for a subset of all customer IDs\")\n",
    "    return weightSum_pivotTable\n",
    "####################################################################################################################    \n",
    "#Create pivot table for weight proportions\n",
    "def create_weightProportion_pivotTable(arg_df):\n",
    "    weightProportion_pivotTable= arg_df.apply(lambda x: x/x.sum(), axis = 1)\n",
    "    if len(weightProportion_pivotTable)!=total_customers_in_data:\n",
    "        print(\"Pivot table created for a subset of all customer IDs\")\n",
    "    return weightProportion_pivotTable\n",
    "####################################################################################################################    \n",
    "#Combine all pivot tables under a single function\n",
    "#This will come in handy later while calculating similarity scores\n",
    "def create_PivotTables(arg_df):\n",
    "    a = create_volumeCount_pivotTable(arg_df)\n",
    "    b = create_volumeProportion_pivotTable(a)\n",
    "    c = create_weightCount_pivotTable(arg_df)\n",
    "    d = create_weightProportion_pivotTable(c)\n",
    "    return a,b,c,d   "
   ]
  },
  {
   "cell_type": "code",
   "execution_count": null,
   "metadata": {},
   "outputs": [],
   "source": [
    "#Sample code for testing\n",
    "'''\n",
    "vc_table_test = create_volumeCount_pivotTable(benchmarking_df)\n",
    "vc_table_test.head()\n",
    "\n",
    "vp_table_test = create_volumeProportion_pivotTable(vc_table_test)\n",
    "vp_table_test.head()\n",
    "\n",
    "wc_table_test = create_weightCount_pivotTable(benchmarking_df)\n",
    "wc_table_test.head()\n",
    "\n",
    "wp_table_test = create_weightProportion_pivotTable(wc_table_test)\n",
    "wp_table_test.head()\n",
    "'''"
   ]
  },
  {
   "cell_type": "code",
   "execution_count": null,
   "metadata": {},
   "outputs": [],
   "source": [
    "#These table outputs are just a sample for testing\n",
    "vsitestingdf = vc_table_test.head()\n",
    "vditestingdf = vp_table_test.head()\n",
    "wsitestingdf = wc_table_test.head()\n",
    "wditestingdf = wp_table_test.head()"
   ]
  },
  {
   "cell_type": "code",
   "execution_count": null,
   "metadata": {},
   "outputs": [],
   "source": [
    "vsitestingdf"
   ]
  },
  {
   "cell_type": "code",
   "execution_count": null,
   "metadata": {},
   "outputs": [],
   "source": [
    "vditestingdf"
   ]
  },
  {
   "cell_type": "code",
   "execution_count": null,
   "metadata": {},
   "outputs": [],
   "source": [
    "wsitestingdf"
   ]
  },
  {
   "cell_type": "code",
   "execution_count": null,
   "metadata": {},
   "outputs": [],
   "source": [
    "wditestingdf"
   ]
  },
  {
   "cell_type": "markdown",
   "metadata": {},
   "source": [
    "### Calculate the indices required as input for the Similarity Score calculation"
   ]
  },
  {
   "cell_type": "code",
   "execution_count": 5,
   "metadata": {},
   "outputs": [],
   "source": [
    "def calculate_VSI(sid_in_focus, vsiPivotTable, sid_count, sid_list):\n",
    "    #sid_list = vsiPivotTable.index.values\n",
    "    #sid_count = len(sid_list)\n",
    "    vsi_list = np.empty(sid_count)\n",
    "    sid_in_focus_arr = np.array(vsiPivotTable.loc[sid_in_focus])\n",
    "    comparison_arr = np.array(vsiPivotTable)\n",
    "    for x in range(sid_count):\n",
    "        if(sid_list[x]!=sid_in_focus):\n",
    "            #code for v3\n",
    "            vsi_numerator = np.minimum(sid_in_focus_arr,comparison_arr[x]).sum()\n",
    "            vsi_denominator = np.maximum(sid_in_focus_arr,comparison_arr[x]).sum()\n",
    "            \n",
    "            #code for v2\n",
    "            #vsi_numerator = np.minimum(np.array(vsiPivotTable.loc[sid_in_focus]),np.array(vsiPivotTable.iloc[x])).sum()\n",
    "            #vsi_denominator = np.maximum(np.array(vsiPivotTable.loc[sid_in_focus]),np.array(vsiPivotTable.iloc[x])).sum()\n",
    "         \n",
    "            #code for v1\n",
    "            #vsi_numerator = vsiPivotTable.loc[sid_in_focus].combine(vsiPivotTable.iloc[x], min, 0)\n",
    "            #vsi_denominator = vsiPivotTable.loc[sid_in_focus].combine(vsiPivotTable.iloc[x], max, 0)\n",
    "            #vsi_list[x] = vsi_numerator.sum()/vsi_denominator.sum()\n",
    "            \n",
    "            vsi_list[x] = vsi_numerator/vsi_denominator\n",
    "        else:\n",
    "            vsi_list[x] = -1  # return a value of -1 when comparing a customer to themselves        \n",
    "    return vsi_list\n",
    "####################################################################################################################    \n",
    "def calculate_VDI(sid_in_focus, vdiPivotTable, sid_count, sid_list):\n",
    "    #sid_list = vdiPivotTable.index.values\n",
    "    #sid_count = len(sid_list)\n",
    "    vdi_list = np.empty(sid_count)\n",
    "    sid_in_focus_arr = np.array(vdiPivotTable.loc[sid_in_focus])\n",
    "    comparison_arr = np.array(vdiPivotTable)\n",
    "    for x in range(sid_count):\n",
    "        if(sid_list[x]!=sid_in_focus):\n",
    "            #code for v3\n",
    "            vdi_numerator = np.minimum(sid_in_focus_arr,comparison_arr[x]).sum()\n",
    "            vdi_denominator = np.maximum(sid_in_focus_arr,comparison_arr[x]).sum()\n",
    "            \n",
    "            #code for v2\n",
    "            #vdi_numerator = np.minimum(np.array(vdiPivotTable.loc[sid_in_focus]),np.array(vdiPivotTable.iloc[x])).sum()\n",
    "            #vdi_denominator = np.maximum(np.array(vdiPivotTable.loc[sid_in_focus]),np.array(vdiPivotTable.iloc[x])).sum()\n",
    "            \n",
    "            #code for v1\n",
    "            #vdi_numerator = vdiPivotTable.loc[sid_in_focus].combine(vdiPivotTable.iloc[x], min, 0)\n",
    "            #vdi_denominator = vdiPivotTable.loc[sid_in_focus].combine(vdiPivotTable.iloc[x], max, 0)\n",
    "            vdi_list[x] = vdi_numerator/vdi_denominator\n",
    "        else:\n",
    "            vdi_list[x] = -1  # return a value of -1 when comparing a customer to themselves                \n",
    "    return vdi_list\n",
    "####################################################################################################################    \n",
    "def calculate_WSI(sid_in_focus, wsiPivotTable, sid_count, sid_list):\n",
    "    #sid_list = wsiPivotTable.index.values\n",
    "    #sid_count = len(sid_list)\n",
    "    wsi_list = np.empty(sid_count)\n",
    "    sid_in_focus_arr = np.array(wsiPivotTable.loc[sid_in_focus])\n",
    "    comparison_arr = np.array(wsiPivotTable)\n",
    "    for x in range(sid_count):\n",
    "        if(sid_list[x]!=sid_in_focus):\n",
    "            #code for v3\n",
    "            wsi_numerator = np.minimum(sid_in_focus_arr,comparison_arr[x]).sum()\n",
    "            wsi_denominator = np.maximum(sid_in_focus_arr,comparison_arr[x]).sum()\n",
    "            \n",
    "            #code for v2\n",
    "            #wsi_numerator = np.minimum(np.array(wsiPivotTable.loc[sid_in_focus]),np.array(wsiPivotTable.iloc[x])).sum()\n",
    "            #wsi_denominator = np.maximum(np.array(wsiPivotTable.loc[sid_in_focus]),np.array(wsiPivotTable.iloc[x])).sum()\n",
    "            \n",
    "            #code for v1\n",
    "            #wsi_numerator = wsiPivotTable.loc[sid_in_focus].combine(wsiPivotTable.iloc[x], min, 0)\n",
    "            #wsi_denominator = wsiPivotTable.loc[sid_in_focus].combine(wsiPivotTable.iloc[x], max, 0)\n",
    "            wsi_list[x] = wsi_numerator/wsi_denominator\n",
    "        else:\n",
    "            wsi_list[x] = -1 # return a value of -1 when comparing a customer to themselves            \n",
    "    return wsi_list\n",
    "####################################################################################################################    \n",
    "def calculate_WDI(sid_in_focus, wdiPivotTable, sid_count,sid_list):\n",
    "    #sid_list = wdiPivotTable.index.values\n",
    "    #sid_count = len(sid_list)\n",
    "    wdi_list = np.empty(sid_count)\n",
    "    sid_in_focus_arr = np.array(wdiPivotTable.loc[sid_in_focus])\n",
    "    comparison_arr = np.array(wdiPivotTable)\n",
    "    for x in range(sid_count):\n",
    "        if(sid_list[x]!=sid_in_focus):\n",
    "            #code for v3\n",
    "            wdi_numerator = np.minimum(sid_in_focus_arr,comparison_arr[x]).sum()\n",
    "            wdi_denominator = np.maximum(sid_in_focus_arr,comparison_arr[x]).sum()\n",
    "            \n",
    "            #code for v2\n",
    "            #wdi_numerator = np.minimum(np.array(wdiPivotTable.loc[sid_in_focus]),np.array(wdiPivotTable.iloc[x])).sum()\n",
    "            #wdi_denominator = np.maximum(np.array(wdiPivotTable.loc[sid_in_focus]),np.array(wdiPivotTable.iloc[x])).sum()\n",
    "            \n",
    "            #code for v1\n",
    "            #wdi_numerator = wdiPivotTable.loc[sid_in_focus].combine(wdiPivotTable.iloc[x], min, 0)\n",
    "            #wdi_denominator = wdiPivotTable.loc[sid_in_focus].combine(wdiPivotTable.iloc[x], max, 0)\n",
    "            wdi_list[x] = wdi_numerator/wdi_denominator\n",
    "        else:\n",
    "            wdi_list[x] = -1 # return a value of -1 when comparing a customer to themselves               \n",
    "    return wdi_list"
   ]
  },
  {
   "cell_type": "markdown",
   "metadata": {},
   "source": [
    "## 4. Calculate Similarity Scores"
   ]
  },
  {
   "cell_type": "markdown",
   "metadata": {},
   "source": [
    "There are 2 sets of parameters that can be changed for computing similarity scores:<br>\n",
    " 1. `weight_array`: This stores weights associated with each of the 4 indices calculated above. Changing these will directly impact the Similarity Score values.\n",
    " 2. `customer_subset`: This parameter controls the # of customers against which the Similarity Scores are calculated"
   ]
  },
  {
   "cell_type": "code",
   "execution_count": 6,
   "metadata": {},
   "outputs": [
    {
     "name": "stdout",
     "output_type": "stream",
     "text": [
      "weight_array_sum: 1.0\n",
      "Scores will be checked against 2811 customers\n"
     ]
    }
   ],
   "source": [
    "#The sum of all 4 values MUST always add up to 1\n",
    "#Weights are assigned in the order VSI, VDI, WSI and WDI\n",
    "weight_array = np.array([0.25,0.25,0.25,0.25])\n",
    "print(\"weight_array_sum:\", weight_array.sum())\n",
    "\n",
    "#By default, similarity scores are computed against every customer in the original dataset.\n",
    "#To select a subset of customers, subset the benchmarking_df accordingly(either using head() or pandas subsetting)\n",
    "#benchmarking_df has the following columns: business_sid, weight, zone\n",
    "\n",
    "customer_subset = benchmarking_df\n",
    "print(\"Scores will be checked against\", customer_subset.iloc[:,0].nunique(), \"customers\")"
   ]
  },
  {
   "cell_type": "code",
   "execution_count": 7,
   "metadata": {},
   "outputs": [],
   "source": [
    "allPivots = [x for x in create_PivotTables(customer_subset)]\n",
    "idx_vals = allPivots[0].index.values\n",
    "def calculate_similarity_score(sid_in_focus, pivotTables = allPivots, weights = weight_array): \n",
    "    if(weights.sum()!=1.0):\n",
    "        print(\"Weights do not sum to 1. Check the weight_array parameter.\")\n",
    "        return -1\n",
    "    sid_cnt = len(pivotTables[0].index.values)\n",
    "    vsiList = calculate_VSI(sid_in_focus, vsiPivotTable= pivotTables[0], sid_count = sid_cnt, sid_list = idx_vals)\n",
    "    vdiList = calculate_VDI(sid_in_focus, vdiPivotTable= pivotTables[1], sid_count = sid_cnt, sid_list = idx_vals)\n",
    "    wsiList = calculate_WSI(sid_in_focus, wsiPivotTable= pivotTables[2], sid_count = sid_cnt, sid_list = idx_vals)\n",
    "    wdiList = calculate_WDI(sid_in_focus, wdiPivotTable= pivotTables[3], sid_count = sid_cnt, sid_list = idx_vals) \n",
    "    ss_array = (weight_array[0]*vsiList + \\\n",
    "                weight_array[1]*vdiList + \\\n",
    "                weight_array[2]*wsiList + \\\n",
    "                weight_array[3]*wdiList)*100\n",
    "    return np.round(ss_array,3)"
   ]
  },
  {
   "cell_type": "code",
   "execution_count": null,
   "metadata": {},
   "outputs": [],
   "source": [
    "%%time\n",
    "calculate_similarity_score('7B8E9E45F5')"
   ]
  },
  {
   "cell_type": "code",
   "execution_count": 8,
   "metadata": {},
   "outputs": [
    {
     "name": "stdout",
     "output_type": "stream",
     "text": [
      "Wall time: 179 ms\n"
     ]
    },
    {
     "name": "stderr",
     "output_type": "stream",
     "text": [
      "C:\\Users\\Shivalik\\Anaconda3\\lib\\site-packages\\ipykernel_launcher.py:84: RuntimeWarning: invalid value encountered in minimum\n",
      "C:\\Users\\Shivalik\\Anaconda3\\lib\\site-packages\\ipykernel_launcher.py:85: RuntimeWarning: invalid value encountered in maximum\n"
     ]
    },
    {
     "data": {
      "text/plain": [
       "array([19.596, 51.086, 26.118, ..., 15.817, 20.827,  8.906])"
      ]
     },
     "execution_count": 8,
     "metadata": {},
     "output_type": "execute_result"
    }
   ],
   "source": [
    "%%time\n",
    "calculate_similarity_score('7B8E9E45F5')"
   ]
  },
  {
   "cell_type": "markdown",
   "metadata": {},
   "source": [
    "## 5. Create Similarity Score Matrix"
   ]
  },
  {
   "cell_type": "code",
   "execution_count": 9,
   "metadata": {},
   "outputs": [],
   "source": [
    "#This function only takes the list of all relevant sids as an input and generates the complete similarity score table\n",
    "#Note: This table takes up a large amount of memory if all business_sids are provided in allPivots\n",
    "\n",
    "matrix_cols = allPivots[0].index.values\n",
    "def create_similarity_score_table(sid_list):\n",
    "    similarity_score_table = pd.DataFrame(index = sid_list, columns = matrix_cols).fillna(-1)\n",
    "    for x in sid_list:\n",
    "        row_vals = calculate_similarity_score(sid_in_focus = x)\n",
    "        if row_vals[0]==-1:\n",
    "            break\n",
    "        else:\n",
    "            similarity_score_table.loc[x] = row_vals\n",
    "    return similarity_score_table"
   ]
  },
  {
   "cell_type": "code",
   "execution_count": null,
   "metadata": {},
   "outputs": [],
   "source": [
    "%%time\n",
    "#Sample IDs from Jose:\n",
    "'''\n",
    "7B8E9E45F5\n",
    "E0518749DD\n",
    "924052DDF5\n",
    "AACOENJW\n",
    "FHVD7BDTDG\n",
    "'''\n",
    "\n",
    "#ref_sids = ['004BB4E8C4', '0071F0E134','008936A589']\n",
    "ref_sids = ['7B8E9E45F5','E0518749DD','924052DDF5','AACOENJW','FHVD7BDTDG']\n",
    "sstable = create_similarity_score_table(ref_sids)\n",
    "sstable"
   ]
  },
  {
   "cell_type": "code",
   "execution_count": null,
   "metadata": {},
   "outputs": [],
   "source": [
    "%%time\n",
    "#Sample IDs from Jose:\n",
    "'''\n",
    "7B8E9E45F5\n",
    "E0518749DD\n",
    "924052DDF5\n",
    "AACOENJW\n",
    "FHVD7BDTDG\n",
    "'''\n",
    "\n",
    "#ref_sids = ['004BB4E8C4', '0071F0E134','008936A589']\n",
    "ref_sids = ['7B8E9E45F5','E0518749DD','924052DDF5','AACOENJW','FHVD7BDTDG']\n",
    "#sstable = create_similarity_score_table('7B8E9E45F5')\n",
    "sstable"
   ]
  },
  {
   "cell_type": "code",
   "execution_count": null,
   "metadata": {},
   "outputs": [],
   "source": [
    "sstable"
   ]
  },
  {
   "cell_type": "markdown",
   "metadata": {},
   "source": [
    "## 6. Identify Similar Customers"
   ]
  },
  {
   "cell_type": "markdown",
   "metadata": {},
   "source": [
    "### Steps:\n",
    "0. Select an SID via user input\n",
    "1. Retrieve Similarity Scores(SS) against every other SID\n",
    "2. Change 0 and -100 SS values to 0.0001 (needed for BoxCox normalization)\n",
    "3. Calculate SS distribution skew and return normalized scores\n",
    "    - if abs(skew) > 0.5, apply BoxCox transformation, else proceed to step 4\n",
    "    - Apply BoxCox transformation to normalize skewed SS distribution\n",
    "4. Calculate SS threshold for a given percentile using the formula:<br>\n",
    "    `threshold_score = (z_percentile * scores_stdDev) + scores_mean`\n",
    "5. Retrieve SIDs whose scores are greater than or equal to `threshold_score`"
   ]
  },
  {
   "cell_type": "code",
   "execution_count": 2,
   "metadata": {},
   "outputs": [
    {
     "data": {
      "text/html": [
       "<div>\n",
       "<style scoped>\n",
       "    .dataframe tbody tr th:only-of-type {\n",
       "        vertical-align: middle;\n",
       "    }\n",
       "\n",
       "    .dataframe tbody tr th {\n",
       "        vertical-align: top;\n",
       "    }\n",
       "\n",
       "    .dataframe thead th {\n",
       "        text-align: right;\n",
       "    }\n",
       "</style>\n",
       "<table border=\"1\" class=\"dataframe\">\n",
       "  <thead>\n",
       "    <tr style=\"text-align: right;\">\n",
       "      <th></th>\n",
       "      <th>004BB4E8C4</th>\n",
       "      <th>0071F0E134</th>\n",
       "      <th>008936A589</th>\n",
       "      <th>009F7F037A</th>\n",
       "      <th>00B9362597</th>\n",
       "      <th>00BE684C10</th>\n",
       "      <th>00D34BA35B</th>\n",
       "      <th>00E31A2581</th>\n",
       "      <th>00EF728145</th>\n",
       "      <th>010010C13F</th>\n",
       "    </tr>\n",
       "  </thead>\n",
       "  <tbody>\n",
       "    <tr>\n",
       "      <th>004BB4E8C4</th>\n",
       "      <td>-100.000</td>\n",
       "      <td>12.364</td>\n",
       "      <td>31.161</td>\n",
       "      <td>27.956</td>\n",
       "      <td>19.526</td>\n",
       "      <td>19.485</td>\n",
       "      <td>28.155</td>\n",
       "      <td>19.554</td>\n",
       "      <td>17.934</td>\n",
       "      <td>44.321</td>\n",
       "    </tr>\n",
       "    <tr>\n",
       "      <th>0071F0E134</th>\n",
       "      <td>12.364</td>\n",
       "      <td>-100.000</td>\n",
       "      <td>24.423</td>\n",
       "      <td>11.835</td>\n",
       "      <td>37.984</td>\n",
       "      <td>26.802</td>\n",
       "      <td>8.711</td>\n",
       "      <td>47.551</td>\n",
       "      <td>33.068</td>\n",
       "      <td>19.507</td>\n",
       "    </tr>\n",
       "    <tr>\n",
       "      <th>008936A589</th>\n",
       "      <td>31.161</td>\n",
       "      <td>24.423</td>\n",
       "      <td>-100.000</td>\n",
       "      <td>51.938</td>\n",
       "      <td>57.435</td>\n",
       "      <td>19.029</td>\n",
       "      <td>45.774</td>\n",
       "      <td>30.227</td>\n",
       "      <td>31.619</td>\n",
       "      <td>40.284</td>\n",
       "    </tr>\n",
       "    <tr>\n",
       "      <th>009F7F037A</th>\n",
       "      <td>27.956</td>\n",
       "      <td>11.835</td>\n",
       "      <td>51.938</td>\n",
       "      <td>-100.000</td>\n",
       "      <td>33.888</td>\n",
       "      <td>7.944</td>\n",
       "      <td>65.099</td>\n",
       "      <td>20.470</td>\n",
       "      <td>14.790</td>\n",
       "      <td>37.378</td>\n",
       "    </tr>\n",
       "    <tr>\n",
       "      <th>00B9362597</th>\n",
       "      <td>19.526</td>\n",
       "      <td>37.984</td>\n",
       "      <td>57.435</td>\n",
       "      <td>33.888</td>\n",
       "      <td>-100.000</td>\n",
       "      <td>25.800</td>\n",
       "      <td>26.170</td>\n",
       "      <td>27.153</td>\n",
       "      <td>36.935</td>\n",
       "      <td>25.187</td>\n",
       "    </tr>\n",
       "    <tr>\n",
       "      <th>00BE684C10</th>\n",
       "      <td>19.485</td>\n",
       "      <td>26.802</td>\n",
       "      <td>19.029</td>\n",
       "      <td>7.944</td>\n",
       "      <td>25.800</td>\n",
       "      <td>-100.000</td>\n",
       "      <td>7.403</td>\n",
       "      <td>13.344</td>\n",
       "      <td>34.724</td>\n",
       "      <td>15.053</td>\n",
       "    </tr>\n",
       "    <tr>\n",
       "      <th>00D34BA35B</th>\n",
       "      <td>28.155</td>\n",
       "      <td>8.711</td>\n",
       "      <td>45.774</td>\n",
       "      <td>65.099</td>\n",
       "      <td>26.170</td>\n",
       "      <td>7.403</td>\n",
       "      <td>-100.000</td>\n",
       "      <td>19.550</td>\n",
       "      <td>14.964</td>\n",
       "      <td>32.566</td>\n",
       "    </tr>\n",
       "    <tr>\n",
       "      <th>00E31A2581</th>\n",
       "      <td>19.554</td>\n",
       "      <td>47.551</td>\n",
       "      <td>30.227</td>\n",
       "      <td>20.470</td>\n",
       "      <td>27.153</td>\n",
       "      <td>13.344</td>\n",
       "      <td>19.550</td>\n",
       "      <td>-100.000</td>\n",
       "      <td>21.625</td>\n",
       "      <td>30.230</td>\n",
       "    </tr>\n",
       "    <tr>\n",
       "      <th>00EF728145</th>\n",
       "      <td>17.934</td>\n",
       "      <td>33.068</td>\n",
       "      <td>31.619</td>\n",
       "      <td>14.790</td>\n",
       "      <td>36.935</td>\n",
       "      <td>34.724</td>\n",
       "      <td>14.964</td>\n",
       "      <td>21.625</td>\n",
       "      <td>-100.000</td>\n",
       "      <td>29.935</td>\n",
       "    </tr>\n",
       "    <tr>\n",
       "      <th>010010C13F</th>\n",
       "      <td>44.321</td>\n",
       "      <td>19.507</td>\n",
       "      <td>40.284</td>\n",
       "      <td>37.378</td>\n",
       "      <td>25.187</td>\n",
       "      <td>15.053</td>\n",
       "      <td>32.566</td>\n",
       "      <td>30.230</td>\n",
       "      <td>29.935</td>\n",
       "      <td>-100.000</td>\n",
       "    </tr>\n",
       "  </tbody>\n",
       "</table>\n",
       "</div>"
      ],
      "text/plain": [
       "            004BB4E8C4  0071F0E134  008936A589  009F7F037A  00B9362597  \\\n",
       "004BB4E8C4    -100.000      12.364      31.161      27.956      19.526   \n",
       "0071F0E134      12.364    -100.000      24.423      11.835      37.984   \n",
       "008936A589      31.161      24.423    -100.000      51.938      57.435   \n",
       "009F7F037A      27.956      11.835      51.938    -100.000      33.888   \n",
       "00B9362597      19.526      37.984      57.435      33.888    -100.000   \n",
       "00BE684C10      19.485      26.802      19.029       7.944      25.800   \n",
       "00D34BA35B      28.155       8.711      45.774      65.099      26.170   \n",
       "00E31A2581      19.554      47.551      30.227      20.470      27.153   \n",
       "00EF728145      17.934      33.068      31.619      14.790      36.935   \n",
       "010010C13F      44.321      19.507      40.284      37.378      25.187   \n",
       "\n",
       "            00BE684C10  00D34BA35B  00E31A2581  00EF728145  010010C13F  \n",
       "004BB4E8C4      19.485      28.155      19.554      17.934      44.321  \n",
       "0071F0E134      26.802       8.711      47.551      33.068      19.507  \n",
       "008936A589      19.029      45.774      30.227      31.619      40.284  \n",
       "009F7F037A       7.944      65.099      20.470      14.790      37.378  \n",
       "00B9362597      25.800      26.170      27.153      36.935      25.187  \n",
       "00BE684C10    -100.000       7.403      13.344      34.724      15.053  \n",
       "00D34BA35B       7.403    -100.000      19.550      14.964      32.566  \n",
       "00E31A2581      13.344      19.550    -100.000      21.625      30.230  \n",
       "00EF728145      34.724      14.964      21.625    -100.000      29.935  \n",
       "010010C13F      15.053      32.566      30.230      29.935    -100.000  "
      ]
     },
     "execution_count": 2,
     "metadata": {},
     "output_type": "execute_result"
    }
   ],
   "source": [
    "#Quickstart for full matrix analysis\n",
    "matrix_dir = os.getcwd()+ \"\\\\Benchmarking\\\\full_similarity_score_table.pickle\"\n",
    "full_ss_matrix = pd.read_pickle(matrix_dir)\n",
    "#full_ss_matrix.describe()\n",
    "full_ss_matrix.head(10).iloc[:,:10]"
   ]
  },
  {
   "cell_type": "code",
   "execution_count": 3,
   "metadata": {},
   "outputs": [
    {
     "name": "stdout",
     "output_type": "stream",
     "text": [
      "(3148, 3148)\n",
      "3148 SIDs in the SS matrix\n"
     ]
    }
   ],
   "source": [
    "#Convert datarame to numpy array for performance\n",
    "full_ss_matrix_optimized = np.array(full_ss_matrix)\n",
    "print(full_ss_matrix_optimized.shape)\n",
    "\n",
    "#Collect all sid values\n",
    "full_matrix_indices = np.array(full_ss_matrix.index.values)\n",
    "print(len(full_matrix_indices), 'SIDs in the SS matrix')"
   ]
  },
  {
   "cell_type": "markdown",
   "metadata": {},
   "source": [
    "### Step 0. Select an SID via user input"
   ]
  },
  {
   "cell_type": "code",
   "execution_count": 4,
   "metadata": {},
   "outputs": [],
   "source": [
    "#Sample IDs from Jose:\n",
    "'''\n",
    "7B8E9E45F5\n",
    "E0518749DD\n",
    "924052DDF5\n",
    "AACOENJW\n",
    "FHVD7BDTDG\n",
    "'''\n",
    "ref_sids = ['7B8E9E45F5','E0518749DD','924052DDF5','AACOENJW','FHVD7BDTDG']"
   ]
  },
  {
   "cell_type": "markdown",
   "metadata": {},
   "source": [
    "### Step 1. Retrieve Similarity Scores(SS) against every other SID"
   ]
  },
  {
   "cell_type": "code",
   "execution_count": 5,
   "metadata": {},
   "outputs": [
    {
     "data": {
      "text/plain": [
       "array([16.012, 50.154, 27.731, ...,  3.844, 14.677, 15.928])"
      ]
     },
     "execution_count": 5,
     "metadata": {},
     "output_type": "execute_result"
    }
   ],
   "source": [
    "#%%time\n",
    "def get_raw_scores(sid):\n",
    "    #Retrieve the index at which the requested sid is present in the SS matrix\n",
    "    test_sid_idx = np.where(full_matrix_indices==test_sid)[0][0]\n",
    "    #Return the SS array\n",
    "    raw_scores = full_ss_matrix_optimized[test_sid_idx]\n",
    "    return raw_scores\n",
    "\n",
    "test_sid = ref_sids[0]\n",
    "raw_score_array = get_raw_scores(test_sid)\n",
    "raw_score_array"
   ]
  },
  {
   "cell_type": "markdown",
   "metadata": {},
   "source": [
    "### Step 2: Change 0 and -100 SS values to 0.0001"
   ]
  },
  {
   "cell_type": "code",
   "execution_count": 7,
   "metadata": {},
   "outputs": [
    {
     "data": {
      "text/plain": [
       "array([16.012, 50.154, 27.731, ...,  3.844, 14.677, 15.928])"
      ]
     },
     "execution_count": 7,
     "metadata": {},
     "output_type": "execute_result"
    }
   ],
   "source": [
    "def get_clean_scores(sid):\n",
    "    #Get raw scores\n",
    "    raw_score_array = get_raw_scores(sid)\n",
    "    #Change NANs to 0\n",
    "    raw_score_array[np.isnan(raw_score_array)]=0\n",
    "    #Identify indices where scores <=0 are currently present\n",
    "    dirty_score_idx = np.where(raw_score_array<=0)\n",
    "    #print(dirty_score_idx)\n",
    "    #Update these indices with a different value (0.0001 is chosen here)\n",
    "    clean_scores = raw_score_array\n",
    "    #print(clean_scores[0:5])\n",
    "    np.put(clean_scores,dirty_score_idx, np.full(shape = len(dirty_score_idx),fill_value = 0.0001))\n",
    "    #print(clean_scores[0:5])\n",
    "    return np.array(clean_scores)\n",
    "\n",
    "test_sid = ref_sids[0]\n",
    "get_clean_scores(test_sid)"
   ]
  },
  {
   "cell_type": "markdown",
   "metadata": {},
   "source": [
    "### Step 3: Calculate SS distribution skew and return normalized scores"
   ]
  },
  {
   "cell_type": "code",
   "execution_count": 42,
   "metadata": {},
   "outputs": [
    {
     "data": {
      "text/plain": [
       "array([ 7.27582129, 16.27163958, 10.83069173, ...,  2.08981469,\n",
       "        6.81402061,  7.24721692])"
      ]
     },
     "execution_count": 42,
     "metadata": {},
     "output_type": "execute_result"
    }
   ],
   "source": [
    "#Scores for some sids are normally distributed, while others have highly skewed distributions\n",
    "#In order to accurately utilize a threshold score for identifiying a subset of similar customers, the scores must be \n",
    "#normally distributed\n",
    "\n",
    "#The function below checks the score distribution's skewness(a measure of departure from normality), and if the skewness\n",
    "#is above a certain threshold(0.5), then a BoxCox transformation is utilized to normalize raw score distributions\n",
    "\n",
    "#If the scores are normally distributed(ie, skewness <0.5), the raw scores are utilized as is\n",
    "\n",
    "def get_normalized_scores(sid):\n",
    "    #Get the clean raw scores\n",
    "    clean_raw_scores = get_clean_scores(sid)\n",
    "    #Calculate distribution skew\n",
    "    original_skew = pd.Series(clean_raw_scores).skew()\n",
    "    #print(original_skew)\n",
    "    #If abs(skew)>0.5, normalize the scores\n",
    "    if(np.abs(original_skew)>0.5):\n",
    "        #print('scores have been normalized')\n",
    "        return bc(clean_raw_scores)[0]\n",
    "    #Else return the clean_raw_scores\n",
    "    else:\n",
    "        return clean_raw_scores\n",
    "test_sid = ref_sids[0]    \n",
    "get_normalized_scores(test_sid)"
   ]
  },
  {
   "cell_type": "markdown",
   "metadata": {},
   "source": [
    "### Step 4: Calculate SS threshold for a given percentile"
   ]
  },
  {
   "cell_type": "markdown",
   "metadata": {},
   "source": [
    "The following z_score values are used for respective percentiles. This is reference data available from any z-score table:\n",
    "\n",
    "`95th percentile` :1.64<br>\n",
    "`90th percentile` :1.28<br>\n",
    "`85th percentile` :1.04<br>\n",
    "`80th percentile` :0.84<br>\n",
    "`75th percentile` :0.68"
   ]
  },
  {
   "cell_type": "code",
   "execution_count": 59,
   "metadata": {},
   "outputs": [],
   "source": [
    "#Initialize a dictionary to store z-score values for common percentiles. \n",
    "#These percentile values(95,90 etc.) can be offered as a filter on the user dashboard.\n",
    "z_score_dict = {\n",
    "    95:1.65,\n",
    "    90:1.28,\n",
    "    85:1.04,\n",
    "    80:0.84,\n",
    "    75:0.68\n",
    "}\n",
    "\n",
    "#For a given sid and percentile, this function returns both the normalized and raw threshold similarity score value. \n",
    "#All sids with a similarity score higher than the normalized threshold value will be deemed 'similar customers'\n",
    "#at the given percentile(default 90th %ile) level\n",
    "\n",
    "def ss_threshold(sid, percentile = 90):\n",
    "    #First, calculate the normalized threshold score. This will be used for identifying similar customers\n",
    "    normalized_ref_scores = get_normalized_scores(sid) \n",
    "    normalized_ref_mean = np.nanmean(normalized_ref_scores)\n",
    "    normalized_ref_stdev = np.nanstd(normalized_ref_scores)\n",
    "    normalized_threshold_score = (z_score_dict.get(percentile)*normalized_ref_stdev) + normalized_ref_mean\n",
    "    \n",
    "    #For reference, also return the raw threshold score. This may or may not be same as the normalized score,\n",
    "    #depending on the raw score distribution for the selected sid\n",
    "    raw_ref_scores = get_clean_scores(sid) \n",
    "    raw_ref_mean = np.nanmean(raw_ref_scores)\n",
    "    raw_ref_stdev = np.nanstd(raw_ref_scores)\n",
    "    raw_threshold_score = (z_score_dict.get(percentile)*raw_ref_stdev) + raw_ref_mean\n",
    "    \n",
    "    return np.round(np.array([normalized_threshold_score, raw_threshold_score]),3)\n",
    "    "
   ]
  },
  {
   "cell_type": "code",
   "execution_count": 11,
   "metadata": {},
   "outputs": [
    {
     "name": "stdout",
     "output_type": "stream",
     "text": [
      "4.81 ms ± 210 µs per loop (mean ± std. dev. of 7 runs, 100 loops each)\n"
     ]
    }
   ],
   "source": [
    "%%timeit\n",
    "ss_threshold(test_sid, 95)"
   ]
  },
  {
   "cell_type": "code",
   "execution_count": 44,
   "metadata": {},
   "outputs": [
    {
     "name": "stdout",
     "output_type": "stream",
     "text": [
      "7B8E9E45F5\n",
      "[13.941 38.476]\n",
      "[12.792 34.728]\n",
      "[12.047 32.296]\n",
      "[11.426 30.27 ]\n",
      "[10.929 28.649]\n"
     ]
    }
   ],
   "source": [
    "#These sample print outs show the output for an sid with a skewed SS distribution.\n",
    "#Note that both the normalized and raw threshold scores are different\n",
    "#The output format is [normalized_threshold , raw threshold]\n",
    "\n",
    "test_sid = ref_sids[0]\n",
    "print(test_sid)\n",
    "print(ss_threshold(test_sid, 95))\n",
    "print(ss_threshold(test_sid)) #default is 90\n",
    "print(ss_threshold(test_sid, 85))\n",
    "print(ss_threshold(test_sid, 80))\n",
    "print(ss_threshold(test_sid, 75))"
   ]
  },
  {
   "cell_type": "markdown",
   "metadata": {},
   "source": [
    "###  Step 5: Retrieve SIDs whose scores are greater than or equal to the normalized threshold score"
   ]
  },
  {
   "cell_type": "code",
   "execution_count": 45,
   "metadata": {},
   "outputs": [],
   "source": [
    "#This is the function that should be executed for initializing the dashboard when a user logs in and requests \n",
    "#a list of similar customers\n",
    "\n",
    "#This directly returns a list of ALL similar customers that are above a certain percentile threshold(default 90th %ile)\n",
    "\n",
    "def get_similar_customers(input_sid, percentile = 90):\n",
    "    #print(percentile)\n",
    "    \n",
    "    #Get normalized threshold score for requested sid\n",
    "    normalized_threshold_score = ss_threshold(input_sid, percentile)[0]\n",
    "    #print('NTS:',normalized_threshold_score)\n",
    "    \n",
    "    #Get index of requested sid in the full_ss_matrix\n",
    "    sid_idx = np.where(full_matrix_indices==input_sid)[0][0]\n",
    "    #print('sid_idx:',sid_idx)\n",
    "    \n",
    "    #Get normalized scores for the test_sid from the full_ss_matrix\n",
    "    sid_scores = get_normalized_scores(full_ss_matrix_optimized[sid_idx])\n",
    "    \n",
    "    #First get all scores that are higher than the normalized threshold score\n",
    "    similar_scores = full_ss_matrix_optimized[sid_idx][np.where(sid_scores>=normalized_threshold_score)[0]]\n",
    "    \n",
    "    #Then get a list of sids that have scores higher than the normalized threshold score\n",
    "    similar_sids = full_matrix_indices[np.where(sid_scores>=normalized_threshold_score)[0]]\n",
    "    \n",
    "    #Sort scores in descending order\n",
    "    sorted_idx = np.argsort(similar_scores)[::-1]\n",
    "    \n",
    "    #Sort similar_sids in descending order based on scores\n",
    "    sorted_sids = similar_sids[sorted_idx]\n",
    "    \n",
    "    return sorted_sids"
   ]
  },
  {
   "cell_type": "code",
   "execution_count": 64,
   "metadata": {},
   "outputs": [
    {
     "name": "stdout",
     "output_type": "stream",
     "text": [
      "8.94 ms ± 773 µs per loop (mean ± std. dev. of 7 runs, 100 loops each)\n"
     ]
    }
   ],
   "source": [
    "%%timeit\n",
    "get_similar_customers(ref_sids[0], 95)"
   ]
  },
  {
   "cell_type": "code",
   "execution_count": 63,
   "metadata": {},
   "outputs": [
    {
     "name": "stdout",
     "output_type": "stream",
     "text": [
      "There are 149 similar customers for sid: 7B8E9E45F5\n",
      "The 10 most similar customers are:\n"
     ]
    },
    {
     "data": {
      "text/plain": [
       "array(['FE845213D0', '94F4546DE0', '2F49D7B816', 'EC5572BDD2',\n",
       "       'D40B0745D8', '7721FE5CD5', '80BB7ED5C3', '2694F1D4B7',\n",
       "       'C95B528306', 'EC1CF6CD07'], dtype=object)"
      ]
     },
     "execution_count": 63,
     "metadata": {},
     "output_type": "execute_result"
    }
   ],
   "source": [
    "del similar_customer_list\n",
    "similar_customer_list = get_similar_customers(ref_sids[0], 95)\n",
    "print('There are', len(similar_customer_list), 'similar customers', 'for sid:' ,ref_sids[0])\n",
    "print('The 10 most similar customers are:')\n",
    "similar_customer_list[:10]"
   ]
  },
  {
   "cell_type": "markdown",
   "metadata": {},
   "source": [
    "# Code below is WIP - Please Ignore"
   ]
  },
  {
   "cell_type": "code",
   "execution_count": 18,
   "metadata": {},
   "outputs": [
    {
     "name": "stdout",
     "output_type": "stream",
     "text": [
      "8.818077860851314\n",
      "21.759117725540023\n"
     ]
    },
    {
     "data": {
      "image/png": "[encoded data removed]",
      "text/plain": [
       "<Figure size 432x288 with 1 Axes>"
      ]
     },
     "metadata": {},
     "output_type": "display_data"
    }
   ],
   "source": [
    "print(np.mean(get_normalized_scores(test_sid)))\n",
    "print(np.mean(get_clean_scores(test_sid)))\n",
    "\n",
    "#plt.hist(get_normalized_scores(test_sid));\n",
    "plt.hist(get_clean_scores(test_sid));"
   ]
  },
  {
   "cell_type": "code",
   "execution_count": 19,
   "metadata": {},
   "outputs": [
    {
     "ename": "NameError",
     "evalue": "name 'ref_scores' is not defined",
     "output_type": "error",
     "traceback": [
      "\u001b[1;31m---------------------------------------------------------------------------\u001b[0m",
      "\u001b[1;31mNameError\u001b[0m                                 Traceback (most recent call last)",
      "\u001b[1;32m<ipython-input-19-67acdb37abb0>\u001b[0m in \u001b[0;36m<module>\u001b[1;34m()\u001b[0m\n\u001b[0;32m      1\u001b[0m \u001b[0mtest_sid_idx\u001b[0m \u001b[1;33m=\u001b[0m \u001b[0mnp\u001b[0m\u001b[1;33m.\u001b[0m\u001b[0mwhere\u001b[0m\u001b[1;33m(\u001b[0m\u001b[0mfull_matrix_indices\u001b[0m\u001b[1;33m==\u001b[0m\u001b[0mtest_sid\u001b[0m\u001b[1;33m)\u001b[0m\u001b[1;33m[\u001b[0m\u001b[1;36m0\u001b[0m\u001b[1;33m]\u001b[0m\u001b[1;33m[\u001b[0m\u001b[1;36m0\u001b[0m\u001b[1;33m]\u001b[0m\u001b[1;33m\u001b[0m\u001b[0m\n\u001b[0;32m      2\u001b[0m \u001b[0mfull_ss_matrix\u001b[0m\u001b[1;33m.\u001b[0m\u001b[0miloc\u001b[0m\u001b[1;33m[\u001b[0m\u001b[1;33m:\u001b[0m\u001b[1;33m,\u001b[0m\u001b[0mtest_sid_idx\u001b[0m\u001b[1;33m]\u001b[0m\u001b[1;33m\u001b[0m\u001b[0m\n\u001b[1;32m----> 3\u001b[1;33m \u001b[0mprint\u001b[0m\u001b[1;33m(\u001b[0m\u001b[0mref_scores\u001b[0m\u001b[1;33m)\u001b[0m\u001b[1;33m\u001b[0m\u001b[0m\n\u001b[0m\u001b[0;32m      4\u001b[0m \u001b[0mplt\u001b[0m\u001b[1;33m.\u001b[0m\u001b[0mhist\u001b[0m\u001b[1;33m(\u001b[0m\u001b[0mref_scores\u001b[0m\u001b[1;33m)\u001b[0m\u001b[1;33m;\u001b[0m\u001b[1;33m\u001b[0m\u001b[0m\n",
      "\u001b[1;31mNameError\u001b[0m: name 'ref_scores' is not defined"
     ]
    }
   ],
   "source": [
    "test_sid_idx = np.where(full_matrix_indices==test_sid)[0][0]\n",
    "full_ss_matrix.iloc[:,test_sid_idx]\n",
    "print(ref_scores)\n",
    "plt.hist(ref_scores);"
   ]
  },
  {
   "cell_type": "code",
   "execution_count": 24,
   "metadata": {},
   "outputs": [
    {
     "name": "stdout",
     "output_type": "stream",
     "text": [
      "717BC75192\n",
      "skew 0.8516533075470624\n",
      "14.711850254129606 8.993045042955247 13.654\n"
     ]
    },
    {
     "data": {
      "image/png": "[encoded data removed]",
      "text/plain": [
       "<Figure size 432x288 with 1 Axes>"
      ]
     },
     "metadata": {},
     "output_type": "display_data"
    }
   ],
   "source": [
    "test_sid= np.random.choice(full_matrix_indices)\n",
    "print(test_sid)\n",
    "print('skew', pd.Series(get_clean_scores(test_sid)).skew())\n",
    "\n",
    "tarrplot = get_clean_scores(test_sid)\n",
    "#print(tarrplot)\n",
    "#print(len(tarrplot))\n",
    "print(np.nanmean(tarrplot), np.nanstd(tarrplot), np.nanmedian(tarrplot))\n",
    "plt.hist(tarrplot);\n",
    "plt.hist(get_normalized_scores(tarrplot))\n",
    "plt.legend(['orig', 'normalized']);"
   ]
  },
  {
   "cell_type": "code",
   "execution_count": 25,
   "metadata": {},
   "outputs": [
    {
     "name": "stdout",
     "output_type": "stream",
     "text": [
      "717BC75192\n"
     ]
    },
    {
     "ename": "NameError",
     "evalue": "name 'clean_raw_scores' is not defined",
     "output_type": "error",
     "traceback": [
      "\u001b[1;31m---------------------------------------------------------------------------\u001b[0m",
      "\u001b[1;31mNameError\u001b[0m                                 Traceback (most recent call last)",
      "\u001b[1;32m<ipython-input-25-1bbfcbd45093>\u001b[0m in \u001b[0;36m<module>\u001b[1;34m()\u001b[0m\n\u001b[0;32m      1\u001b[0m \u001b[0mprint\u001b[0m\u001b[1;33m(\u001b[0m\u001b[0mtest_sid\u001b[0m\u001b[1;33m)\u001b[0m\u001b[1;33m\u001b[0m\u001b[0m\n\u001b[1;32m----> 2\u001b[1;33m \u001b[0mtarrplot\u001b[0m \u001b[1;33m=\u001b[0m \u001b[0mclean_raw_scores\u001b[0m\u001b[1;33m(\u001b[0m\u001b[0mget_raw_scores\u001b[0m\u001b[1;33m(\u001b[0m\u001b[0mtest_sid\u001b[0m\u001b[1;33m)\u001b[0m\u001b[1;33m)\u001b[0m\u001b[1;33m\u001b[0m\u001b[0m\n\u001b[0m\u001b[0;32m      3\u001b[0m \u001b[1;31m#print(tarrplot)\u001b[0m\u001b[1;33m\u001b[0m\u001b[1;33m\u001b[0m\u001b[0m\n\u001b[0;32m      4\u001b[0m \u001b[1;31m#print(len(tarrplot))\u001b[0m\u001b[1;33m\u001b[0m\u001b[1;33m\u001b[0m\u001b[0m\n\u001b[0;32m      5\u001b[0m \u001b[0mprint\u001b[0m\u001b[1;33m(\u001b[0m\u001b[0mnp\u001b[0m\u001b[1;33m.\u001b[0m\u001b[0mnanmean\u001b[0m\u001b[1;33m(\u001b[0m\u001b[0mtarrplot\u001b[0m\u001b[1;33m)\u001b[0m\u001b[1;33m,\u001b[0m \u001b[0mnp\u001b[0m\u001b[1;33m.\u001b[0m\u001b[0mnanstd\u001b[0m\u001b[1;33m(\u001b[0m\u001b[0mtarrplot\u001b[0m\u001b[1;33m)\u001b[0m\u001b[1;33m,\u001b[0m \u001b[0mnp\u001b[0m\u001b[1;33m.\u001b[0m\u001b[0mnanmedian\u001b[0m\u001b[1;33m(\u001b[0m\u001b[0mtarrplot\u001b[0m\u001b[1;33m)\u001b[0m\u001b[1;33m)\u001b[0m\u001b[1;33m\u001b[0m\u001b[0m\n",
      "\u001b[1;31mNameError\u001b[0m: name 'clean_raw_scores' is not defined"
     ]
    }
   ],
   "source": [
    "print(test_sid)\n",
    "tarrplot = clean_raw_scores(get_raw_scores(test_sid)) \n",
    "#print(tarrplot)\n",
    "#print(len(tarrplot))\n",
    "print(np.nanmean(tarrplot), np.nanstd(tarrplot), np.nanmedian(tarrplot))\n",
    "plt.hist(tarrplot);\n",
    "plt.hist(normalized_scores(tarrplot))\n",
    "plt.legend(['orig', 'normalized'])"
   ]
  },
  {
   "cell_type": "code",
   "execution_count": 636,
   "metadata": {},
   "outputs": [
    {
     "name": "stdout",
     "output_type": "stream",
     "text": [
      "scores have been normalized\n"
     ]
    },
    {
     "data": {
      "text/plain": [
       "(array([4.69218026, 4.25108677, 3.99153145, ..., 1.38585634, 5.00159081,\n",
       "        3.09083693]), 0.28169284978494175)"
      ]
     },
     "execution_count": 636,
     "metadata": {},
     "output_type": "execute_result"
    }
   ],
   "source": [
    "test_sid\n",
    "np.mean()"
   ]
  },
  {
   "cell_type": "code",
   "execution_count": 623,
   "metadata": {},
   "outputs": [],
   "source": [
    "ref_sids = np.random.choice(full_matrix_indices, size = 10)\n",
    "for a in range(len(ref_sids)):\n",
    "    normalized_scores(clean_raw_scores(get_raw_scores(ref_sids[a])))"
   ]
  },
  {
   "cell_type": "code",
   "execution_count": 598,
   "metadata": {},
   "outputs": [
    {
     "data": {
      "text/plain": [
       "array([ 9.46407444, 15.63377117, 21.11304211, ...,  2.20299242,\n",
       "       10.15301435,  8.74271523])"
      ]
     },
     "execution_count": 598,
     "metadata": {},
     "output_type": "execute_result"
    }
   ],
   "source": [
    "bc(clean_raw_scores(get_raw_scores(test_sid)))[0]\n",
    "#print(len(bc(clean_raw_scores(get_raw_scores(test_sid)))))"
   ]
  },
  {
   "cell_type": "code",
   "execution_count": 591,
   "metadata": {},
   "outputs": [
    {
     "name": "stdout",
     "output_type": "stream",
     "text": [
      "9.464074444628723 [ 9.46407444 15.63377117 21.11304211 ...  2.20299242 10.15301435\n",
      "  8.74271523]\n",
      "15.633771167330304 0.6714225099628383\n"
     ]
    },
    {
     "data": {
      "image/png": "[encoded data removed]",
      "text/plain": [
       "<Figure size 432x288 with 1 Axes>"
      ]
     },
     "metadata": {},
     "output_type": "display_data"
    }
   ],
   "source": [
    "for x in range(2):\n",
    "    print(bc(clean_raw_scores(get_raw_scores(test_sid)))[0][x], bc(clean_raw_scores(get_raw_scores(test_sid)))[x])\n",
    "plt.hist(bc(clean_raw_scores(get_raw_scores(test_sid)))[0]);"
   ]
  },
  {
   "cell_type": "code",
   "execution_count": 580,
   "metadata": {},
   "outputs": [
    {
     "data": {
      "text/plain": [
       "array([False, False, False, ..., False, False, False])"
      ]
     },
     "execution_count": 580,
     "metadata": {},
     "output_type": "execute_result"
    }
   ],
   "source": [
    "#np.nansum(tarrplot)\n",
    "raw_score_array[np.isnan(raw_score_array)] =0\n",
    "np.isnan(raw_score_array)"
   ]
  },
  {
   "cell_type": "code",
   "execution_count": 563,
   "metadata": {},
   "outputs": [
    {
     "name": "stdout",
     "output_type": "stream",
     "text": [
      "[19.526 37.984 57.435 ...  3.866 21.383 17.642]\n",
      "3148\n",
      "26.187645338848235 12.210900701638343 25.328\n"
     ]
    },
    {
     "data": {
      "image/png": "[encoded data removed]",
      "text/plain": [
       "<Figure size 432x288 with 1 Axes>"
      ]
     },
     "metadata": {},
     "output_type": "display_data"
    }
   ],
   "source": [
    "tarrplot = clean_raw_scores(get_raw_scores(test_sid)) \n",
    "print(tarrplot)\n",
    "print(len(tarrplot))\n",
    "print(np.nanmean(tarrplot), np.nanstd(tarrplot), np.nanmedian(tarrplot))\n",
    "plt.hist(tarrplot);"
   ]
  },
  {
   "cell_type": "code",
   "execution_count": 538,
   "metadata": {},
   "outputs": [
    {
     "name": "stdout",
     "output_type": "stream",
     "text": [
      "571 µs ± 38 µs per loop (mean ± std. dev. of 7 runs, 1000 loops each)\n"
     ]
    }
   ],
   "source": [
    "%%timeit\n",
    "skew(t)"
   ]
  },
  {
   "cell_type": "code",
   "execution_count": 539,
   "metadata": {},
   "outputs": [
    {
     "name": "stdout",
     "output_type": "stream",
     "text": [
      "396 µs ± 38.7 µs per loop (mean ± std. dev. of 7 runs, 1000 loops each)\n"
     ]
    }
   ],
   "source": [
    "%%timeit\n",
    "pd.Series(t).skew()"
   ]
  },
  {
   "cell_type": "code",
   "execution_count": 526,
   "metadata": {},
   "outputs": [
    {
     "name": "stdout",
     "output_type": "stream",
     "text": [
      "t: [-100.      12.364   31.161 ...   15.335   24.538   28.27 ]\n",
      "nan\n"
     ]
    },
    {
     "data": {
      "text/plain": [
       "-0.07725394891520136"
      ]
     },
     "execution_count": 526,
     "metadata": {},
     "output_type": "execute_result"
    }
   ],
   "source": [
    "t = get_raw_scores(test_sid)\n",
    "print('t:', t)\n",
    "print(skew(t))\n",
    "pd.Series(t).skew()"
   ]
  },
  {
   "cell_type": "code",
   "execution_count": 459,
   "metadata": {},
   "outputs": [
    {
     "name": "stdout",
     "output_type": "stream",
     "text": [
      "[16.012 50.154 27.731 ...  3.844 14.677 15.928]\n",
      "[-100.      12.364   31.161 ...   15.335   24.538   28.27 ]\n",
      "skew of normal nan\n",
      "skew after removing -100 and 0 nan\n",
      "skew after simple bc normalization nan\n",
      "skew after lmbda = 0.5 bc normalization nan\n"
     ]
    },
    {
     "data": {
      "text/plain": [
       "<matplotlib.legend.Legend at 0x1f81ceadd68>"
      ]
     },
     "execution_count": 459,
     "metadata": {},
     "output_type": "execute_result"
    },
    {
     "data": {
      "image/png": "[encoded data removed]",
      "text/plain": [
       "<Figure size 432x288 with 1 Axes>"
      ]
     },
     "metadata": {},
     "output_type": "display_data"
    }
   ],
   "source": [
    "from scipy.stats import skew\n",
    "testarr = t\n",
    "print(testarr)\n",
    "print(full_ss_matrix_optimized[0:,0])\n",
    "print('skew of normal', skew(full_ss_matrix_optimized[0:,0]))\n",
    "print('skew after removing -100 and 0', skew(testarr))\n",
    "print('skew after simple bc normalization', skew(bc(testarr)[0]))\n",
    "print('skew after lmbda = 0.5 bc normalization', skew(bc(testarr, lmbda = 0.5)))\n",
    "plt.hist(full_ss_matrix_optimized[0:,0]);\n",
    "plt.hist(testarr)\n",
    "plt.hist(bc(testarr)[0]);\n",
    "plt.hist(bc(testarr, lmbda = 0.5));\n",
    "\n",
    "plt.legend([ 'oiginal','without -100','lmbda = 1', 'lmbda = 0.5'])"
   ]
  },
  {
   "cell_type": "code",
   "execution_count": null,
   "metadata": {},
   "outputs": [],
   "source": []
  },
  {
   "cell_type": "markdown",
   "metadata": {},
   "source": [
    "### Step 4: Calculate SS threshold for a given percentile"
   ]
  },
  {
   "cell_type": "code",
   "execution_count": 423,
   "metadata": {},
   "outputs": [
    {
     "name": "stdout",
     "output_type": "stream",
     "text": [
      "65.0\n",
      "(array([], dtype=int64),)\n",
      "65.0\n"
     ]
    }
   ],
   "source": [
    "test_sid = '00B9362597'\n",
    "test_arr2 = get_raw_scores(test_sid) \n",
    "print(test_arr2[4])\n",
    "\n",
    "zero_elem_idx = np.where(get_raw_scores(test_sid)<=0)       \n",
    "print(zero_elem_idx)\n",
    "\n",
    "print(test_arr2[4])"
   ]
  },
  {
   "cell_type": "code",
   "execution_count": 136,
   "metadata": {},
   "outputs": [
    {
     "name": "stdout",
     "output_type": "stream",
     "text": [
      "009F7F037A\n"
     ]
    }
   ],
   "source": [
    "\n",
    "len(full_matrix_indices)\n",
    "print(full_matrix_indices[3])"
   ]
  },
  {
   "cell_type": "code",
   "execution_count": 159,
   "metadata": {},
   "outputs": [
    {
     "name": "stdout",
     "output_type": "stream",
     "text": [
      "[-100.      12.364   31.161 ...   15.335   24.538   28.27 ]\n",
      "[0. 0. 0. ... 0. 0. 0.]\n",
      "[0. 0. 0. ... 0. 0. 0.]\n",
      "[0. 0. 0. ... 0. 0. 0.]\n",
      "[0. 0. 0. ... 0. 0. 0.]\n",
      "[0. 0. 0. ... 0. 0. 0.]\n"
     ]
    }
   ],
   "source": [
    "for x in range(len(np.where(full_ss_matrix_optimized[np.where(full_matrix_indices == '004BB4E8C4')]<=0)[1])):\n",
    "    print(full_ss_matrix_optimized[np.where(full_ss_matrix_optimized[np.where(full_matrix_indices == '004BB4E8C4')]<=0)[1][x]])\n"
   ]
  },
  {
   "cell_type": "code",
   "execution_count": 206,
   "metadata": {},
   "outputs": [
    {
     "name": "stdout",
     "output_type": "stream",
     "text": [
      "[0 1 2 3 4]\n",
      "After put : \n",
      " [-44   1 -55   3   4]\n",
      "[0.0001 0.0001 0.0001 0.0001 0.0001 0.0001]\n"
     ]
    }
   ],
   "source": [
    "a = np.arange(5) \n",
    "print(a)\n",
    "np.put(a, [0, 2], [-44, -55]) \n",
    "print(\"After put : \\n\", a)\n",
    "print(np.full(shape = len(zero_elem_idx), fill_value = 0.0001 ))"
   ]
  },
  {
   "cell_type": "code",
   "execution_count": 384,
   "metadata": {},
   "outputs": [
    {
     "name": "stdout",
     "output_type": "stream",
     "text": [
      "[0]\n",
      "[-100.      12.364   31.161 ...   15.335   24.538   28.27 ]\n",
      "[0]\n",
      "# of elements to change: 1\n",
      "-100.0\n",
      "[-100.      12.364   31.161 ...   15.335   24.538   28.27 ]\n",
      "[0]\n"
     ]
    }
   ],
   "source": [
    "sid_idx = np.where(full_matrix_indices == '004BB4E8C4')\n",
    "print(sid_idx[0])\n",
    "print(full_ss_matrix_optimized[sid_idx][0])\n",
    "zero_elem_idx = np.where(full_ss_matrix_optimized[sid_idx][0] <=0)[0]       \n",
    "print(zero_elem_idx)\n",
    "print('# of elements to change:', len(zero_elem_idx))\n",
    "print(full_ss_matrix_optimized[sid_idx][0][zero_elem_idx[0]])\n",
    "np.put(full_ss_matrix_optimized[sid_idx][0],zero_elem_idx, np.full(shape = len(zero_elem_idx), fill_value = 0.0001 ) )\n",
    "print(full_ss_matrix_optimized[sid_idx][0])\n",
    "#check\n",
    "zero_elem_idx = np.where(full_ss_matrix_optimized[sid_idx][0] <=0)[0]       \n",
    "print(zero_elem_idx)\n"
   ]
  },
  {
   "cell_type": "code",
   "execution_count": 385,
   "metadata": {},
   "outputs": [
    {
     "name": "stdout",
     "output_type": "stream",
     "text": [
      "[-100.      12.364   31.161 ...   15.335   24.538   28.27 ]\n",
      "4\n",
      "[-100.      12.364   31.161 ...   15.335   24.538   28.27 ]\n",
      "[1.0000e-05 1.2364e+01 3.1161e+01 ... 1.5335e+01 2.4538e+01 2.8270e+01]\n",
      "[0]\n",
      "[0]\n",
      "\n",
      "[-100.      12.364   31.161 ...   15.335   24.538   28.27 ]\n",
      "(array([0], dtype=int64),)\n"
     ]
    },
    {
     "data": {
      "text/plain": [
       "(array([1.000e+00, 2.400e+01, 3.500e+01, 1.170e+02, 3.240e+02, 8.590e+02,\n",
       "        1.013e+03, 5.560e+02, 1.730e+02, 4.100e+01]),\n",
       " array([-1.99367544, -0.36667158,  1.26033229,  2.88733616,  4.51434003,\n",
       "         6.14134389,  7.76834776,  9.39535163, 11.0223555 , 12.64935936,\n",
       "        14.27636323]),\n",
       " <a list of 10 Patch objects>)"
      ]
     },
     "execution_count": 385,
     "metadata": {},
     "output_type": "execute_result"
    },
    {
     "data": {
      "image/png": "[encoded data removed]",
      "text/plain": [
       "<Figure size 432x288 with 1 Axes>"
      ]
     },
     "metadata": {},
     "output_type": "display_data"
    }
   ],
   "source": [
    "testarr = full_ss_matrix_optimized[sid_idx][0] \n",
    "print(testarr)\n",
    "np.put(testarr,zero_elem_idx, np.full(shape = len(zero_elem_idx),fill_value = 0.00001 )) \n",
    "print(a)\n",
    "print(full_ss_matrix_optimized[sid_idx][0])\n",
    "print(testarr)\n",
    "full_ss_matrix_optimized[sid_idx][0] = testarr\n",
    "print(zero_elem_idx)\n",
    "print(np.ndarray.tolist(zero_elem_idx))\n",
    "print()\n",
    "print(full_ss_matrix_optimized[sid_idx][0])\n",
    "print(sid_idx)\n",
    "#plt.hist(full_ss_matrix_optimized[sid_idx][0])\n",
    "#plt.hist(testarr);\n",
    "plt.hist(bc(testarr, lmbda = 0.5))"
   ]
  },
  {
   "cell_type": "code",
   "execution_count": 173,
   "metadata": {},
   "outputs": [
    {
     "data": {
      "text/plain": [
       "array([-100.   ,   12.364,   31.161, ...,   15.335,   24.538,   28.27 ])"
      ]
     },
     "execution_count": 173,
     "metadata": {},
     "output_type": "execute_result"
    }
   ],
   "source": [
    "full_ss_matrix_optimized[np.where(full_ss_matrix_optimized[np.where(full_matrix_indices == '004BB4E8C4')]<=0)[1][sid_idx]][0]"
   ]
  },
  {
   "cell_type": "code",
   "execution_count": 127,
   "metadata": {},
   "outputs": [
    {
     "name": "stdout",
     "output_type": "stream",
     "text": [
      "3148 (3148, 3148) 89604\n"
     ]
    },
    {
     "data": {
      "text/plain": [
       "0"
      ]
     },
     "execution_count": 127,
     "metadata": {},
     "output_type": "execute_result"
    }
   ],
   "source": [
    "print(len(full_ss_matrix_optimized), full_ss_matrix_optimized.shape, 3148*3148 - 9820300)\n",
    "full_ss_matrix_optimized = np.nan_to_num(full_ss_matrix_optimized)\n",
    "np.count_nonzero(np.isnan(full_ss_matrix_optimized))"
   ]
  },
  {
   "cell_type": "code",
   "execution_count": 144,
   "metadata": {},
   "outputs": [
    {
     "data": {
      "text/plain": [
       "array([-1.99367544])"
      ]
     },
     "execution_count": 144,
     "metadata": {},
     "output_type": "execute_result"
    }
   ],
   "source": [
    "bc(np.array([0.00001]), lmbda = 0.5)"
   ]
  },
  {
   "cell_type": "code",
   "execution_count": 128,
   "metadata": {},
   "outputs": [
    {
     "ename": "ValueError",
     "evalue": "Data must be positive.",
     "output_type": "error",
     "traceback": [
      "\u001b[1;31m---------------------------------------------------------------------------\u001b[0m",
      "\u001b[1;31mValueError\u001b[0m                                Traceback (most recent call last)",
      "\u001b[1;32m<ipython-input-128-2b606686ee9b>\u001b[0m in \u001b[0;36m<module>\u001b[1;34m()\u001b[0m\n\u001b[0;32m      1\u001b[0m \u001b[0mfull_ss_matrix_optimized\u001b[0m \u001b[1;33m=\u001b[0m \u001b[0mnp\u001b[0m\u001b[1;33m.\u001b[0m\u001b[0mnan_to_num\u001b[0m\u001b[1;33m(\u001b[0m\u001b[0mfull_ss_matrix_optimized\u001b[0m\u001b[1;33m)\u001b[0m\u001b[1;33m\u001b[0m\u001b[0m\n\u001b[1;32m----> 2\u001b[1;33m \u001b[0mfull_ss_matrix_bctransform\u001b[0m \u001b[1;33m=\u001b[0m \u001b[0mbc\u001b[0m\u001b[1;33m(\u001b[0m\u001b[0mfull_ss_matrix_optimized\u001b[0m\u001b[1;33m[\u001b[0m\u001b[0mfull_ss_matrix_optimized\u001b[0m\u001b[1;33m>=\u001b[0m\u001b[1;36m0\u001b[0m\u001b[1;33m]\u001b[0m\u001b[1;33m,\u001b[0m\u001b[0mlmbda\u001b[0m \u001b[1;33m=\u001b[0m \u001b[1;36m0.5\u001b[0m\u001b[1;33m)\u001b[0m\u001b[1;33m\u001b[0m\u001b[0m\n\u001b[0m\u001b[0;32m      3\u001b[0m \u001b[0mfull_ss_matrix_bctransform\u001b[0m\u001b[1;33m[\u001b[0m\u001b[1;36m1\u001b[0m\u001b[1;33m:\u001b[0m\u001b[1;33m,\u001b[0m\u001b[1;36m0\u001b[0m\u001b[1;33m]\u001b[0m\u001b[1;33m\u001b[0m\u001b[0m\n",
      "\u001b[1;32m~\\Anaconda3\\lib\\site-packages\\scipy\\stats\\morestats.py\u001b[0m in \u001b[0;36mboxcox\u001b[1;34m(x, lmbda, alpha)\u001b[0m\n\u001b[0;32m   1028\u001b[0m \u001b[1;33m\u001b[0m\u001b[0m\n\u001b[0;32m   1029\u001b[0m     \u001b[1;32mif\u001b[0m \u001b[0many\u001b[0m\u001b[1;33m(\u001b[0m\u001b[0mx\u001b[0m \u001b[1;33m<=\u001b[0m \u001b[1;36m0\u001b[0m\u001b[1;33m)\u001b[0m\u001b[1;33m:\u001b[0m\u001b[1;33m\u001b[0m\u001b[0m\n\u001b[1;32m-> 1030\u001b[1;33m         \u001b[1;32mraise\u001b[0m \u001b[0mValueError\u001b[0m\u001b[1;33m(\u001b[0m\u001b[1;34m\"Data must be positive.\"\u001b[0m\u001b[1;33m)\u001b[0m\u001b[1;33m\u001b[0m\u001b[0m\n\u001b[0m\u001b[0;32m   1031\u001b[0m \u001b[1;33m\u001b[0m\u001b[0m\n\u001b[0;32m   1032\u001b[0m     \u001b[1;32mif\u001b[0m \u001b[0mlmbda\u001b[0m \u001b[1;32mis\u001b[0m \u001b[1;32mnot\u001b[0m \u001b[1;32mNone\u001b[0m\u001b[1;33m:\u001b[0m  \u001b[1;31m# single transformation\u001b[0m\u001b[1;33m\u001b[0m\u001b[0m\n",
      "\u001b[1;31mValueError\u001b[0m: Data must be positive."
     ]
    }
   ],
   "source": [
    "full_ss_matrix_optimized = np.nan_to_num(full_ss_matrix_optimized)\n",
    "full_ss_matrix_bctransform = bc(full_ss_matrix_optimized[full_ss_matrix_optimized>0],lmbda = 0.5)\n",
    "full_ss_matrix_bctransform[1:,0]"
   ]
  },
  {
   "cell_type": "markdown",
   "metadata": {},
   "source": [
    "### Measuring Skewness"
   ]
  },
  {
   "cell_type": "code",
   "execution_count": 471,
   "metadata": {},
   "outputs": [
    {
     "data": {
      "text/plain": [
       "numpy.ndarray"
      ]
     },
     "execution_count": 471,
     "metadata": {},
     "output_type": "execute_result"
    }
   ],
   "source": [
    "type(testarr)"
   ]
  },
  {
   "cell_type": "code",
   "execution_count": 469,
   "metadata": {},
   "outputs": [
    {
     "data": {
      "text/plain": [
       "2.040770159656908"
      ]
     },
     "execution_count": 469,
     "metadata": {},
     "output_type": "execute_result"
    }
   ],
   "source": [
    "skew([0,1,2,3,4,500,6])"
   ]
  },
  {
   "cell_type": "code",
   "execution_count": 467,
   "metadata": {},
   "outputs": [
    {
     "data": {
      "text/plain": [
       "nan"
      ]
     },
     "execution_count": 467,
     "metadata": {},
     "output_type": "execute_result"
    }
   ],
   "source": [
    "skew(bc(testarr)[0])\n",
    "#bc(testarr, lmbda = 0.5)"
   ]
  },
  {
   "cell_type": "code",
   "execution_count": 470,
   "metadata": {},
   "outputs": [
    {
     "name": "stdout",
     "output_type": "stream",
     "text": [
      "[31.161 27.956 19.526 ... 15.335 24.538 28.27 ]\n",
      "[31.161 27.956 19.526 ... 15.335 24.538 28.27 ]\n",
      "skew of normal nan\n",
      "skew after removing -100 and 0 nan\n",
      "skew after simple bc normalization nan\n",
      "skew after lmbda = 0.5 bc normalization nan\n"
     ]
    },
    {
     "data": {
      "text/plain": [
       "<matplotlib.legend.Legend at 0x1f81d1cc908>"
      ]
     },
     "execution_count": 470,
     "metadata": {},
     "output_type": "execute_result"
    },
    {
     "data": {
      "image/png": "[encoded data removed]",
      "text/plain": [
       "<Figure size 432x288 with 1 Axes>"
      ]
     },
     "metadata": {},
     "output_type": "display_data"
    }
   ],
   "source": [
    "from scipy.stats import skew\n",
    "testarr = full_ss_matrix_optimized[2:,0]\n",
    "\n",
    "print(testarr)\n",
    "print(full_ss_matrix_optimized[2:,0])\n",
    "print('skew of normal', skew(full_ss_matrix_optimized[2:,0]))\n",
    "print('skew after removing -100 and 0', skew(testarr))\n",
    "print('skew after simple bc normalization', skew(bc(testarr)[0]))\n",
    "print('skew after lmbda = 0.5 bc normalization', skew(bc(testarr, lmbda = 0.5)))\n",
    "plt.hist(full_ss_matrix_optimized[0:,0]);\n",
    "plt.hist(testarr)\n",
    "plt.hist(bc(testarr)[0]);\n",
    "plt.hist(bc(testarr, lmbda = 0.5));\n",
    "\n",
    "plt.legend([ 'oiginal','without -100','lmbda = 1', 'lmbda = 0.5'])"
   ]
  },
  {
   "cell_type": "code",
   "execution_count": null,
   "metadata": {},
   "outputs": [],
   "source": [
    "#code to find highest score in table\n",
    "#np.max(sstable.max(axis = 1))"
   ]
  },
  {
   "cell_type": "code",
   "execution_count": null,
   "metadata": {},
   "outputs": [],
   "source": [
    "raw_df.columns"
   ]
  },
  {
   "cell_type": "code",
   "execution_count": null,
   "metadata": {},
   "outputs": [],
   "source": [
    "ref_sids = ['7B8E9E45F5','E0518749DD','924052DDF5','AACOENJW','FHVD7BDTDG']\n",
    "ref_sids = sstable.T.sample(5).index.values\n",
    "ref_sids"
   ]
  },
  {
   "cell_type": "code",
   "execution_count": null,
   "metadata": {},
   "outputs": [],
   "source": [
    "np.where(np.array(arr)<=0)"
   ]
  },
  {
   "cell_type": "code",
   "execution_count": null,
   "metadata": {},
   "outputs": [],
   "source": [
    "print(np.sort(arr))"
   ]
  },
  {
   "cell_type": "code",
   "execution_count": null,
   "metadata": {},
   "outputs": [],
   "source": [
    "ref_sids = full_ss_matrix.sample(5).index.values\n",
    "arr = full_ss_matrix.loc[ref_sids[0]]\n",
    "print(ref_sids[0])\n"
   ]
  },
  {
   "cell_type": "code",
   "execution_count": 301,
   "metadata": {},
   "outputs": [
    {
     "name": "stdout",
     "output_type": "stream",
     "text": [
      "bc transform 8.097259967704678 2.667408177277172\n",
      "regular 27.16329089751746 12.994519060327098\n",
      "bc transform 5.0243163189604365 1.8648563009293586\n",
      "regular 13.175258752387013 6.853290580533776\n",
      "bc transform 6.267105137440543 2.4668710131624625\n",
      "regular 18.607619987269295 10.427253623921121\n",
      "bc transform 8.60532810851486 2.869062094498434\n",
      "regular 30.176125397835726 14.71904376409278\n",
      "bc transform 8.621366792828335 2.652228140711697\n",
      "regular 29.961936664544833 13.816264240159617\n"
     ]
    },
    {
     "data": {
      "image/png": "[encoded data removed]",
      "text/plain": [
       "<Figure size 432x288 with 1 Axes>"
      ]
     },
     "metadata": {},
     "output_type": "display_data"
    }
   ],
   "source": [
    "#ref_sids = full_ss_matrix.sample(5).index.values\n",
    "for a in range(len(ref_sids)):\n",
    "    arr = full_ss_matrix.loc[ref_sids[a]]\n",
    "    arr_pos = arr[arr>0]#arr[arr!=-100]\n",
    "    arr_bc = bc(arr_pos, lmbda = 0.5)\n",
    "    #plt.figure()\n",
    "    #plt.boxplot(arr_bc)\n",
    "    #plt.hist(arr[arr!=-100])\n",
    "    #plt.figure()\n",
    "    plt.hist(arr_bc)\n",
    "    plt.title('Similarity Score Distributions for ref_sids')# + str(ref_sids[a]))\n",
    "    plt.ylabel('# of Customers')\n",
    "    plt.xlabel('Score')\n",
    "    plt.legend(ref_sids)\n",
    "    print('bc transform',np.mean(arr_bc),np.std(arr_bc))\n",
    "    print('regular',np.mean(arr[arr!=-100]),np.std(arr[arr!=-100]))\n",
    "    '''\n",
    "    print('For',ref_sids[a],':')\n",
    "    print('mean:', np.mean(arr))\n",
    "    print('median:',np.median(arr))\n",
    "    print('std dev', np.std(arr), '\\n')\n",
    "    '''"
   ]
  },
  {
   "cell_type": "code",
   "execution_count": 302,
   "metadata": {},
   "outputs": [
    {
     "data": {
      "image/png": "[encoded data removed]",
      "text/plain": [
       "<Figure size 432x288 with 1 Axes>"
      ]
     },
     "metadata": {},
     "output_type": "display_data"
    }
   ],
   "source": [
    "#ref_sids = full_ss_matrix.sample(5).index.values\n",
    "plt.clf()\n",
    "for a in range(len(ref_sids)):\n",
    "    arr = full_ss_matrix.loc[ref_sids[a]]\n",
    "    #arr_pos = arr[arr>0]#arr[arr!=-100]\n",
    "    #arr_bc = bc(arr_pos, lmbda = 0.5)\n",
    "    #plt.figure()\n",
    "    #plt.boxplot(arr[arr>0])\n",
    "    #print(arr[arr!=-100])\n",
    "    plt.hist(arr[arr!=-100])\n",
    "    #plt.figure()\n",
    "    #plt.hist(arr_bc)\n",
    "    plt.title('Similarity Score Distributions for ref_sids')# + str(ref_sids[a]))\n",
    "    plt.ylabel('# of Customers')\n",
    "    plt.xlabel('Score')\n",
    "    plt.legend(ref_sids)\n",
    "    '''\n",
    "    print('For',ref_sids[a],':')\n",
    "    print('mean:', np.mean(arr))\n",
    "    print('median:',np.median(arr))\n",
    "    print('std dev', np.std(arr), '\\n')\n",
    "    '''"
   ]
  },
  {
   "cell_type": "code",
   "execution_count": 28,
   "metadata": {},
   "outputs": [
    {
     "name": "stdout",
     "output_type": "stream",
     "text": [
      "Pivot table created for a subset of all customer IDs\n"
     ]
    },
    {
     "data": {
      "text/html": [
       "<div>\n",
       "<style scoped>\n",
       "    .dataframe tbody tr th:only-of-type {\n",
       "        vertical-align: middle;\n",
       "    }\n",
       "\n",
       "    .dataframe tbody tr th {\n",
       "        vertical-align: top;\n",
       "    }\n",
       "\n",
       "    .dataframe thead th {\n",
       "        text-align: right;\n",
       "    }\n",
       "</style>\n",
       "<table border=\"1\" class=\"dataframe\">\n",
       "  <thead>\n",
       "    <tr style=\"text-align: right;\">\n",
       "      <th>zone</th>\n",
       "      <th>0</th>\n",
       "      <th>1</th>\n",
       "      <th>2</th>\n",
       "      <th>3</th>\n",
       "      <th>4</th>\n",
       "      <th>5</th>\n",
       "      <th>6</th>\n",
       "      <th>7</th>\n",
       "      <th>8</th>\n",
       "      <th>9</th>\n",
       "    </tr>\n",
       "    <tr>\n",
       "      <th>business_sid</th>\n",
       "      <th></th>\n",
       "      <th></th>\n",
       "      <th></th>\n",
       "      <th></th>\n",
       "      <th></th>\n",
       "      <th></th>\n",
       "      <th></th>\n",
       "      <th></th>\n",
       "      <th></th>\n",
       "      <th></th>\n",
       "    </tr>\n",
       "  </thead>\n",
       "  <tbody>\n",
       "    <tr>\n",
       "      <th>PGQJF2XJOP</th>\n",
       "      <td>0</td>\n",
       "      <td>0</td>\n",
       "      <td>1</td>\n",
       "      <td>2</td>\n",
       "      <td>5</td>\n",
       "      <td>4</td>\n",
       "      <td>4</td>\n",
       "      <td>0</td>\n",
       "      <td>1</td>\n",
       "      <td>0</td>\n",
       "    </tr>\n",
       "  </tbody>\n",
       "</table>\n",
       "</div>"
      ],
      "text/plain": [
       "zone          0  1  2  3  4  5  6  7  8  9\n",
       "business_sid                              \n",
       "PGQJF2XJOP    0  0  1  2  5  4  4  0  1  0"
      ]
     },
     "execution_count": 28,
     "metadata": {},
     "output_type": "execute_result"
    }
   ],
   "source": [
    "t = benchmarking_df[benchmarking_df['business_sid']==ref_sids[0]]\n",
    "create_volumeCount_pivotTable(t)"
   ]
  },
  {
   "cell_type": "code",
   "execution_count": 41,
   "metadata": {},
   "outputs": [
    {
     "data": {
      "text/plain": [
       "array(['PGQJF2XJOP', '8F7CFF1857', 'DC72AC7CDB', 'O27BMPS968',\n",
       "       'A132B9207D'], dtype=object)"
      ]
     },
     "execution_count": 41,
     "metadata": {},
     "output_type": "execute_result"
    }
   ],
   "source": [
    "ref_sids"
   ]
  },
  {
   "cell_type": "code",
   "execution_count": 56,
   "metadata": {},
   "outputs": [
    {
     "data": {
      "text/plain": [
       "array(['CF434BAE71', '63A6C8EC1B', 'A029652A4E', 'ZPOU6IQNXR',\n",
       "       'A4C71D519F', 'MCEJ5Y0ASV', '97712AFDBF', '6F42IWMUST',\n",
       "       'B778C76526', '5D0073AF39'], dtype=object)"
      ]
     },
     "execution_count": 56,
     "metadata": {},
     "output_type": "execute_result"
    }
   ],
   "source": [
    "topN_list = sstable.T.nlargest(n,ref_sids[0], keep = 'all').index.values\n",
    "topN_list"
   ]
  },
  {
   "cell_type": "code",
   "execution_count": 57,
   "metadata": {},
   "outputs": [
    {
     "data": {
      "text/plain": [
       "array(['CF434BAE71', '63A6C8EC1B', 'A029652A4E', 'ZPOU6IQNXR',\n",
       "       'A4C71D519F', 'MCEJ5Y0ASV', '97712AFDBF', '6F42IWMUST',\n",
       "       'B778C76526', '5D0073AF39'], dtype=object)"
      ]
     },
     "execution_count": 57,
     "metadata": {},
     "output_type": "execute_result"
    }
   ],
   "source": [
    "topN_list = sstable.nlargest(n,ref_sids[0], keep = 'all').index.values\n",
    "topN_list"
   ]
  },
  {
   "cell_type": "code",
   "execution_count": 79,
   "metadata": {},
   "outputs": [
    {
     "data": {
      "text/plain": [
       "71.665"
      ]
     },
     "execution_count": 79,
     "metadata": {},
     "output_type": "execute_result"
    }
   ],
   "source": [
    "full_ss_matrix[topN_list[0]][ref_sids[0]]"
   ]
  },
  {
   "cell_type": "code",
   "execution_count": 88,
   "metadata": {
    "scrolled": true
   },
   "outputs": [
    {
     "data": {
      "text/plain": [
       "71.665"
      ]
     },
     "execution_count": 88,
     "metadata": {},
     "output_type": "execute_result"
    }
   ],
   "source": [
    "#timeit\n",
    "full_ss_matrix[topN_list[0]].ix[ref_sids[0]]"
   ]
  },
  {
   "cell_type": "code",
   "execution_count": 89,
   "metadata": {},
   "outputs": [
    {
     "name": "stdout",
     "output_type": "stream",
     "text": [
      "\n",
      "Similarity Scores for Top 10 similar customers for PGQJF2XJOP\n",
      "CF434BAE71 (71.665)\n",
      "63A6C8EC1B (71.255)\n",
      "A029652A4E (71.205)\n",
      "ZPOU6IQNXR (70.967)\n",
      "A4C71D519F (69.317)\n",
      "MCEJ5Y0ASV (69.036)\n",
      "97712AFDBF (68.743)\n",
      "6F42IWMUST (68.084)\n",
      "B778C76526 (67.584)\n",
      "5D0073AF39 (67.245)\n",
      "\n",
      "Similarity Scores for Top 10 similar customers for 8F7CFF1857\n",
      "3C59EF3EAD (83.918)\n",
      "6951434A95 (71.382)\n",
      "7937E182A1 (70.777)\n",
      "3D7D1D9FEB (70.727)\n",
      "E82BFD5144 (69.516)\n",
      "C430AFFC47 (67.308)\n",
      "DE24EE3194 (66.59)\n",
      "356D455B95 (66.551)\n",
      "F599679DBC (66.469)\n",
      "5A0B7BC470 (65.139)\n",
      "\n",
      "Similarity Scores for Top 10 similar customers for DC72AC7CDB\n",
      "68A7428672 (68.105)\n",
      "7DC7ED0BBA (66.595)\n",
      "4F27729B51 (64.714)\n",
      "145C154587 (64.383)\n",
      "EB5B08048F (63.909)\n",
      "1TGC37MIUE (63.178)\n",
      "EF4FF2B2DB (62.949)\n",
      "45814D50D2 (62.29)\n",
      "5933B070C6 (61.8)\n",
      "644B3C656E (61.42)\n",
      "\n",
      "Similarity Scores for Top 10 similar customers for O27BMPS968\n",
      "6STC3ZNDTH (83.38)\n",
      "762FA5FD14 (81.831)\n",
      "76447603C6 (78.211)\n",
      "BB9EE0E29A (77.986)\n",
      "B166B8D4F8 (76.435)\n",
      "NBMOX1L756 (76.359)\n",
      "970649FDF8 (75.804)\n",
      "NBHBSBVTHS (75.244)\n",
      "C847546880 (73.161)\n",
      "MFZ9TR828I (72.138)\n",
      "\n",
      "Similarity Scores for Top 10 similar customers for A132B9207D\n",
      "32C7A958A3 (78.485)\n",
      "EC56FD0248 (75.877)\n",
      "7E5B6AB238 (74.22)\n",
      "D0C7CA1E1D (73.199)\n",
      "01573526A1 (71.844)\n",
      "5F72357C8D (71.793)\n",
      "S0KVSO29 (71.764)\n",
      "FE9580115E (71.637)\n",
      "4DAAF46ED5 (71.442)\n",
      "F944A43B31 (71.365)\n"
     ]
    }
   ],
   "source": [
    "#############################\n",
    "#THIS ONE IS FOR TESTING\n",
    "\n",
    "sstable = full_ss_matrix\n",
    "#n is the number of similar customers we want to list\n",
    "n = 10\n",
    "\n",
    "\n",
    "for x in range(len(ref_sids)):\n",
    "    topN_list = sstable.T.nlargest(n,ref_sids[x], keep = 'all').index.values\n",
    "    print('\\nSimilarity Scores for Top', n, 'similar customers for', ref_sids[x])#, ': ',topN_list)\n",
    "    #print()\n",
    "    for y in range(n):\n",
    "        print(topN_list[y], '(' + str(sstable[topN_list[y]].ix[ref_sids[x]]) + ')')"
   ]
  },
  {
   "cell_type": "code",
   "execution_count": null,
   "metadata": {},
   "outputs": [],
   "source": [
    "#n is the number of similar customers we want to list\n",
    "n = 10\n",
    "\n",
    "\n",
    "for x in range(len(ref_sids)):\n",
    "    topN_list = sstable.T.nlargest(n,ref_sids[x], keep = 'all').index.values\n",
    "    print('\\nSimilarity Scores for Top', n, 'similar customers for', ref_sids[x])#, ': ',topN_list)\n",
    "    #print()\n",
    "    for y in range(n):\n",
    "        print(topN_list[y], '(' + str(sstable[topN_list[y]][x]) + ')')"
   ]
  },
  {
   "cell_type": "code",
   "execution_count": null,
   "metadata": {},
   "outputs": [],
   "source": [
    "#Sample IDs from Jose:\n",
    "testIDs = ['7B8E9E45F5',\n",
    "'E0518749DD',\n",
    "'924052DDF5',\n",
    "'AACOENJW',\n",
    "'FHVD7BDTDG']"
   ]
  },
  {
   "cell_type": "code",
   "execution_count": 90,
   "metadata": {},
   "outputs": [
    {
     "data": {
      "text/plain": [
       "array(['PGQJF2XJOP', '8F7CFF1857', 'DC72AC7CDB', 'O27BMPS968',\n",
       "       'A132B9207D'], dtype=object)"
      ]
     },
     "execution_count": 90,
     "metadata": {},
     "output_type": "execute_result"
    }
   ],
   "source": [
    "ref_sids"
   ]
  },
  {
   "cell_type": "code",
   "execution_count": 92,
   "metadata": {},
   "outputs": [
    {
     "data": {
      "text/plain": [
       "array(['CF434BAE71', '63A6C8EC1B', 'A029652A4E', 'ZPOU6IQNXR',\n",
       "       'A4C71D519F', 'MCEJ5Y0ASV', '97712AFDBF', '6F42IWMUST',\n",
       "       'B778C76526', '5D0073AF39', 'PGQJF2XJOP'], dtype=object)"
      ]
     },
     "execution_count": 92,
     "metadata": {},
     "output_type": "execute_result"
    }
   ],
   "source": [
    "elemlist = np.append(sstable.T.nlargest(10,ref_sids[0]).index.values, ref_sids[0])\n",
    "elemlist"
   ]
  },
  {
   "cell_type": "code",
   "execution_count": 94,
   "metadata": {},
   "outputs": [
    {
     "data": {
      "text/html": [
       "<div>\n",
       "<style scoped>\n",
       "    .dataframe tbody tr th:only-of-type {\n",
       "        vertical-align: middle;\n",
       "    }\n",
       "\n",
       "    .dataframe tbody tr th {\n",
       "        vertical-align: top;\n",
       "    }\n",
       "\n",
       "    .dataframe thead th {\n",
       "        text-align: right;\n",
       "    }\n",
       "</style>\n",
       "<table border=\"1\" class=\"dataframe\">\n",
       "  <thead>\n",
       "    <tr style=\"text-align: right;\">\n",
       "      <th></th>\n",
       "      <th>004BB4E8C4</th>\n",
       "      <th>0071F0E134</th>\n",
       "      <th>008936A589</th>\n",
       "      <th>009F7F037A</th>\n",
       "      <th>00B9362597</th>\n",
       "      <th>00BE684C10</th>\n",
       "      <th>00D34BA35B</th>\n",
       "      <th>00E31A2581</th>\n",
       "      <th>00EF728145</th>\n",
       "      <th>010010C13F</th>\n",
       "      <th>...</th>\n",
       "      <th>ZKBSDC62J0</th>\n",
       "      <th>ZP77K0NJFU</th>\n",
       "      <th>ZP85EVXH</th>\n",
       "      <th>ZPOU6IQNXR</th>\n",
       "      <th>ZSDMR6LL8Z</th>\n",
       "      <th>ZX49ECRM1S</th>\n",
       "      <th>ZYBZN1KOJB</th>\n",
       "      <th>ZYKO1ITBL7</th>\n",
       "      <th>ZZGFV0RF</th>\n",
       "      <th>ZZS5HUY6YT</th>\n",
       "    </tr>\n",
       "  </thead>\n",
       "  <tbody>\n",
       "    <tr>\n",
       "      <th>CF434BAE71</th>\n",
       "      <td>28.737</td>\n",
       "      <td>14.383</td>\n",
       "      <td>30.225</td>\n",
       "      <td>29.521</td>\n",
       "      <td>20.013</td>\n",
       "      <td>8.864</td>\n",
       "      <td>26.539</td>\n",
       "      <td>26.942</td>\n",
       "      <td>19.623</td>\n",
       "      <td>47.230</td>\n",
       "      <td>...</td>\n",
       "      <td>37.113</td>\n",
       "      <td>25.329</td>\n",
       "      <td>10.870</td>\n",
       "      <td>73.615</td>\n",
       "      <td>34.624</td>\n",
       "      <td>21.142</td>\n",
       "      <td>33.152</td>\n",
       "      <td>10.702</td>\n",
       "      <td>16.459</td>\n",
       "      <td>30.421</td>\n",
       "    </tr>\n",
       "    <tr>\n",
       "      <th>63A6C8EC1B</th>\n",
       "      <td>25.473</td>\n",
       "      <td>15.235</td>\n",
       "      <td>35.689</td>\n",
       "      <td>33.177</td>\n",
       "      <td>22.873</td>\n",
       "      <td>8.860</td>\n",
       "      <td>34.652</td>\n",
       "      <td>30.586</td>\n",
       "      <td>21.415</td>\n",
       "      <td>48.283</td>\n",
       "      <td>...</td>\n",
       "      <td>35.037</td>\n",
       "      <td>30.840</td>\n",
       "      <td>11.871</td>\n",
       "      <td>59.503</td>\n",
       "      <td>39.175</td>\n",
       "      <td>23.035</td>\n",
       "      <td>37.452</td>\n",
       "      <td>10.682</td>\n",
       "      <td>17.548</td>\n",
       "      <td>33.546</td>\n",
       "    </tr>\n",
       "    <tr>\n",
       "      <th>A029652A4E</th>\n",
       "      <td>33.299</td>\n",
       "      <td>14.649</td>\n",
       "      <td>36.394</td>\n",
       "      <td>39.497</td>\n",
       "      <td>22.478</td>\n",
       "      <td>8.939</td>\n",
       "      <td>35.178</td>\n",
       "      <td>28.399</td>\n",
       "      <td>21.028</td>\n",
       "      <td>60.368</td>\n",
       "      <td>...</td>\n",
       "      <td>37.287</td>\n",
       "      <td>33.805</td>\n",
       "      <td>13.813</td>\n",
       "      <td>60.750</td>\n",
       "      <td>38.930</td>\n",
       "      <td>29.882</td>\n",
       "      <td>42.077</td>\n",
       "      <td>10.645</td>\n",
       "      <td>16.865</td>\n",
       "      <td>38.371</td>\n",
       "    </tr>\n",
       "    <tr>\n",
       "      <th>ZPOU6IQNXR</th>\n",
       "      <td>25.899</td>\n",
       "      <td>16.028</td>\n",
       "      <td>28.512</td>\n",
       "      <td>27.004</td>\n",
       "      <td>21.423</td>\n",
       "      <td>9.006</td>\n",
       "      <td>24.028</td>\n",
       "      <td>31.639</td>\n",
       "      <td>24.520</td>\n",
       "      <td>51.791</td>\n",
       "      <td>...</td>\n",
       "      <td>34.577</td>\n",
       "      <td>25.318</td>\n",
       "      <td>11.148</td>\n",
       "      <td>-100.000</td>\n",
       "      <td>35.704</td>\n",
       "      <td>21.519</td>\n",
       "      <td>29.960</td>\n",
       "      <td>8.290</td>\n",
       "      <td>13.370</td>\n",
       "      <td>29.204</td>\n",
       "    </tr>\n",
       "    <tr>\n",
       "      <th>A4C71D519F</th>\n",
       "      <td>27.308</td>\n",
       "      <td>18.945</td>\n",
       "      <td>31.390</td>\n",
       "      <td>29.152</td>\n",
       "      <td>25.447</td>\n",
       "      <td>10.922</td>\n",
       "      <td>26.816</td>\n",
       "      <td>34.703</td>\n",
       "      <td>28.549</td>\n",
       "      <td>52.770</td>\n",
       "      <td>...</td>\n",
       "      <td>34.050</td>\n",
       "      <td>28.854</td>\n",
       "      <td>10.722</td>\n",
       "      <td>69.626</td>\n",
       "      <td>38.381</td>\n",
       "      <td>25.712</td>\n",
       "      <td>32.515</td>\n",
       "      <td>8.293</td>\n",
       "      <td>14.419</td>\n",
       "      <td>28.621</td>\n",
       "    </tr>\n",
       "    <tr>\n",
       "      <th>MCEJ5Y0ASV</th>\n",
       "      <td>20.505</td>\n",
       "      <td>16.728</td>\n",
       "      <td>34.544</td>\n",
       "      <td>31.935</td>\n",
       "      <td>28.906</td>\n",
       "      <td>7.048</td>\n",
       "      <td>29.621</td>\n",
       "      <td>30.698</td>\n",
       "      <td>22.549</td>\n",
       "      <td>38.115</td>\n",
       "      <td>...</td>\n",
       "      <td>26.185</td>\n",
       "      <td>33.259</td>\n",
       "      <td>6.990</td>\n",
       "      <td>57.321</td>\n",
       "      <td>35.482</td>\n",
       "      <td>22.898</td>\n",
       "      <td>36.222</td>\n",
       "      <td>6.561</td>\n",
       "      <td>12.696</td>\n",
       "      <td>23.652</td>\n",
       "    </tr>\n",
       "    <tr>\n",
       "      <th>97712AFDBF</th>\n",
       "      <td>31.437</td>\n",
       "      <td>13.258</td>\n",
       "      <td>28.298</td>\n",
       "      <td>28.856</td>\n",
       "      <td>20.779</td>\n",
       "      <td>7.904</td>\n",
       "      <td>29.578</td>\n",
       "      <td>25.795</td>\n",
       "      <td>21.364</td>\n",
       "      <td>48.573</td>\n",
       "      <td>...</td>\n",
       "      <td>33.965</td>\n",
       "      <td>38.842</td>\n",
       "      <td>10.648</td>\n",
       "      <td>54.017</td>\n",
       "      <td>31.010</td>\n",
       "      <td>29.181</td>\n",
       "      <td>31.025</td>\n",
       "      <td>8.774</td>\n",
       "      <td>14.855</td>\n",
       "      <td>27.213</td>\n",
       "    </tr>\n",
       "    <tr>\n",
       "      <th>6F42IWMUST</th>\n",
       "      <td>29.906</td>\n",
       "      <td>18.531</td>\n",
       "      <td>41.355</td>\n",
       "      <td>37.159</td>\n",
       "      <td>26.147</td>\n",
       "      <td>11.628</td>\n",
       "      <td>38.120</td>\n",
       "      <td>34.024</td>\n",
       "      <td>26.560</td>\n",
       "      <td>59.298</td>\n",
       "      <td>...</td>\n",
       "      <td>38.933</td>\n",
       "      <td>30.374</td>\n",
       "      <td>14.713</td>\n",
       "      <td>59.286</td>\n",
       "      <td>41.328</td>\n",
       "      <td>24.837</td>\n",
       "      <td>42.197</td>\n",
       "      <td>11.533</td>\n",
       "      <td>18.801</td>\n",
       "      <td>39.099</td>\n",
       "    </tr>\n",
       "    <tr>\n",
       "      <th>B778C76526</th>\n",
       "      <td>40.035</td>\n",
       "      <td>19.059</td>\n",
       "      <td>40.270</td>\n",
       "      <td>33.771</td>\n",
       "      <td>27.636</td>\n",
       "      <td>13.553</td>\n",
       "      <td>35.499</td>\n",
       "      <td>34.312</td>\n",
       "      <td>31.185</td>\n",
       "      <td>59.979</td>\n",
       "      <td>...</td>\n",
       "      <td>36.997</td>\n",
       "      <td>31.908</td>\n",
       "      <td>13.886</td>\n",
       "      <td>54.408</td>\n",
       "      <td>36.446</td>\n",
       "      <td>36.028</td>\n",
       "      <td>42.437</td>\n",
       "      <td>10.346</td>\n",
       "      <td>22.134</td>\n",
       "      <td>38.653</td>\n",
       "    </tr>\n",
       "    <tr>\n",
       "      <th>5D0073AF39</th>\n",
       "      <td>22.860</td>\n",
       "      <td>15.836</td>\n",
       "      <td>35.072</td>\n",
       "      <td>33.036</td>\n",
       "      <td>27.426</td>\n",
       "      <td>6.677</td>\n",
       "      <td>32.503</td>\n",
       "      <td>29.053</td>\n",
       "      <td>21.640</td>\n",
       "      <td>39.866</td>\n",
       "      <td>...</td>\n",
       "      <td>27.653</td>\n",
       "      <td>39.700</td>\n",
       "      <td>7.785</td>\n",
       "      <td>52.928</td>\n",
       "      <td>33.602</td>\n",
       "      <td>27.411</td>\n",
       "      <td>36.062</td>\n",
       "      <td>7.009</td>\n",
       "      <td>13.028</td>\n",
       "      <td>25.409</td>\n",
       "    </tr>\n",
       "  </tbody>\n",
       "</table>\n",
       "<p>10 rows × 3148 columns</p>\n",
       "</div>"
      ],
      "text/plain": [
       "            004BB4E8C4  0071F0E134  008936A589  009F7F037A  00B9362597  \\\n",
       "CF434BAE71      28.737      14.383      30.225      29.521      20.013   \n",
       "63A6C8EC1B      25.473      15.235      35.689      33.177      22.873   \n",
       "A029652A4E      33.299      14.649      36.394      39.497      22.478   \n",
       "ZPOU6IQNXR      25.899      16.028      28.512      27.004      21.423   \n",
       "A4C71D519F      27.308      18.945      31.390      29.152      25.447   \n",
       "MCEJ5Y0ASV      20.505      16.728      34.544      31.935      28.906   \n",
       "97712AFDBF      31.437      13.258      28.298      28.856      20.779   \n",
       "6F42IWMUST      29.906      18.531      41.355      37.159      26.147   \n",
       "B778C76526      40.035      19.059      40.270      33.771      27.636   \n",
       "5D0073AF39      22.860      15.836      35.072      33.036      27.426   \n",
       "\n",
       "            00BE684C10  00D34BA35B  00E31A2581  00EF728145  010010C13F  ...  \\\n",
       "CF434BAE71       8.864      26.539      26.942      19.623      47.230  ...   \n",
       "63A6C8EC1B       8.860      34.652      30.586      21.415      48.283  ...   \n",
       "A029652A4E       8.939      35.178      28.399      21.028      60.368  ...   \n",
       "ZPOU6IQNXR       9.006      24.028      31.639      24.520      51.791  ...   \n",
       "A4C71D519F      10.922      26.816      34.703      28.549      52.770  ...   \n",
       "MCEJ5Y0ASV       7.048      29.621      30.698      22.549      38.115  ...   \n",
       "97712AFDBF       7.904      29.578      25.795      21.364      48.573  ...   \n",
       "6F42IWMUST      11.628      38.120      34.024      26.560      59.298  ...   \n",
       "B778C76526      13.553      35.499      34.312      31.185      59.979  ...   \n",
       "5D0073AF39       6.677      32.503      29.053      21.640      39.866  ...   \n",
       "\n",
       "            ZKBSDC62J0  ZP77K0NJFU  ZP85EVXH  ZPOU6IQNXR  ZSDMR6LL8Z  \\\n",
       "CF434BAE71      37.113      25.329    10.870      73.615      34.624   \n",
       "63A6C8EC1B      35.037      30.840    11.871      59.503      39.175   \n",
       "A029652A4E      37.287      33.805    13.813      60.750      38.930   \n",
       "ZPOU6IQNXR      34.577      25.318    11.148    -100.000      35.704   \n",
       "A4C71D519F      34.050      28.854    10.722      69.626      38.381   \n",
       "MCEJ5Y0ASV      26.185      33.259     6.990      57.321      35.482   \n",
       "97712AFDBF      33.965      38.842    10.648      54.017      31.010   \n",
       "6F42IWMUST      38.933      30.374    14.713      59.286      41.328   \n",
       "B778C76526      36.997      31.908    13.886      54.408      36.446   \n",
       "5D0073AF39      27.653      39.700     7.785      52.928      33.602   \n",
       "\n",
       "            ZX49ECRM1S  ZYBZN1KOJB  ZYKO1ITBL7  ZZGFV0RF  ZZS5HUY6YT  \n",
       "CF434BAE71      21.142      33.152      10.702    16.459      30.421  \n",
       "63A6C8EC1B      23.035      37.452      10.682    17.548      33.546  \n",
       "A029652A4E      29.882      42.077      10.645    16.865      38.371  \n",
       "ZPOU6IQNXR      21.519      29.960       8.290    13.370      29.204  \n",
       "A4C71D519F      25.712      32.515       8.293    14.419      28.621  \n",
       "MCEJ5Y0ASV      22.898      36.222       6.561    12.696      23.652  \n",
       "97712AFDBF      29.181      31.025       8.774    14.855      27.213  \n",
       "6F42IWMUST      24.837      42.197      11.533    18.801      39.099  \n",
       "B778C76526      36.028      42.437      10.346    22.134      38.653  \n",
       "5D0073AF39      27.411      36.062       7.009    13.028      25.409  \n",
       "\n",
       "[10 rows x 3148 columns]"
      ]
     },
     "execution_count": 94,
     "metadata": {},
     "output_type": "execute_result"
    }
   ],
   "source": [
    "sstable.T.nlargest(10,ref_sids[0])"
   ]
  },
  {
   "cell_type": "code",
   "execution_count": 95,
   "metadata": {},
   "outputs": [
    {
     "name": "stdout",
     "output_type": "stream",
     "text": [
      "Pivot table created for a subset of all customer IDs\n",
      "Pivot table created for a subset of all customer IDs\n",
      "Pivot table created for a subset of all customer IDs\n",
      "Pivot table created for a subset of all customer IDs\n"
     ]
    },
    {
     "data": {
      "text/html": [
       "<div>\n",
       "<style scoped>\n",
       "    .dataframe tbody tr th:only-of-type {\n",
       "        vertical-align: middle;\n",
       "    }\n",
       "\n",
       "    .dataframe tbody tr th {\n",
       "        vertical-align: top;\n",
       "    }\n",
       "\n",
       "    .dataframe thead th {\n",
       "        text-align: right;\n",
       "    }\n",
       "</style>\n",
       "<table border=\"1\" class=\"dataframe\">\n",
       "  <thead>\n",
       "    <tr style=\"text-align: right;\">\n",
       "      <th>zone</th>\n",
       "      <th>0</th>\n",
       "      <th>1</th>\n",
       "      <th>2</th>\n",
       "      <th>3</th>\n",
       "      <th>4</th>\n",
       "      <th>5</th>\n",
       "      <th>6</th>\n",
       "      <th>7</th>\n",
       "      <th>8</th>\n",
       "      <th>9</th>\n",
       "    </tr>\n",
       "    <tr>\n",
       "      <th>business_sid</th>\n",
       "      <th></th>\n",
       "      <th></th>\n",
       "      <th></th>\n",
       "      <th></th>\n",
       "      <th></th>\n",
       "      <th></th>\n",
       "      <th></th>\n",
       "      <th></th>\n",
       "      <th></th>\n",
       "      <th></th>\n",
       "    </tr>\n",
       "  </thead>\n",
       "  <tbody>\n",
       "    <tr>\n",
       "      <th>5D0073AF39</th>\n",
       "      <td>0</td>\n",
       "      <td>0</td>\n",
       "      <td>1</td>\n",
       "      <td>1</td>\n",
       "      <td>9</td>\n",
       "      <td>12</td>\n",
       "      <td>7</td>\n",
       "      <td>3</td>\n",
       "      <td>1</td>\n",
       "      <td>0</td>\n",
       "    </tr>\n",
       "    <tr>\n",
       "      <th>63A6C8EC1B</th>\n",
       "      <td>0</td>\n",
       "      <td>0</td>\n",
       "      <td>0</td>\n",
       "      <td>5</td>\n",
       "      <td>8</td>\n",
       "      <td>11</td>\n",
       "      <td>0</td>\n",
       "      <td>0</td>\n",
       "      <td>4</td>\n",
       "      <td>0</td>\n",
       "    </tr>\n",
       "    <tr>\n",
       "      <th>6F42IWMUST</th>\n",
       "      <td>0</td>\n",
       "      <td>0</td>\n",
       "      <td>1</td>\n",
       "      <td>5</td>\n",
       "      <td>5</td>\n",
       "      <td>8</td>\n",
       "      <td>3</td>\n",
       "      <td>2</td>\n",
       "      <td>7</td>\n",
       "      <td>0</td>\n",
       "    </tr>\n",
       "    <tr>\n",
       "      <th>97712AFDBF</th>\n",
       "      <td>0</td>\n",
       "      <td>0</td>\n",
       "      <td>1</td>\n",
       "      <td>2</td>\n",
       "      <td>5</td>\n",
       "      <td>7</td>\n",
       "      <td>3</td>\n",
       "      <td>3</td>\n",
       "      <td>1</td>\n",
       "      <td>0</td>\n",
       "    </tr>\n",
       "    <tr>\n",
       "      <th>A029652A4E</th>\n",
       "      <td>0</td>\n",
       "      <td>0</td>\n",
       "      <td>1</td>\n",
       "      <td>2</td>\n",
       "      <td>2</td>\n",
       "      <td>4</td>\n",
       "      <td>6</td>\n",
       "      <td>5</td>\n",
       "      <td>1</td>\n",
       "      <td>0</td>\n",
       "    </tr>\n",
       "    <tr>\n",
       "      <th>A4C71D519F</th>\n",
       "      <td>0</td>\n",
       "      <td>0</td>\n",
       "      <td>4</td>\n",
       "      <td>2</td>\n",
       "      <td>5</td>\n",
       "      <td>8</td>\n",
       "      <td>1</td>\n",
       "      <td>1</td>\n",
       "      <td>1</td>\n",
       "      <td>0</td>\n",
       "    </tr>\n",
       "    <tr>\n",
       "      <th>B778C76526</th>\n",
       "      <td>0</td>\n",
       "      <td>0</td>\n",
       "      <td>2</td>\n",
       "      <td>0</td>\n",
       "      <td>1</td>\n",
       "      <td>5</td>\n",
       "      <td>1</td>\n",
       "      <td>0</td>\n",
       "      <td>0</td>\n",
       "      <td>0</td>\n",
       "    </tr>\n",
       "    <tr>\n",
       "      <th>CF434BAE71</th>\n",
       "      <td>0</td>\n",
       "      <td>0</td>\n",
       "      <td>0</td>\n",
       "      <td>1</td>\n",
       "      <td>4</td>\n",
       "      <td>5</td>\n",
       "      <td>1</td>\n",
       "      <td>0</td>\n",
       "      <td>0</td>\n",
       "      <td>0</td>\n",
       "    </tr>\n",
       "    <tr>\n",
       "      <th>MCEJ5Y0ASV</th>\n",
       "      <td>0</td>\n",
       "      <td>0</td>\n",
       "      <td>1</td>\n",
       "      <td>6</td>\n",
       "      <td>8</td>\n",
       "      <td>11</td>\n",
       "      <td>3</td>\n",
       "      <td>4</td>\n",
       "      <td>0</td>\n",
       "      <td>0</td>\n",
       "    </tr>\n",
       "    <tr>\n",
       "      <th>PGQJF2XJOP</th>\n",
       "      <td>0</td>\n",
       "      <td>0</td>\n",
       "      <td>1</td>\n",
       "      <td>2</td>\n",
       "      <td>5</td>\n",
       "      <td>4</td>\n",
       "      <td>4</td>\n",
       "      <td>0</td>\n",
       "      <td>1</td>\n",
       "      <td>0</td>\n",
       "    </tr>\n",
       "    <tr>\n",
       "      <th>ZPOU6IQNXR</th>\n",
       "      <td>0</td>\n",
       "      <td>0</td>\n",
       "      <td>0</td>\n",
       "      <td>0</td>\n",
       "      <td>3</td>\n",
       "      <td>5</td>\n",
       "      <td>0</td>\n",
       "      <td>4</td>\n",
       "      <td>1</td>\n",
       "      <td>0</td>\n",
       "    </tr>\n",
       "  </tbody>\n",
       "</table>\n",
       "</div>"
      ],
      "text/plain": [
       "zone          0  1  2  3  4   5  6  7  8  9\n",
       "business_sid                               \n",
       "5D0073AF39    0  0  1  1  9  12  7  3  1  0\n",
       "63A6C8EC1B    0  0  0  5  8  11  0  0  4  0\n",
       "6F42IWMUST    0  0  1  5  5   8  3  2  7  0\n",
       "97712AFDBF    0  0  1  2  5   7  3  3  1  0\n",
       "A029652A4E    0  0  1  2  2   4  6  5  1  0\n",
       "A4C71D519F    0  0  4  2  5   8  1  1  1  0\n",
       "B778C76526    0  0  2  0  1   5  1  0  0  0\n",
       "CF434BAE71    0  0  0  1  4   5  1  0  0  0\n",
       "MCEJ5Y0ASV    0  0  1  6  8  11  3  4  0  0\n",
       "PGQJF2XJOP    0  0  1  2  5   4  4  0  1  0\n",
       "ZPOU6IQNXR    0  0  0  0  3   5  0  4  1  0"
      ]
     },
     "execution_count": 95,
     "metadata": {},
     "output_type": "execute_result"
    }
   ],
   "source": [
    "subset = benchmarking_df[benchmarking_df['business_sid'].isin(elemlist)]\n",
    "vctest = create_volumeCount_pivotTable(subset)\n",
    "vptest = create_volumeProportion_pivotTable(vctest)\n",
    "wctest = create_weightCount_pivotTable(subset)\n",
    "wptest = create_weightProportion_pivotTable(wctest)\n",
    "\n",
    "vctest"
   ]
  },
  {
   "cell_type": "code",
   "execution_count": 96,
   "metadata": {},
   "outputs": [
    {
     "data": {
      "text/html": [
       "<div>\n",
       "<style scoped>\n",
       "    .dataframe tbody tr th:only-of-type {\n",
       "        vertical-align: middle;\n",
       "    }\n",
       "\n",
       "    .dataframe tbody tr th {\n",
       "        vertical-align: top;\n",
       "    }\n",
       "\n",
       "    .dataframe thead th {\n",
       "        text-align: right;\n",
       "    }\n",
       "</style>\n",
       "<table border=\"1\" class=\"dataframe\">\n",
       "  <thead>\n",
       "    <tr style=\"text-align: right;\">\n",
       "      <th>zone</th>\n",
       "      <th>0</th>\n",
       "      <th>1</th>\n",
       "      <th>2</th>\n",
       "      <th>3</th>\n",
       "      <th>4</th>\n",
       "      <th>5</th>\n",
       "      <th>6</th>\n",
       "      <th>7</th>\n",
       "      <th>8</th>\n",
       "      <th>9</th>\n",
       "    </tr>\n",
       "    <tr>\n",
       "      <th>business_sid</th>\n",
       "      <th></th>\n",
       "      <th></th>\n",
       "      <th></th>\n",
       "      <th></th>\n",
       "      <th></th>\n",
       "      <th></th>\n",
       "      <th></th>\n",
       "      <th></th>\n",
       "      <th></th>\n",
       "      <th></th>\n",
       "    </tr>\n",
       "  </thead>\n",
       "  <tbody>\n",
       "    <tr>\n",
       "      <th>5D0073AF39</th>\n",
       "      <td>0.0</td>\n",
       "      <td>0.0</td>\n",
       "      <td>0.029412</td>\n",
       "      <td>0.029412</td>\n",
       "      <td>0.264706</td>\n",
       "      <td>0.352941</td>\n",
       "      <td>0.205882</td>\n",
       "      <td>0.088235</td>\n",
       "      <td>0.029412</td>\n",
       "      <td>0.0</td>\n",
       "    </tr>\n",
       "    <tr>\n",
       "      <th>63A6C8EC1B</th>\n",
       "      <td>0.0</td>\n",
       "      <td>0.0</td>\n",
       "      <td>0.000000</td>\n",
       "      <td>0.178571</td>\n",
       "      <td>0.285714</td>\n",
       "      <td>0.392857</td>\n",
       "      <td>0.000000</td>\n",
       "      <td>0.000000</td>\n",
       "      <td>0.142857</td>\n",
       "      <td>0.0</td>\n",
       "    </tr>\n",
       "    <tr>\n",
       "      <th>6F42IWMUST</th>\n",
       "      <td>0.0</td>\n",
       "      <td>0.0</td>\n",
       "      <td>0.032258</td>\n",
       "      <td>0.161290</td>\n",
       "      <td>0.161290</td>\n",
       "      <td>0.258065</td>\n",
       "      <td>0.096774</td>\n",
       "      <td>0.064516</td>\n",
       "      <td>0.225806</td>\n",
       "      <td>0.0</td>\n",
       "    </tr>\n",
       "    <tr>\n",
       "      <th>97712AFDBF</th>\n",
       "      <td>0.0</td>\n",
       "      <td>0.0</td>\n",
       "      <td>0.045455</td>\n",
       "      <td>0.090909</td>\n",
       "      <td>0.227273</td>\n",
       "      <td>0.318182</td>\n",
       "      <td>0.136364</td>\n",
       "      <td>0.136364</td>\n",
       "      <td>0.045455</td>\n",
       "      <td>0.0</td>\n",
       "    </tr>\n",
       "    <tr>\n",
       "      <th>A029652A4E</th>\n",
       "      <td>0.0</td>\n",
       "      <td>0.0</td>\n",
       "      <td>0.047619</td>\n",
       "      <td>0.095238</td>\n",
       "      <td>0.095238</td>\n",
       "      <td>0.190476</td>\n",
       "      <td>0.285714</td>\n",
       "      <td>0.238095</td>\n",
       "      <td>0.047619</td>\n",
       "      <td>0.0</td>\n",
       "    </tr>\n",
       "    <tr>\n",
       "      <th>A4C71D519F</th>\n",
       "      <td>0.0</td>\n",
       "      <td>0.0</td>\n",
       "      <td>0.181818</td>\n",
       "      <td>0.090909</td>\n",
       "      <td>0.227273</td>\n",
       "      <td>0.363636</td>\n",
       "      <td>0.045455</td>\n",
       "      <td>0.045455</td>\n",
       "      <td>0.045455</td>\n",
       "      <td>0.0</td>\n",
       "    </tr>\n",
       "    <tr>\n",
       "      <th>B778C76526</th>\n",
       "      <td>0.0</td>\n",
       "      <td>0.0</td>\n",
       "      <td>0.222222</td>\n",
       "      <td>0.000000</td>\n",
       "      <td>0.111111</td>\n",
       "      <td>0.555556</td>\n",
       "      <td>0.111111</td>\n",
       "      <td>0.000000</td>\n",
       "      <td>0.000000</td>\n",
       "      <td>0.0</td>\n",
       "    </tr>\n",
       "    <tr>\n",
       "      <th>CF434BAE71</th>\n",
       "      <td>0.0</td>\n",
       "      <td>0.0</td>\n",
       "      <td>0.000000</td>\n",
       "      <td>0.090909</td>\n",
       "      <td>0.363636</td>\n",
       "      <td>0.454545</td>\n",
       "      <td>0.090909</td>\n",
       "      <td>0.000000</td>\n",
       "      <td>0.000000</td>\n",
       "      <td>0.0</td>\n",
       "    </tr>\n",
       "    <tr>\n",
       "      <th>MCEJ5Y0ASV</th>\n",
       "      <td>0.0</td>\n",
       "      <td>0.0</td>\n",
       "      <td>0.030303</td>\n",
       "      <td>0.181818</td>\n",
       "      <td>0.242424</td>\n",
       "      <td>0.333333</td>\n",
       "      <td>0.090909</td>\n",
       "      <td>0.121212</td>\n",
       "      <td>0.000000</td>\n",
       "      <td>0.0</td>\n",
       "    </tr>\n",
       "    <tr>\n",
       "      <th>PGQJF2XJOP</th>\n",
       "      <td>0.0</td>\n",
       "      <td>0.0</td>\n",
       "      <td>0.058824</td>\n",
       "      <td>0.117647</td>\n",
       "      <td>0.294118</td>\n",
       "      <td>0.235294</td>\n",
       "      <td>0.235294</td>\n",
       "      <td>0.000000</td>\n",
       "      <td>0.058824</td>\n",
       "      <td>0.0</td>\n",
       "    </tr>\n",
       "    <tr>\n",
       "      <th>ZPOU6IQNXR</th>\n",
       "      <td>0.0</td>\n",
       "      <td>0.0</td>\n",
       "      <td>0.000000</td>\n",
       "      <td>0.000000</td>\n",
       "      <td>0.230769</td>\n",
       "      <td>0.384615</td>\n",
       "      <td>0.000000</td>\n",
       "      <td>0.307692</td>\n",
       "      <td>0.076923</td>\n",
       "      <td>0.0</td>\n",
       "    </tr>\n",
       "  </tbody>\n",
       "</table>\n",
       "</div>"
      ],
      "text/plain": [
       "zone            0    1         2         3         4         5         6  \\\n",
       "business_sid                                                               \n",
       "5D0073AF39    0.0  0.0  0.029412  0.029412  0.264706  0.352941  0.205882   \n",
       "63A6C8EC1B    0.0  0.0  0.000000  0.178571  0.285714  0.392857  0.000000   \n",
       "6F42IWMUST    0.0  0.0  0.032258  0.161290  0.161290  0.258065  0.096774   \n",
       "97712AFDBF    0.0  0.0  0.045455  0.090909  0.227273  0.318182  0.136364   \n",
       "A029652A4E    0.0  0.0  0.047619  0.095238  0.095238  0.190476  0.285714   \n",
       "A4C71D519F    0.0  0.0  0.181818  0.090909  0.227273  0.363636  0.045455   \n",
       "B778C76526    0.0  0.0  0.222222  0.000000  0.111111  0.555556  0.111111   \n",
       "CF434BAE71    0.0  0.0  0.000000  0.090909  0.363636  0.454545  0.090909   \n",
       "MCEJ5Y0ASV    0.0  0.0  0.030303  0.181818  0.242424  0.333333  0.090909   \n",
       "PGQJF2XJOP    0.0  0.0  0.058824  0.117647  0.294118  0.235294  0.235294   \n",
       "ZPOU6IQNXR    0.0  0.0  0.000000  0.000000  0.230769  0.384615  0.000000   \n",
       "\n",
       "zone                 7         8    9  \n",
       "business_sid                           \n",
       "5D0073AF39    0.088235  0.029412  0.0  \n",
       "63A6C8EC1B    0.000000  0.142857  0.0  \n",
       "6F42IWMUST    0.064516  0.225806  0.0  \n",
       "97712AFDBF    0.136364  0.045455  0.0  \n",
       "A029652A4E    0.238095  0.047619  0.0  \n",
       "A4C71D519F    0.045455  0.045455  0.0  \n",
       "B778C76526    0.000000  0.000000  0.0  \n",
       "CF434BAE71    0.000000  0.000000  0.0  \n",
       "MCEJ5Y0ASV    0.121212  0.000000  0.0  \n",
       "PGQJF2XJOP    0.000000  0.058824  0.0  \n",
       "ZPOU6IQNXR    0.307692  0.076923  0.0  "
      ]
     },
     "execution_count": 96,
     "metadata": {},
     "output_type": "execute_result"
    }
   ],
   "source": [
    "vptest"
   ]
  },
  {
   "cell_type": "code",
   "execution_count": 97,
   "metadata": {},
   "outputs": [
    {
     "data": {
      "text/html": [
       "<div>\n",
       "<style scoped>\n",
       "    .dataframe tbody tr th:only-of-type {\n",
       "        vertical-align: middle;\n",
       "    }\n",
       "\n",
       "    .dataframe tbody tr th {\n",
       "        vertical-align: top;\n",
       "    }\n",
       "\n",
       "    .dataframe thead th {\n",
       "        text-align: right;\n",
       "    }\n",
       "</style>\n",
       "<table border=\"1\" class=\"dataframe\">\n",
       "  <thead>\n",
       "    <tr style=\"text-align: right;\">\n",
       "      <th>zone</th>\n",
       "      <th>0</th>\n",
       "      <th>1</th>\n",
       "      <th>2</th>\n",
       "      <th>3</th>\n",
       "      <th>4</th>\n",
       "      <th>5</th>\n",
       "      <th>6</th>\n",
       "      <th>7</th>\n",
       "      <th>8</th>\n",
       "      <th>9</th>\n",
       "    </tr>\n",
       "    <tr>\n",
       "      <th>business_sid</th>\n",
       "      <th></th>\n",
       "      <th></th>\n",
       "      <th></th>\n",
       "      <th></th>\n",
       "      <th></th>\n",
       "      <th></th>\n",
       "      <th></th>\n",
       "      <th></th>\n",
       "      <th></th>\n",
       "      <th></th>\n",
       "    </tr>\n",
       "  </thead>\n",
       "  <tbody>\n",
       "    <tr>\n",
       "      <th>5D0073AF39</th>\n",
       "      <td>0</td>\n",
       "      <td>0</td>\n",
       "      <td>10</td>\n",
       "      <td>4</td>\n",
       "      <td>189</td>\n",
       "      <td>113</td>\n",
       "      <td>81</td>\n",
       "      <td>50</td>\n",
       "      <td>28</td>\n",
       "      <td>0</td>\n",
       "    </tr>\n",
       "    <tr>\n",
       "      <th>63A6C8EC1B</th>\n",
       "      <td>0</td>\n",
       "      <td>0</td>\n",
       "      <td>0</td>\n",
       "      <td>67</td>\n",
       "      <td>98</td>\n",
       "      <td>162</td>\n",
       "      <td>0</td>\n",
       "      <td>0</td>\n",
       "      <td>108</td>\n",
       "      <td>0</td>\n",
       "    </tr>\n",
       "    <tr>\n",
       "      <th>6F42IWMUST</th>\n",
       "      <td>0</td>\n",
       "      <td>0</td>\n",
       "      <td>22</td>\n",
       "      <td>42</td>\n",
       "      <td>80</td>\n",
       "      <td>102</td>\n",
       "      <td>15</td>\n",
       "      <td>18</td>\n",
       "      <td>111</td>\n",
       "      <td>0</td>\n",
       "    </tr>\n",
       "    <tr>\n",
       "      <th>97712AFDBF</th>\n",
       "      <td>0</td>\n",
       "      <td>0</td>\n",
       "      <td>2</td>\n",
       "      <td>16</td>\n",
       "      <td>56</td>\n",
       "      <td>47</td>\n",
       "      <td>26</td>\n",
       "      <td>26</td>\n",
       "      <td>2</td>\n",
       "      <td>0</td>\n",
       "    </tr>\n",
       "    <tr>\n",
       "      <th>A029652A4E</th>\n",
       "      <td>0</td>\n",
       "      <td>0</td>\n",
       "      <td>11</td>\n",
       "      <td>19</td>\n",
       "      <td>46</td>\n",
       "      <td>30</td>\n",
       "      <td>96</td>\n",
       "      <td>87</td>\n",
       "      <td>8</td>\n",
       "      <td>0</td>\n",
       "    </tr>\n",
       "    <tr>\n",
       "      <th>A4C71D519F</th>\n",
       "      <td>0</td>\n",
       "      <td>0</td>\n",
       "      <td>28</td>\n",
       "      <td>14</td>\n",
       "      <td>59</td>\n",
       "      <td>97</td>\n",
       "      <td>37</td>\n",
       "      <td>38</td>\n",
       "      <td>125</td>\n",
       "      <td>0</td>\n",
       "    </tr>\n",
       "    <tr>\n",
       "      <th>B778C76526</th>\n",
       "      <td>0</td>\n",
       "      <td>0</td>\n",
       "      <td>41</td>\n",
       "      <td>0</td>\n",
       "      <td>34</td>\n",
       "      <td>134</td>\n",
       "      <td>30</td>\n",
       "      <td>0</td>\n",
       "      <td>0</td>\n",
       "      <td>0</td>\n",
       "    </tr>\n",
       "    <tr>\n",
       "      <th>CF434BAE71</th>\n",
       "      <td>0</td>\n",
       "      <td>0</td>\n",
       "      <td>0</td>\n",
       "      <td>22</td>\n",
       "      <td>232</td>\n",
       "      <td>148</td>\n",
       "      <td>37</td>\n",
       "      <td>0</td>\n",
       "      <td>0</td>\n",
       "      <td>0</td>\n",
       "    </tr>\n",
       "    <tr>\n",
       "      <th>MCEJ5Y0ASV</th>\n",
       "      <td>0</td>\n",
       "      <td>0</td>\n",
       "      <td>38</td>\n",
       "      <td>97</td>\n",
       "      <td>283</td>\n",
       "      <td>214</td>\n",
       "      <td>83</td>\n",
       "      <td>93</td>\n",
       "      <td>0</td>\n",
       "      <td>0</td>\n",
       "    </tr>\n",
       "    <tr>\n",
       "      <th>PGQJF2XJOP</th>\n",
       "      <td>0</td>\n",
       "      <td>0</td>\n",
       "      <td>17</td>\n",
       "      <td>22</td>\n",
       "      <td>92</td>\n",
       "      <td>60</td>\n",
       "      <td>74</td>\n",
       "      <td>0</td>\n",
       "      <td>4</td>\n",
       "      <td>0</td>\n",
       "    </tr>\n",
       "    <tr>\n",
       "      <th>ZPOU6IQNXR</th>\n",
       "      <td>0</td>\n",
       "      <td>0</td>\n",
       "      <td>0</td>\n",
       "      <td>0</td>\n",
       "      <td>121</td>\n",
       "      <td>171</td>\n",
       "      <td>0</td>\n",
       "      <td>75</td>\n",
       "      <td>2</td>\n",
       "      <td>0</td>\n",
       "    </tr>\n",
       "  </tbody>\n",
       "</table>\n",
       "</div>"
      ],
      "text/plain": [
       "zone          0  1   2   3    4    5   6   7    8  9\n",
       "business_sid                                        \n",
       "5D0073AF39    0  0  10   4  189  113  81  50   28  0\n",
       "63A6C8EC1B    0  0   0  67   98  162   0   0  108  0\n",
       "6F42IWMUST    0  0  22  42   80  102  15  18  111  0\n",
       "97712AFDBF    0  0   2  16   56   47  26  26    2  0\n",
       "A029652A4E    0  0  11  19   46   30  96  87    8  0\n",
       "A4C71D519F    0  0  28  14   59   97  37  38  125  0\n",
       "B778C76526    0  0  41   0   34  134  30   0    0  0\n",
       "CF434BAE71    0  0   0  22  232  148  37   0    0  0\n",
       "MCEJ5Y0ASV    0  0  38  97  283  214  83  93    0  0\n",
       "PGQJF2XJOP    0  0  17  22   92   60  74   0    4  0\n",
       "ZPOU6IQNXR    0  0   0   0  121  171   0  75    2  0"
      ]
     },
     "execution_count": 97,
     "metadata": {},
     "output_type": "execute_result"
    }
   ],
   "source": [
    "wctest"
   ]
  },
  {
   "cell_type": "code",
   "execution_count": 98,
   "metadata": {},
   "outputs": [
    {
     "data": {
      "text/html": [
       "<div>\n",
       "<style scoped>\n",
       "    .dataframe tbody tr th:only-of-type {\n",
       "        vertical-align: middle;\n",
       "    }\n",
       "\n",
       "    .dataframe tbody tr th {\n",
       "        vertical-align: top;\n",
       "    }\n",
       "\n",
       "    .dataframe thead th {\n",
       "        text-align: right;\n",
       "    }\n",
       "</style>\n",
       "<table border=\"1\" class=\"dataframe\">\n",
       "  <thead>\n",
       "    <tr style=\"text-align: right;\">\n",
       "      <th>zone</th>\n",
       "      <th>0</th>\n",
       "      <th>1</th>\n",
       "      <th>2</th>\n",
       "      <th>3</th>\n",
       "      <th>4</th>\n",
       "      <th>5</th>\n",
       "      <th>6</th>\n",
       "      <th>7</th>\n",
       "      <th>8</th>\n",
       "      <th>9</th>\n",
       "    </tr>\n",
       "    <tr>\n",
       "      <th>business_sid</th>\n",
       "      <th></th>\n",
       "      <th></th>\n",
       "      <th></th>\n",
       "      <th></th>\n",
       "      <th></th>\n",
       "      <th></th>\n",
       "      <th></th>\n",
       "      <th></th>\n",
       "      <th></th>\n",
       "      <th></th>\n",
       "    </tr>\n",
       "  </thead>\n",
       "  <tbody>\n",
       "    <tr>\n",
       "      <th>5D0073AF39</th>\n",
       "      <td>0.0</td>\n",
       "      <td>0.0</td>\n",
       "      <td>0.021053</td>\n",
       "      <td>0.008421</td>\n",
       "      <td>0.397895</td>\n",
       "      <td>0.237895</td>\n",
       "      <td>0.170526</td>\n",
       "      <td>0.105263</td>\n",
       "      <td>0.058947</td>\n",
       "      <td>0.0</td>\n",
       "    </tr>\n",
       "    <tr>\n",
       "      <th>63A6C8EC1B</th>\n",
       "      <td>0.0</td>\n",
       "      <td>0.0</td>\n",
       "      <td>0.000000</td>\n",
       "      <td>0.154023</td>\n",
       "      <td>0.225287</td>\n",
       "      <td>0.372414</td>\n",
       "      <td>0.000000</td>\n",
       "      <td>0.000000</td>\n",
       "      <td>0.248276</td>\n",
       "      <td>0.0</td>\n",
       "    </tr>\n",
       "    <tr>\n",
       "      <th>6F42IWMUST</th>\n",
       "      <td>0.0</td>\n",
       "      <td>0.0</td>\n",
       "      <td>0.056410</td>\n",
       "      <td>0.107692</td>\n",
       "      <td>0.205128</td>\n",
       "      <td>0.261538</td>\n",
       "      <td>0.038462</td>\n",
       "      <td>0.046154</td>\n",
       "      <td>0.284615</td>\n",
       "      <td>0.0</td>\n",
       "    </tr>\n",
       "    <tr>\n",
       "      <th>97712AFDBF</th>\n",
       "      <td>0.0</td>\n",
       "      <td>0.0</td>\n",
       "      <td>0.011429</td>\n",
       "      <td>0.091429</td>\n",
       "      <td>0.320000</td>\n",
       "      <td>0.268571</td>\n",
       "      <td>0.148571</td>\n",
       "      <td>0.148571</td>\n",
       "      <td>0.011429</td>\n",
       "      <td>0.0</td>\n",
       "    </tr>\n",
       "    <tr>\n",
       "      <th>A029652A4E</th>\n",
       "      <td>0.0</td>\n",
       "      <td>0.0</td>\n",
       "      <td>0.037037</td>\n",
       "      <td>0.063973</td>\n",
       "      <td>0.154882</td>\n",
       "      <td>0.101010</td>\n",
       "      <td>0.323232</td>\n",
       "      <td>0.292929</td>\n",
       "      <td>0.026936</td>\n",
       "      <td>0.0</td>\n",
       "    </tr>\n",
       "    <tr>\n",
       "      <th>A4C71D519F</th>\n",
       "      <td>0.0</td>\n",
       "      <td>0.0</td>\n",
       "      <td>0.070352</td>\n",
       "      <td>0.035176</td>\n",
       "      <td>0.148241</td>\n",
       "      <td>0.243719</td>\n",
       "      <td>0.092965</td>\n",
       "      <td>0.095477</td>\n",
       "      <td>0.314070</td>\n",
       "      <td>0.0</td>\n",
       "    </tr>\n",
       "    <tr>\n",
       "      <th>B778C76526</th>\n",
       "      <td>0.0</td>\n",
       "      <td>0.0</td>\n",
       "      <td>0.171548</td>\n",
       "      <td>0.000000</td>\n",
       "      <td>0.142259</td>\n",
       "      <td>0.560669</td>\n",
       "      <td>0.125523</td>\n",
       "      <td>0.000000</td>\n",
       "      <td>0.000000</td>\n",
       "      <td>0.0</td>\n",
       "    </tr>\n",
       "    <tr>\n",
       "      <th>CF434BAE71</th>\n",
       "      <td>0.0</td>\n",
       "      <td>0.0</td>\n",
       "      <td>0.000000</td>\n",
       "      <td>0.050114</td>\n",
       "      <td>0.528474</td>\n",
       "      <td>0.337130</td>\n",
       "      <td>0.084282</td>\n",
       "      <td>0.000000</td>\n",
       "      <td>0.000000</td>\n",
       "      <td>0.0</td>\n",
       "    </tr>\n",
       "    <tr>\n",
       "      <th>MCEJ5Y0ASV</th>\n",
       "      <td>0.0</td>\n",
       "      <td>0.0</td>\n",
       "      <td>0.047030</td>\n",
       "      <td>0.120050</td>\n",
       "      <td>0.350248</td>\n",
       "      <td>0.264851</td>\n",
       "      <td>0.102723</td>\n",
       "      <td>0.115099</td>\n",
       "      <td>0.000000</td>\n",
       "      <td>0.0</td>\n",
       "    </tr>\n",
       "    <tr>\n",
       "      <th>PGQJF2XJOP</th>\n",
       "      <td>0.0</td>\n",
       "      <td>0.0</td>\n",
       "      <td>0.063197</td>\n",
       "      <td>0.081784</td>\n",
       "      <td>0.342007</td>\n",
       "      <td>0.223048</td>\n",
       "      <td>0.275093</td>\n",
       "      <td>0.000000</td>\n",
       "      <td>0.014870</td>\n",
       "      <td>0.0</td>\n",
       "    </tr>\n",
       "    <tr>\n",
       "      <th>ZPOU6IQNXR</th>\n",
       "      <td>0.0</td>\n",
       "      <td>0.0</td>\n",
       "      <td>0.000000</td>\n",
       "      <td>0.000000</td>\n",
       "      <td>0.327913</td>\n",
       "      <td>0.463415</td>\n",
       "      <td>0.000000</td>\n",
       "      <td>0.203252</td>\n",
       "      <td>0.005420</td>\n",
       "      <td>0.0</td>\n",
       "    </tr>\n",
       "  </tbody>\n",
       "</table>\n",
       "</div>"
      ],
      "text/plain": [
       "zone            0    1         2         3         4         5         6  \\\n",
       "business_sid                                                               \n",
       "5D0073AF39    0.0  0.0  0.021053  0.008421  0.397895  0.237895  0.170526   \n",
       "63A6C8EC1B    0.0  0.0  0.000000  0.154023  0.225287  0.372414  0.000000   \n",
       "6F42IWMUST    0.0  0.0  0.056410  0.107692  0.205128  0.261538  0.038462   \n",
       "97712AFDBF    0.0  0.0  0.011429  0.091429  0.320000  0.268571  0.148571   \n",
       "A029652A4E    0.0  0.0  0.037037  0.063973  0.154882  0.101010  0.323232   \n",
       "A4C71D519F    0.0  0.0  0.070352  0.035176  0.148241  0.243719  0.092965   \n",
       "B778C76526    0.0  0.0  0.171548  0.000000  0.142259  0.560669  0.125523   \n",
       "CF434BAE71    0.0  0.0  0.000000  0.050114  0.528474  0.337130  0.084282   \n",
       "MCEJ5Y0ASV    0.0  0.0  0.047030  0.120050  0.350248  0.264851  0.102723   \n",
       "PGQJF2XJOP    0.0  0.0  0.063197  0.081784  0.342007  0.223048  0.275093   \n",
       "ZPOU6IQNXR    0.0  0.0  0.000000  0.000000  0.327913  0.463415  0.000000   \n",
       "\n",
       "zone                 7         8    9  \n",
       "business_sid                           \n",
       "5D0073AF39    0.105263  0.058947  0.0  \n",
       "63A6C8EC1B    0.000000  0.248276  0.0  \n",
       "6F42IWMUST    0.046154  0.284615  0.0  \n",
       "97712AFDBF    0.148571  0.011429  0.0  \n",
       "A029652A4E    0.292929  0.026936  0.0  \n",
       "A4C71D519F    0.095477  0.314070  0.0  \n",
       "B778C76526    0.000000  0.000000  0.0  \n",
       "CF434BAE71    0.000000  0.000000  0.0  \n",
       "MCEJ5Y0ASV    0.115099  0.000000  0.0  \n",
       "PGQJF2XJOP    0.000000  0.014870  0.0  \n",
       "ZPOU6IQNXR    0.203252  0.005420  0.0  "
      ]
     },
     "execution_count": 98,
     "metadata": {},
     "output_type": "execute_result"
    }
   ],
   "source": [
    "wptest"
   ]
  },
  {
   "cell_type": "code",
   "execution_count": null,
   "metadata": {},
   "outputs": [],
   "source": []
  },
  {
   "cell_type": "code",
   "execution_count": null,
   "metadata": {},
   "outputs": [],
   "source": [
    "max_scores_sids "
   ]
  },
  {
   "cell_type": "code",
   "execution_count": null,
   "metadata": {},
   "outputs": [],
   "source": [
    "sstable[max_scores_sids[0]]"
   ]
  },
  {
   "cell_type": "code",
   "execution_count": null,
   "metadata": {},
   "outputs": [],
   "source": []
  },
  {
   "cell_type": "code",
   "execution_count": null,
   "metadata": {},
   "outputs": [],
   "source": [
    "full_ss_matrix"
   ]
  }
 ],
 "metadata": {
  "kernelspec": {
   "display_name": "Python 3",
   "language": "python",
   "name": "python3"
  },
  "language_info": {
   "codemirror_mode": {
    "name": "ipython",
    "version": 3
   },
   "file_extension": ".py",
   "mimetype": "text/x-python",
   "name": "python",
   "nbconvert_exporter": "python",
   "pygments_lexer": "ipython3",
   "version": "3.6.5"
  }
 },
 "nbformat": 4,
 "nbformat_minor": 2
}
