{
 "cells": [
  {
   "cell_type": "markdown",
   "metadata": {},
   "source": [
    "# Delivery Prediction - Model - Neural Network \n",
    "This notebook covers the following:\n",
    "- Loading of preprocessed data for training the model\n",
    "- Preprocessing data for neural network training\n",
    "- Training a multi-layer perceptron\n",
    "- Predicting accuracy of the neural network\n",
    "- Displaying training and validation error"
   ]
  },
  {
   "cell_type": "code",
   "execution_count": 28,
   "metadata": {},
   "outputs": [],
   "source": [
    "import pickle\n",
    "import pandas as pd\n",
    "import os\n",
    "import numpy as np\n",
    "import seaborn as sns\n",
    "import matplotlib.pyplot as plt\n",
    "import time\n",
    "import statistics\n",
    "\n",
    "# Load sklearn utilities\n",
    "# ----------------------\n",
    "from sklearn.model_selection import train_test_split\n",
    "from sklearn import preprocessing\n",
    "from sklearn.model_selection import GridSearchCV\n",
    "\n",
    "from sklearn.metrics import accuracy_score, classification_report, roc_auc_score, roc_curve, brier_score_loss, mean_squared_error, r2_score\n",
    "from sklearn.metrics import precision_recall_fscore_support as score\n",
    "\n",
    "from sklearn.calibration import calibration_curve\n",
    "\n",
    "# Load classifiers\n",
    "# ----------------\n",
    "from sklearn.linear_model import LogisticRegression\n",
    "from sklearn.linear_model import RidgeClassifier\n",
    "from sklearn.tree import DecisionTreeClassifier\n",
    "from sklearn.ensemble import RandomForestClassifier\n",
    "from sklearn.naive_bayes import GaussianNB\n",
    "from sklearn.neural_network import MLPClassifier\n",
    "from sklearn.ensemble import GradientBoostingClassifier\n",
    "from sklearn.ensemble import BaggingClassifier"
   ]
  },
  {
   "cell_type": "code",
   "execution_count": 29,
   "metadata": {},
   "outputs": [
    {
     "name": "stdout",
     "output_type": "stream",
     "text": [
      "env: CUDA_VISIBLE_DEVICES=0,1\n"
     ]
    }
   ],
   "source": [
    "# %env CUDA_DEVICE_ORDER=PCI_BUS_ID\n",
    "%env CUDA_VISIBLE_DEVICES=0,1"
   ]
  },
  {
   "cell_type": "code",
   "execution_count": 30,
   "metadata": {},
   "outputs": [
    {
     "name": "stdout",
     "output_type": "stream",
     "text": [
      "X_train shape: (9131456, 239)\n",
      "y_train shape: (9131456,)\n",
      "X_test shape: (2282864, 239)\n",
      "y_test shape: (2282864,)\n"
     ]
    }
   ],
   "source": [
    "# Comment this code out if npz file is not being used to read in the data\n",
    "data_dict_filepath = 'data/data_dict_Windows12_final.npz'\n",
    "data_dict = np.load(data_dict_filepath)\n",
    "\n",
    "X_train = data_dict['X_train']\n",
    "y_train = data_dict['y_train']\n",
    "X_test = data_dict['X_test']\n",
    "y_test = data_dict['y_test']\n",
    "\n",
    "print(\"X_train shape:\", X_train.shape)\n",
    "print(\"y_train shape:\", y_train.shape)\n",
    "print(\"X_test shape:\", X_test.shape)\n",
    "print(\"y_test shape:\", y_test.shape)\n",
    "\n",
    "# Free up memory\n",
    "del data_dict"
   ]
  },
  {
   "cell_type": "markdown",
   "metadata": {},
   "source": [
    "#### Neural Net Preprocessing"
   ]
  },
  {
   "cell_type": "code",
   "execution_count": 31,
   "metadata": {},
   "outputs": [
    {
     "name": "stdout",
     "output_type": "stream",
     "text": [
      "Before Val Split X_train shape: (9131456, 239)\n",
      "Before Val Split y_train shape: (9131456,)\n",
      "X_train shape: (6848592, 239)\n",
      "y_train shape: (6848592, 12)\n",
      "X_val shape: (2282864, 239)\n",
      "y_val shape: (2282864, 12)\n"
     ]
    }
   ],
   "source": [
    "from keras.utils import to_categorical\n",
    "from sklearn.model_selection import train_test_split\n",
    "\n",
    "# print(\"Before Val Split X_train shape:\", data_dict['X_train'].shape) # pkl file\n",
    "# print(\"Before Val Split y_train shape:\", data_dict['y_train'].shape) # pkl file\n",
    "print(\"Before Val Split X_train shape:\", X_train.shape)\n",
    "print(\"Before Val Split y_train shape:\", y_train.shape)\n",
    "\n",
    "# Create classes in columns and OHE for each record\n",
    "# train_labels = to_categorical(data_dict['y_train']) # From prepare_data\n",
    "# y_test = to_categorical(data_dict['y_test']) # When using pkl file and prepare_data\n",
    "train_labels = to_categorical(y_train) # From numpy file dictionary\n",
    "  \n",
    "X_train, X_val, y_train, y_val = train_test_split(X_train, train_labels, test_size = .25, random_state = 3)\n",
    "   \n",
    "print(\"X_train shape:\", X_train.shape)\n",
    "print(\"y_train shape:\", y_train.shape)\n",
    "print(\"X_val shape:\", X_val.shape)\n",
    "print(\"y_val shape:\", y_val.shape)"
   ]
  },
  {
   "cell_type": "markdown",
   "metadata": {},
   "source": [
    "#### MLP Model Creation and Summary"
   ]
  },
  {
   "cell_type": "code",
   "execution_count": 34,
   "metadata": {},
   "outputs": [
    {
     "name": "stdout",
     "output_type": "stream",
     "text": [
      "_________________________________________________________________\n",
      "Layer (type)                 Output Shape              Param #   \n",
      "=================================================================\n",
      "dense_54 (Dense)             (None, 1024)              245760    \n",
      "_________________________________________________________________\n",
      "dense_55 (Dense)             (None, 512)               524800    \n",
      "_________________________________________________________________\n",
      "dense_56 (Dense)             (None, 256)               131328    \n",
      "_________________________________________________________________\n",
      "dense_57 (Dense)             (None, 128)               32896     \n",
      "_________________________________________________________________\n",
      "dense_58 (Dense)             (None, 64)                8256      \n",
      "_________________________________________________________________\n",
      "dense_59 (Dense)             (None, 32)                2080      \n",
      "_________________________________________________________________\n",
      "dense_60 (Dense)             (None, 12)                396       \n",
      "=================================================================\n",
      "Total params: 945,516\n",
      "Trainable params: 945,516\n",
      "Non-trainable params: 0\n",
      "_________________________________________________________________\n"
     ]
    }
   ],
   "source": [
    "# Basic NN model to test potential and further need for tuning\n",
    "from keras import models\n",
    "from keras import optimizers\n",
    "from keras import layers\n",
    "\n",
    "model_nn = models.Sequential()\n",
    "model_nn.add(layers.Dense(1024, activation='relu', input_shape=(X_train.shape[1],)))\n",
    "model_nn.add(layers.Dense(512, activation = 'relu'))\n",
    "# model_nn.add(layers.Dropout(0.25))\n",
    "model_nn.add(layers.Dense(256, activation = 'relu'))\n",
    "model_nn.add(layers.Dense(128, activation = 'relu'))\n",
    "model_nn.add(layers.Dense(64, activation = 'relu'))\n",
    "model_nn.add(layers.Dense(32, activation = 'relu'))\n",
    "model_nn.add(layers.Dense(12, activation='softmax'))\n",
    "\n",
    "model_nn.compile(optimizer = 'adam',\n",
    "                loss='categorical_crossentropy',\n",
    "                metrics=['accuracy'])\n",
    "\n",
    "model_nn.summary()"
   ]
  },
  {
   "cell_type": "markdown",
   "metadata": {},
   "source": [
    "#### Fitting and Predicting the Model "
   ]
  },
  {
   "cell_type": "code",
   "execution_count": 35,
   "metadata": {},
   "outputs": [
    {
     "name": "stdout",
     "output_type": "stream",
     "text": [
      "Train on 6848592 samples, validate on 2282864 samples\n",
      "Epoch 1/40\n",
      "6848592/6848592 [==============================] - 49s 7us/step - loss: 1.0498 - acc: 0.6324 - val_loss: 0.9993 - val_acc: 0.6476\n",
      "Epoch 2/40\n",
      "6848592/6848592 [==============================] - 50s 7us/step - loss: 0.9761 - acc: 0.6570 - val_loss: 0.9747 - val_acc: 0.6589\n",
      "Epoch 3/40\n",
      "6848592/6848592 [==============================] - 50s 7us/step - loss: 0.9463 - acc: 0.6683 - val_loss: 0.9482 - val_acc: 0.6689\n",
      "Epoch 4/40\n",
      "6848592/6848592 [==============================] - 49s 7us/step - loss: 0.9260 - acc: 0.6760 - val_loss: 0.9373 - val_acc: 0.6732\n",
      "Epoch 5/40\n",
      "6848592/6848592 [==============================] - 49s 7us/step - loss: 0.9108 - acc: 0.6811 - val_loss: 0.9291 - val_acc: 0.6765\n",
      "Epoch 6/40\n",
      "6848592/6848592 [==============================] - 49s 7us/step - loss: 0.8987 - acc: 0.6854 - val_loss: 0.9275 - val_acc: 0.6775\n",
      "Epoch 7/40\n",
      "6848592/6848592 [==============================] - 50s 7us/step - loss: 0.8885 - acc: 0.6889 - val_loss: 0.9187 - val_acc: 0.6811\n",
      "Epoch 8/40\n",
      "6848592/6848592 [==============================] - 50s 7us/step - loss: 0.8795 - acc: 0.6919 - val_loss: 0.9148 - val_acc: 0.6827\n",
      "Epoch 9/40\n",
      "6848592/6848592 [==============================] - 50s 7us/step - loss: 0.8716 - acc: 0.6947 - val_loss: 0.9149 - val_acc: 0.6826\n",
      "Epoch 10/40\n",
      "6848592/6848592 [==============================] - 50s 7us/step - loss: 0.8645 - acc: 0.6970 - val_loss: 0.9127 - val_acc: 0.6837\n",
      "Epoch 11/40\n",
      "6848592/6848592 [==============================] - 49s 7us/step - loss: 0.8582 - acc: 0.6991 - val_loss: 0.9128 - val_acc: 0.6851\n",
      "Epoch 12/40\n",
      "6848592/6848592 [==============================] - 49s 7us/step - loss: 0.8523 - acc: 0.7011 - val_loss: 0.9103 - val_acc: 0.6855\n",
      "Epoch 13/40\n",
      "6848592/6848592 [==============================] - 49s 7us/step - loss: 0.8469 - acc: 0.7030 - val_loss: 0.9105 - val_acc: 0.6857\n",
      "Epoch 14/40\n",
      "6848592/6848592 [==============================] - 49s 7us/step - loss: 0.8418 - acc: 0.7047 - val_loss: 0.9089 - val_acc: 0.6870\n",
      "Epoch 15/40\n",
      "6848592/6848592 [==============================] - 49s 7us/step - loss: 0.8372 - acc: 0.7062 - val_loss: 0.9098 - val_acc: 0.6868\n",
      "Epoch 16/40\n",
      "6848592/6848592 [==============================] - 49s 7us/step - loss: 0.8330 - acc: 0.7077 - val_loss: 0.9067 - val_acc: 0.6880\n",
      "Epoch 17/40\n",
      "6848592/6848592 [==============================] - 49s 7us/step - loss: 0.8287 - acc: 0.7090 - val_loss: 0.9108 - val_acc: 0.6878\n",
      "Epoch 18/40\n",
      "6848592/6848592 [==============================] - 50s 7us/step - loss: 0.8248 - acc: 0.7103 - val_loss: 0.9103 - val_acc: 0.6879\n",
      "Epoch 19/40\n",
      "6848592/6848592 [==============================] - 49s 7us/step - loss: 0.8213 - acc: 0.7115 - val_loss: 0.9091 - val_acc: 0.6885\n",
      "Epoch 20/40\n",
      "6848592/6848592 [==============================] - 50s 7us/step - loss: 0.8178 - acc: 0.7125 - val_loss: 0.9087 - val_acc: 0.6887\n",
      "Epoch 21/40\n",
      "6848592/6848592 [==============================] - 50s 7us/step - loss: 0.8146 - acc: 0.7137 - val_loss: 0.9099 - val_acc: 0.6887\n",
      "Epoch 22/40\n",
      "6848592/6848592 [==============================] - 49s 7us/step - loss: 0.8114 - acc: 0.7149 - val_loss: 0.9105 - val_acc: 0.6888\n",
      "Epoch 23/40\n",
      "6848592/6848592 [==============================] - 49s 7us/step - loss: 0.8084 - acc: 0.7157 - val_loss: 0.9108 - val_acc: 0.6890\n",
      "Epoch 24/40\n",
      "6848592/6848592 [==============================] - 50s 7us/step - loss: 0.8055 - acc: 0.7167 - val_loss: 0.9111 - val_acc: 0.6899\n",
      "Epoch 25/40\n",
      "6848592/6848592 [==============================] - 49s 7us/step - loss: 0.8028 - acc: 0.7176 - val_loss: 0.9126 - val_acc: 0.6887\n",
      "Epoch 26/40\n",
      "6848592/6848592 [==============================] - 49s 7us/step - loss: 0.8001 - acc: 0.7184 - val_loss: 0.9130 - val_acc: 0.6898\n",
      "Epoch 27/40\n",
      "6848592/6848592 [==============================] - 50s 7us/step - loss: 0.7976 - acc: 0.7194 - val_loss: 0.9139 - val_acc: 0.6900\n",
      "Epoch 28/40\n",
      "6848592/6848592 [==============================] - 49s 7us/step - loss: 0.7953 - acc: 0.7202 - val_loss: 0.9160 - val_acc: 0.6899\n",
      "Epoch 29/40\n",
      "6848592/6848592 [==============================] - 49s 7us/step - loss: 0.7930 - acc: 0.7210 - val_loss: 0.9145 - val_acc: 0.6901\n",
      "Epoch 30/40\n",
      "6848592/6848592 [==============================] - 49s 7us/step - loss: 0.7906 - acc: 0.7217 - val_loss: 0.9131 - val_acc: 0.6903\n",
      "Epoch 31/40\n",
      "6848592/6848592 [==============================] - 49s 7us/step - loss: 0.7886 - acc: 0.7223 - val_loss: 0.9193 - val_acc: 0.6886\n",
      "Epoch 32/40\n",
      "6848592/6848592 [==============================] - 49s 7us/step - loss: 0.7865 - acc: 0.7230 - val_loss: 0.9182 - val_acc: 0.6897\n",
      "Epoch 33/40\n",
      "6848592/6848592 [==============================] - 52s 8us/step - loss: 0.7845 - acc: 0.7237 - val_loss: 0.9187 - val_acc: 0.6895\n",
      "Epoch 34/40\n",
      "6848592/6848592 [==============================] - 51s 7us/step - loss: 0.7827 - acc: 0.7243 - val_loss: 0.9206 - val_acc: 0.6901\n",
      "Epoch 35/40\n",
      "6848592/6848592 [==============================] - 52s 8us/step - loss: 0.7808 - acc: 0.7250 - val_loss: 0.9179 - val_acc: 0.6899\n",
      "Epoch 36/40\n",
      "6848592/6848592 [==============================] - 52s 8us/step - loss: 0.7790 - acc: 0.7254 - val_loss: 0.9230 - val_acc: 0.6897\n",
      "Epoch 37/40\n",
      "6848592/6848592 [==============================] - 51s 7us/step - loss: 0.7773 - acc: 0.7262 - val_loss: 0.9232 - val_acc: 0.6906\n",
      "Epoch 38/40\n",
      "6848592/6848592 [==============================] - 51s 7us/step - loss: 0.7755 - acc: 0.7268 - val_loss: 0.9213 - val_acc: 0.6901\n",
      "Epoch 39/40\n",
      "6848592/6848592 [==============================] - 51s 7us/step - loss: 0.7739 - acc: 0.7272 - val_loss: 0.9197 - val_acc: 0.6910\n",
      "Epoch 40/40\n",
      "6848592/6848592 [==============================] - 50s 7us/step - loss: 0.7723 - acc: 0.7278 - val_loss: 0.9259 - val_acc: 0.6903\n",
      "CPU times: user 44min 17s, sys: 7min 6s, total: 51min 24s\n",
      "Wall time: 33min 10s\n"
     ]
    },
    {
     "data": {
      "text/plain": [
       "<keras.callbacks.History at 0x7fcf9c1da5f8>"
      ]
     },
     "execution_count": 35,
     "metadata": {},
     "output_type": "execute_result"
    }
   ],
   "source": [
    "%%time\n",
    "model_nn.fit(X_train, y_train, epochs=40, batch_size=1024, validation_data = (X_val, y_val))"
   ]
  },
  {
   "cell_type": "code",
   "execution_count": 40,
   "metadata": {},
   "outputs": [],
   "source": [
    "# Predict\n",
    "y_pred_nn = model_nn.predict(X_test)\n",
    "y_pred_classes = model_nn.predict_classes(X_test)"
   ]
  },
  {
   "cell_type": "code",
   "execution_count": 39,
   "metadata": {},
   "outputs": [],
   "source": [
    "def calc_accuracy_windows(max_windows, y_test, y_pred):\n",
    "\n",
    "    # Initialize array to hold counts for each window\n",
    "    count_arr = np.zeros(max_windows)\n",
    "\n",
    "    # For each class window, if predicted class is in window, increment count \n",
    "    # E.g. if predicted class = 4 and target class = 6, since max window allowed = 2, consider instance as accurate and increment count \n",
    "    for idx, value in enumerate(y_test):\n",
    "        for window in np.arange(1,max_windows+1): \n",
    "             # window_arr calculates window that predicted value can fall into \n",
    "             # e.g. target value = 4, window = 2, window_arr = {2,3,4,5,6}\n",
    "             window_arr = np.arange(value - window, value + window + 1)\n",
    "             if (y_pred[idx] in window_arr):\n",
    "                count_arr[window-1] += 1\n",
    "\n",
    "    # Print accuracy for each time window     \n",
    "    accuracy_list = []\n",
    "    print(\"Accuracy with +- 0 time window(s): \", accuracy_score(y_test, y_pred)*100)\n",
    "    accuracy_list.append(accuracy_score(y_test, y_pred))\n",
    "    for idx, count in enumerate(count_arr):\n",
    "        print(\"Accuracy with +- \", idx, \" time window(s): \", (count/len(y_pred))*100)   \n",
    "        accuracy_list.append(count/len(y_pred))\n",
    "    \n",
    "    return accuracy_list"
   ]
  },
  {
   "cell_type": "code",
   "execution_count": 41,
   "metadata": {},
   "outputs": [
    {
     "name": "stdout",
     "output_type": "stream",
     "text": [
      "2282864\n",
      "2282864\n",
      "Accuracy with +- 0 time window(s):  69.11511154409548\n",
      "Accuracy with +-  0  time window(s):  87.37174005985464\n",
      "Accuracy with +-  1  time window(s):  94.82518450507783\n"
     ]
    }
   ],
   "source": [
    "y_preds = []\n",
    "for row in y_pred_nn:\n",
    "    max_row_idx = row.argmax()\n",
    "    y_preds.append(max_row_idx)\n",
    "    \n",
    "print(len(y_preds))\n",
    "print(len(y_pred_nn))\n",
    "\n",
    "# accuracy_nn = calc_accuracy_windows(2, data_dict['y_test'], y_preds) # When using pkl file\n",
    "accuracy_nn = calc_accuracy_windows(2, y_test, y_preds) # When using npz file"
   ]
  },
  {
   "cell_type": "markdown",
   "metadata": {},
   "source": [
    "#### Displaying Training Loss and Error"
   ]
  },
  {
   "cell_type": "code",
   "execution_count": 42,
   "metadata": {},
   "outputs": [],
   "source": [
    "import matplotlib.pyplot as plt\n",
    "from sklearn.metrics import accuracy_score\n",
    "'''\n",
    "Defining methods that will be frequently used for model\n",
    "training and tuning.\n",
    "'''\n",
    "\n",
    "def loss_curve_plot(model):\n",
    "    model_nn_hist_dict = model.history.history\n",
    "\n",
    "    acc = model.history.history['acc']\n",
    "    val_acc = model.history.history['val_acc']\n",
    "    loss = model.history.history['loss']\n",
    "    val_loss = model.history.history['val_loss']\n",
    "\n",
    "    epochs = range(1, len(acc) + 1)\n",
    "    plt.clf()\n",
    "    plt.plot(epochs, loss, 'bo', label='Training loss')\n",
    "    plt.plot(epochs, val_loss, 'b', label='Validation loss')\n",
    "    plt.title('Training and validation loss')\n",
    "    plt.xlabel('Epochs')\n",
    "    plt.ylabel('Loss')\n",
    "    plt.legend()\n",
    "\n",
    "    plt.show()\n",
    "    \n",
    "def acc_curve_plot(model):\n",
    "    model_nn_hist_dict = model.history.history\n",
    "\n",
    "    acc = model.history.history['acc']\n",
    "    val_acc = model.history.history['val_acc']\n",
    "    loss = model.history.history['loss']\n",
    "    val_loss = model.history.history['val_loss']\n",
    "    \n",
    "    epochs = range(1, len(acc) + 1)\n",
    "    plt.clf()   # clear figure\n",
    "    acc_values = model_nn_hist_dict['acc']\n",
    "    val_acc_values = model_nn_hist_dict['val_acc']\n",
    "\n",
    "    plt.plot(epochs, acc, 'bo', label='Training acc')\n",
    "    plt.plot(epochs, val_acc, 'b', label='Validation acc')\n",
    "    plt.title('Training and validation accuracy')\n",
    "    plt.xlabel('Epochs')\n",
    "    plt.ylabel('Accuracy')\n",
    "    plt.legend()\n",
    "\n",
    "    plt.show()"
   ]
  },
  {
   "cell_type": "code",
   "execution_count": 43,
   "metadata": {},
   "outputs": [
    {
     "data": {
      "image/png": "[encoded data removed]",
      "text/plain": [
       "<Figure size 432x288 with 1 Axes>"
      ]
     },
     "metadata": {
      "needs_background": "light"
     },
     "output_type": "display_data"
    },
    {
     "data": {
      "image/png": "[encoded data removed]",
      "text/plain": [
       "<Figure size 432x288 with 1 Axes>"
      ]
     },
     "metadata": {
      "needs_background": "light"
     },
     "output_type": "display_data"
    }
   ],
   "source": [
    "model_nn_acc_curve = acc_curve_plot(model_nn)\n",
    "model_nn_loss_curve = loss_curve_plot(model_nn)"
   ]
  },
  {
   "cell_type": "code",
   "execution_count": null,
   "metadata": {},
   "outputs": [],
   "source": []
  }
 ],
 "metadata": {
  "kernelspec": {
   "display_name": "Python 3",
   "language": "python",
   "name": "python3"
  },
  "language_info": {
   "codemirror_mode": {
    "name": "ipython",
    "version": 3
   },
   "file_extension": ".py",
   "mimetype": "text/x-python",
   "name": "python",
   "nbconvert_exporter": "python",
   "pygments_lexer": "ipython3",
   "version": "3.6.8"
  }
 },
 "nbformat": 4,
 "nbformat_minor": 2
}
