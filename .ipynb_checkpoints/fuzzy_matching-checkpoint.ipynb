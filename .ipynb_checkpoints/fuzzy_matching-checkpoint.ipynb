{
 "cells": [
  {
   "cell_type": "markdown",
   "metadata": {},
   "source": [
    "To run the following script, install the following:\n",
    "\n",
    "- pip install python-Levenshtein\n",
    "- pip install fuzzywuzzy\n",
    "\n",
    "Levenshtein may require a Microsoft C++ build package through Visual Studio. Follow prompts as required  "
   ]
  },
  {
   "cell_type": "code",
   "execution_count": 31,
   "metadata": {
    "ExecuteTime": {
     "end_time": "2019-07-03T06:28:36.685170Z",
     "start_time": "2019-07-03T06:28:36.681182Z"
    }
   },
   "outputs": [],
   "source": [
    "import pandas as pd\n",
    "from fuzzywuzzy import fuzz\n",
    "from fuzzywuzzy import process\n",
    "import sys\n",
    "import os\n",
    "import os.path"
   ]
  },
  {
   "cell_type": "code",
   "execution_count": 4,
   "metadata": {
    "ExecuteTime": {
     "end_time": "2019-07-03T06:00:00.442276Z",
     "start_time": "2019-07-03T06:00:00.437290Z"
    }
   },
   "outputs": [],
   "source": [
    "# Standardized shipping methods based primarily upon what is selectable through the FedEx API here:\n",
    "# https://www.fedex.com/ratefinder/home. 'Home Delivery' and 'Smartpost' are not selectable\n",
    "# through the API. This is because these services are available to businesses only.\n",
    "fedex_methods = ['Same Day', 'First Overnight', 'Priority Overnight', 'First Overnight',\n",
    "                 'Priority Overnight', 'Standard Overnight', '2Day AM', '2Day', 'Express Saver',\n",
    "                 'Ground','Home Delivery','Smartpost']\n",
    "\n",
    "# Standardized shipping methods based primarily on what is selectable through the API here:\n",
    "# https://wwwapps.ups.com/ctc/request?loc=en_US. 'Surepost' and 'Standard' are not selectable\n",
    "# through the API. Standard is Ground to the 48 continguous states, whereas Ground includes\n",
    "# Alaska and Hawaii.\n",
    "ups_methods = ['Next Day Air Early', 'Next Day Air', 'Next Day Air Saver',\n",
    "               '2nd Day Air A.M.', '2nd Day Air', '3 Day Select', 'Ground', 'Surepost', 'Standard']"
   ]
  },
  {
   "cell_type": "code",
   "execution_count": 35,
   "metadata": {
    "ExecuteTime": {
     "end_time": "2019-07-03T06:34:06.925273Z",
     "start_time": "2019-07-03T06:33:05.277975Z"
    }
   },
   "outputs": [],
   "source": [
    "# Reads in and samples the data. The sampling will be removed in the final solution\n",
    "data = pd.read_pickle('C:/Users/royce/Downloads/test_merged.pickle')\n",
    "data_sample = data.sample(frac=.01, replace=False)"
   ]
  },
  {
   "cell_type": "code",
   "execution_count": 7,
   "metadata": {
    "ExecuteTime": {
     "end_time": "2019-07-03T06:01:23.963994Z",
     "start_time": "2019-07-03T06:01:23.950031Z"
    }
   },
   "outputs": [],
   "source": [
    "data_sample.columns = ['year_week', 'business_sid', 'industry', 'sub_industry', 'shipper',\n",
    "       'service_type', 'package_count', 'weight', 'shipment_date',\n",
    "       'delivery_date', 'delivery_time', 'freight_charges',\n",
    "       'freight_discount_amount', 'misc_charges', 'misc_discount_amount',\n",
    "       'net_charge_amount', 'zone', 'sender_city', 'sender_zip',\n",
    "       'recipient_city', 'recipient_zip']"
   ]
  },
  {
   "cell_type": "code",
   "execution_count": 8,
   "metadata": {
    "ExecuteTime": {
     "end_time": "2019-07-03T06:03:57.399840Z",
     "start_time": "2019-07-03T06:02:52.902741Z"
    }
   },
   "outputs": [],
   "source": [
    "# Applies the 'fuzz.partial_ratio' fuzzy macthing algorithm to each record based upon the record's service_type_description.\n",
    "# The partial_ratio function is designed to return the shipping method with the highest score as a two pair tuple\n",
    "# i.e., (standardized_shipping_method, score). The term 'partial' is used because it looks for subset / superset pairs.\n",
    "# For instance 'Big is Better' and 'Better' would match and have a score of 100 because 'Better' perfectly matches \n",
    "# a subset of the words in 'Big is Better'. For shipping methods, 'Ground Commerical' and 'Ground' will match\n",
    "# with a score of 100 because 'Ground' perfeclty matches a subset of the words in 'Ground Commerical'\n",
    "\n",
    "data_sample_partial_ratio = []\n",
    "for i, series in data_sample[['shipper','service_type']].iterrows():\n",
    "    if series.shipper == 'fedex':\n",
    "        data_sample_partial_ratio.append(process.extractOne(\n",
    "            series.service_type,\n",
    "            fedex_methods,\n",
    "            scorer = fuzz.partial_ratio))\n",
    "    else:\n",
    "        data_sample_partial_ratio.append(process.extractOne(\n",
    "            series.service_type,\n",
    "            ups_methods,\n",
    "            scorer = fuzz.partial_ratio))"
   ]
  },
  {
   "cell_type": "code",
   "execution_count": 22,
   "metadata": {
    "ExecuteTime": {
     "end_time": "2019-07-03T06:17:28.669476Z",
     "start_time": "2019-07-03T06:16:30.244340Z"
    }
   },
   "outputs": [],
   "source": [
    "# Applies the 'fuzz.partial_ratio' fuzzy macthing algorithm to each record based upon the record's service_type_description.\n",
    "# The partial_ratio function is designed to return the shipping method with the highest score as a two pair tuple\n",
    "# i.e., (standardized_shipping_method, score\n",
    "\n",
    "## USING ITERTUPLES ##\n",
    "data_sample_partial_ratio = []\n",
    "for row in data_sample[['shipper','service_type']].itertuples():\n",
    "    if row.shipper == 'fedex':\n",
    "        data_sample_partial_ratio.append(process.extractOne(\n",
    "            row.service_type,\n",
    "            fedex_methods,\n",
    "            scorer = fuzz.partial_ratio))\n",
    "    else:\n",
    "        data_sample_partial_ratio.append(process.extractOne(\n",
    "            row.service_type,\n",
    "            ups_methods,\n",
    "            scorer = fuzz.partial_ratio))"
   ]
  },
  {
   "cell_type": "code",
   "execution_count": 23,
   "metadata": {
    "ExecuteTime": {
     "end_time": "2019-07-03T06:18:03.583624Z",
     "start_time": "2019-07-03T06:18:03.341237Z"
    }
   },
   "outputs": [],
   "source": [
    "# The standardized shipping method and its associated score are added to the data.\n",
    "# The score should be dropped from the final solution\n",
    "\n",
    "data_sample = data_sample.assign(partial_ratio_std_shipping_method =\n",
    "                                 [method for method, score in data_sample_partial_ratio])\n",
    "\n",
    "data_sample = data_sample.assign(partial_ratio_score =\n",
    "                                 [score for method, score in data_sample_partial_ratio])"
   ]
  },
  {
   "cell_type": "code",
   "execution_count": 24,
   "metadata": {
    "ExecuteTime": {
     "end_time": "2019-07-03T06:18:16.353615Z",
     "start_time": "2019-07-03T06:18:16.199626Z"
    }
   },
   "outputs": [],
   "source": [
    "# Exports the results for manual review / comparison. This and all other cells should be removed from the final solution.\n",
    "\n",
    "data_sample[['shipper',\n",
    "             'service_type',\n",
    "             'partial_ratio_std_shipping_method',\n",
    "             'partial_ratio_score']].to_csv('C:/Users/royce/Downloads/Capstone/shipping_methods.csv')"
   ]
  }
 ],
 "metadata": {
  "kernelspec": {
   "display_name": "Python 3",
   "language": "python",
   "name": "python3"
  },
  "language_info": {
   "codemirror_mode": {
    "name": "ipython",
    "version": 3
   },
   "file_extension": ".py",
   "mimetype": "text/x-python",
   "name": "python",
   "nbconvert_exporter": "python",
   "pygments_lexer": "ipython3",
   "version": "3.6.8"
  },
  "latex_envs": {
   "LaTeX_envs_menu_present": true,
   "autoclose": true,
   "autocomplete": true,
   "bibliofile": "biblio.bib",
   "cite_by": "apalike",
   "current_citInitial": 1,
   "eqLabelWithNumbers": true,
   "eqNumInitial": 1,
   "hotkeys": {
    "equation": "Ctrl-E",
    "itemize": "Ctrl-I"
   },
   "labels_anchors": false,
   "latex_user_defs": false,
   "report_style_numbering": false,
   "user_envs_cfg": false
  }
 },
 "nbformat": 4,
 "nbformat_minor": 2
}
