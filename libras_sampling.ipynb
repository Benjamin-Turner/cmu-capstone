{
 "cells": [
  {
   "cell_type": "code",
   "execution_count": 1,
   "metadata": {
    "ExecuteTime": {
     "end_time": "2019-06-29T13:48:45.483215Z",
     "start_time": "2019-06-29T13:48:39.109372Z"
    }
   },
   "outputs": [],
   "source": [
    "import MySQLdb as db\n",
    "import pandas as pd\n",
    "from pandas import DataFrame\n",
    "# file imports\n",
    "import credentials"
   ]
  },
  {
   "cell_type": "code",
   "execution_count": 2,
   "metadata": {
    "ExecuteTime": {
     "end_time": "2019-06-29T13:48:48.643411Z",
     "start_time": "2019-06-29T13:48:48.498839Z"
    }
   },
   "outputs": [],
   "source": [
    "# connects script to customer aws-hosted mysql db\n",
    "database = db.connect(credentials.host, credentials.user, credentials.password, credentials.db)\n",
    "\n",
    "# stores the location sample results are stored - update as required.\n",
    "csvfile = 'C:/Users/bjtur/Documents/Capstone/libras_sample.csv'\n",
    "\n",
    "# stores a common select statement used to extract and append table headers, then the shipment records themselves\n",
    "select_columns = (\"SELECT id, business_sid, industry, sub_industry, shipper, service_type_description, \"\n",
    "                  + \"package_count, weight, year_week, shipment_date, delivery_date, \"\n",
    "                  + \"delivery_time, freight_charges, freight_discount_amount, misc_charges, \"\n",
    "                  + \"misc_discount_amount, net_charge_amount, zone, sender_city, sender_state, sender_zip, \"\n",
    "                  + \"sender_country, recipient_city, recipient_state, recipient_zip, recipient_country\")"
   ]
  },
  {
   "cell_type": "code",
   "execution_count": 5,
   "metadata": {},
   "outputs": [],
   "source": [
    "def db_batch (lower, higher):\n",
    "    \"\"\"\n",
    "    Appends a sample of a batch of records to csvfile\n",
    "    \"\"\"\n",
    "    data = pd.read_sql_query(select_columns + \" FROM shipment_details limit {}, {};\".format(lower, higher), database)\n",
    "    data_sample = data.sample(frac=0.1, replace=False)\n",
    "    with open(csvfile, 'a', newline='\\n') as f:\n",
    "        data_sample.to_csv(f, header=False, index=False, sep = ';')"
   ]
  },
  {
   "cell_type": "code",
   "execution_count": 6,
   "metadata": {},
   "outputs": [],
   "source": [
    "headers = pd.read_sql_query(select_columns + \" FROM shipment_details limit 0;\", database)\n",
    "with open(csvfile, 'a', newline='\\n') as f:\n",
    "    headers.to_csv(f, index=False, sep = ';')"
   ]
  },
  {
   "cell_type": "code",
   "execution_count": 23,
   "metadata": {},
   "outputs": [
    {
     "name": "stdout",
     "output_type": "stream",
     "text": [
      "Index 0 | Total time: 0 min | Batch time: 8 sec\n",
      "Index 1000000 | Total time: 0 min | Batch time: 10 sec\n",
      "Index 2000000 | Total time: 0 min | Batch time: 17 sec\n",
      "Index 3000000 | Total time: 0 min | Batch time: 15 sec\n",
      "Index 4000000 | Total time: 1 min | Batch time: 16 sec\n",
      "Index 5000000 | Total time: 1 min | Batch time: 19 sec\n",
      "Index 6000000 | Total time: 1 min | Batch time: 20 sec\n",
      "Index 7000000 | Total time: 2 min | Batch time: 23 sec\n",
      "Index 8000000 | Total time: 2 min | Batch time: 25 sec\n",
      "Index 9000000 | Total time: 2 min | Batch time: 26 sec\n",
      "Index 10000000 | Total time: 3 min | Batch time: 33 sec\n",
      "Index 11000000 | Total time: 4 min | Batch time: 29 sec\n",
      "Index 12000000 | Total time: 4 min | Batch time: 33 sec\n",
      "Index 13000000 | Total time: 5 min | Batch time: 33 sec\n",
      "Index 14000000 | Total time: 5 min | Batch time: 34 sec\n",
      "Index 15000000 | Total time: 6 min | Batch time: 37 sec\n",
      "Index 16000000 | Total time: 6 min | Batch time: 38 sec\n",
      "Index 17000000 | Total time: 7 min | Batch time: 43 sec\n",
      "Index 18000000 | Total time: 8 min | Batch time: 42 sec\n",
      "Index 19000000 | Total time: 9 min | Batch time: 44 sec\n",
      "Index 20000000 | Total time: 9 min | Batch time: 45 sec\n",
      "Index 21000000 | Total time: 10 min | Batch time: 56 sec\n",
      "Index 22000000 | Total time: 11 min | Batch time: 51 sec\n",
      "Index 23000000 | Total time: 12 min | Batch time: 70 sec\n",
      "Index 24000000 | Total time: 13 min | Batch time: 64 sec\n",
      "Index 25000000 | Total time: 14 min | Batch time: 68 sec\n",
      "Index 26000000 | Total time: 15 min | Batch time: 62 sec\n",
      "Index 27000000 | Total time: 17 min | Batch time: 74 sec\n",
      "Index 28000000 | Total time: 18 min | Batch time: 73 sec\n",
      "Index 29000000 | Total time: 19 min | Batch time: 73 sec\n"
     ]
    }
   ],
   "source": [
    "import time\n",
    "start = time.time()\n",
    "for index in range(0, 30000000, 1000000): # range intentionally extends beyond the known number of records\n",
    "    batch_start = time.time()\n",
    "    try:\n",
    "        db_batch(index, 100000)\n",
    "        print(\"Index {} | Total time: {} min | Batch time: {} sec\".format(index,\n",
    "                                                                          int(round((time.time() - start)/60, 2)),\n",
    "                                                                          int(round(time.time() - batch_start))))\n",
    "    except:\n",
    "        print(\"============================================\")\n",
    "        print(\"Total time: {} min\".format(int(round((time.time() - start)/60, 2))))\n",
    "        break"
   ]
  },
  {
   "cell_type": "code",
   "execution_count": 3,
   "metadata": {},
   "outputs": [],
   "source": [
    "result = pd.read_sql_query(\"SELECT recipient_state, COUNT(*) FROM shipment_details GROUP BY recipient_state ORDER BY recipient_state;\", database)"
   ]
  },
  {
   "cell_type": "code",
   "execution_count": 7,
   "metadata": {},
   "outputs": [],
   "source": [
    "result.to_csv(\"recipient_states.csv\")"
   ]
  },
  {
   "cell_type": "code",
   "execution_count": null,
   "metadata": {},
   "outputs": [],
   "source": []
  }
 ],
 "metadata": {
  "kernelspec": {
   "display_name": "Python 3",
   "language": "python",
   "name": "python3"
  },
  "language_info": {
   "codemirror_mode": {
    "name": "ipython",
    "version": 3
   },
   "file_extension": ".py",
   "mimetype": "text/x-python",
   "name": "python",
   "nbconvert_exporter": "python",
   "pygments_lexer": "ipython3",
   "version": "3.6.8"
  },
  "latex_envs": {
   "LaTeX_envs_menu_present": true,
   "autoclose": true,
   "autocomplete": true,
   "bibliofile": "biblio.bib",
   "cite_by": "apalike",
   "current_citInitial": 1,
   "eqLabelWithNumbers": true,
   "eqNumInitial": 1,
   "hotkeys": {
    "equation": "Ctrl-E",
    "itemize": "Ctrl-I"
   },
   "labels_anchors": false,
   "latex_user_defs": false,
   "report_style_numbering": false,
   "user_envs_cfg": false
  }
 },
 "nbformat": 4,
 "nbformat_minor": 2
}
