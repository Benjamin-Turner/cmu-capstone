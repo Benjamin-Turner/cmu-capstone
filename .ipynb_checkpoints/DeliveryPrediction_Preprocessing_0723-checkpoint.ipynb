{
 "cells": [
  {
   "cell_type": "code",
   "execution_count": 1,
   "metadata": {
    "ExecuteTime": {
     "end_time": "2019-07-14T00:00:38.487543Z",
     "start_time": "2019-07-14T00:00:34.207265Z"
    }
   },
   "outputs": [],
   "source": [
    "import pickle\n",
    "import pandas as pd\n",
    "import os\n",
    "import numpy as np\n",
    "import seaborn as sns\n",
    "import matplotlib.pyplot as plt\n",
    "from tqdm import tqdm\n",
    "from datetime import datetime, timedelta\n",
    "import joblib\n",
    "from sklearn.model_selection import train_test_split\n",
    "from sklearn import preprocessing\n",
    "from imblearn.over_sampling import SMOTE"
   ]
  },
  {
   "cell_type": "code",
   "execution_count": 2,
   "metadata": {
    "ExecuteTime": {
     "end_time": "2019-07-14T00:00:44.986009Z",
     "start_time": "2019-07-14T00:00:38.487543Z"
    }
   },
   "outputs": [],
   "source": [
    "# import cleaned dataframe\n",
    "cwd = os.getcwd()\n",
    "cleaned_df = pickle.load( open('data/data.pkl', \"rb\" ) )"
   ]
  },
  {
   "cell_type": "markdown",
   "metadata": {},
   "source": [
    "# 2. Add month of year"
   ]
  },
  {
   "cell_type": "code",
   "execution_count": 3,
   "metadata": {
    "ExecuteTime": {
     "end_time": "2019-07-14T00:00:58.451563Z",
     "start_time": "2019-07-14T00:00:57.795433Z"
    }
   },
   "outputs": [
    {
     "name": "stdout",
     "output_type": "stream",
     "text": [
      "Starting with 11515017 rows, 42 columns\n",
      "Ending with 11515017 rows, 43 columns\n"
     ]
    }
   ],
   "source": [
    "# 2. Add features\n",
    "cleaned_df_1 = cleaned_df.copy(deep=False)\n",
    "start_rows = len(cleaned_df_1)\n",
    "start_col = len(cleaned_df_1.columns)\n",
    "print(f\"Starting with {start_rows} rows, {start_col} columns\")\n",
    "\n",
    "## Create month of year feature\n",
    "cleaned_df_1['month'] = cleaned_df_1['shipment_date'].dt.month\n",
    "\n",
    "end_rows = len(cleaned_df_1)\n",
    "end_col = len(cleaned_df_1.columns)\n",
    "print(f\"Ending with {end_rows} rows, {end_col} columns\")"
   ]
  },
  {
   "cell_type": "markdown",
   "metadata": {},
   "source": [
    "# 3. Create target variable Y i.e. time window"
   ]
  },
  {
   "cell_type": "code",
   "execution_count": 4,
   "metadata": {
    "ExecuteTime": {
     "end_time": "2019-07-14T00:01:25.280878Z",
     "start_time": "2019-07-14T00:01:24.484186Z"
    }
   },
   "outputs": [
    {
     "name": "stdout",
     "output_type": "stream",
     "text": [
      "Starting with 11515017 rows, 43 columns\n",
      "Keep -1 to 5 days in transit: Removed 100697 rows\n",
      "Ending with 11414320 rows, 43 columns\n"
     ]
    }
   ],
   "source": [
    "### Keep rows from -1 to 5 days in transit\n",
    "start_rows = len(cleaned_df_1)\n",
    "start_col = len(cleaned_df_1.columns)\n",
    "print(f\"Starting with {start_rows} rows, {start_col} columns\")\n",
    "\n",
    "max_days_to_keep = 5\n",
    "cleaned_df_1 = cleaned_df_1[cleaned_df_1['days_in_transit'].isin(np.arange(-1,max_days_to_keep))]\n",
    "days_in_transit_rows = len(cleaned_df_1) \n",
    "print(f\"Keep -1 to {max_days_to_keep} days in transit: Removed {start_rows - days_in_transit_rows} rows\")\n",
    "\n",
    "end_rows = len(cleaned_df_1)\n",
    "end_col = len(cleaned_df_1.columns)\n",
    "print(f\"Ending with {end_rows} rows, {end_col} columns\")"
   ]
  },
  {
   "cell_type": "code",
   "execution_count": 8,
   "metadata": {
    "ExecuteTime": {
     "end_time": "2019-07-14T00:01:25.296492Z",
     "start_time": "2019-07-14T00:01:25.280878Z"
    }
   },
   "outputs": [
    {
     "name": "stdout",
     "output_type": "stream",
     "text": [
      "8.00am: 0.3333333333333333 day, 10.30am: 0.4375 day, 3.00pm: 0.625 day, 4.30pm: 0.6875 day, 6.30pm: 0.7708333333333334 day\n"
     ]
    }
   ],
   "source": [
    "## Create time window logic\n",
    "### Window percentage of day\n",
    "percentage_of_day_list = []\n",
    "#### 8.00am \n",
    "eight_am = timedelta(hours=8, minutes=0).total_seconds() / timedelta(days=1).total_seconds()\n",
    "percentage_of_day_list.append(eight_am)\n",
    "#### 10.30am\n",
    "ten_thirty_am = timedelta(hours=10, minutes=30).total_seconds() / timedelta(days=1).total_seconds()\n",
    "percentage_of_day_list.append(ten_thirty_am)\n",
    "#### 3.00pm \n",
    "three_pm = timedelta(hours=15, minutes=0).total_seconds() / timedelta(days=1).total_seconds()\n",
    "percentage_of_day_list.append(three_pm)\n",
    "#### 4.30pm \n",
    "four_thirty_pm = timedelta(hours=16, minutes=30).total_seconds() / timedelta(days=1).total_seconds()\n",
    "percentage_of_day_list.append(four_thirty_pm)\n",
    "#### 6.30pm \n",
    "six_thirty_pm = timedelta(hours=18, minutes=30).total_seconds() / timedelta(days=1).total_seconds()\n",
    "percentage_of_day_list.append(six_thirty_pm)\n",
    "\n",
    "\n",
    "print(f\"8.00am: {eight_am} day, \\\n",
    "10.30am: {ten_thirty_am} day, \\\n",
    "3.00pm: {three_pm} day, \\\n",
    "4.30pm: {four_thirty_pm} day, \\\n",
    "6.30pm: {six_thirty_pm} day\")"
   ]
  },
  {
   "cell_type": "code",
   "execution_count": 9,
   "metadata": {
    "ExecuteTime": {
     "end_time": "2019-07-14T00:01:25.312150Z",
     "start_time": "2019-07-14T00:01:25.296492Z"
    }
   },
   "outputs": [
    {
     "name": "stdout",
     "output_type": "stream",
     "text": [
      "No. of thresholds: 14, Thresholds: 0 and [0.3333333333333333, 0.4375, 0.625, 1, 1.4375, 1.6875, 1.7708333333333335, 2, 2.6875, 2.7708333333333335, 3, 4, 5]\n"
     ]
    }
   ],
   "source": [
    "### Create time window thresholds\n",
    "time_window_thresholds = [eight_am, ten_thirty_am, three_pm, 1,\n",
    "                          1 + ten_thirty_am, 1 + four_thirty_pm, 1 + six_thirty_pm, 2,\n",
    "                          2 + four_thirty_pm, 2 + six_thirty_pm, 3,\n",
    "                          4, 5]\n",
    "  \n",
    "### Create time window assignment function \n",
    "#### Total of 31 time windows: \n",
    "#### 0 business days -> Window 0, \n",
    "#### 3 time windows * each of 1-10 business days -> Windows 1 - 31\n",
    "def assign_time_window(time): \n",
    "    # If 0 business days, assign to window 0\n",
    "    if time <= 0: return 0\n",
    "    lowerBound = 0\n",
    "    # If >0 business days, assign to respective time window\n",
    "    for upperBound in time_window_thresholds: \n",
    "        if lowerBound < time <= upperBound:\n",
    "            # Use index of thresholds to assign time windows\n",
    "            return time_window_thresholds.index(upperBound)+1 # +1 since Window 0 is occupied\n",
    "            break\n",
    "\n",
    "print(f\"No. of thresholds: {len(time_window_thresholds)+1}, Thresholds: 0 and {time_window_thresholds}\")"
   ]
  },
  {
   "cell_type": "code",
   "execution_count": 10,
   "metadata": {
    "ExecuteTime": {
     "end_time": "2019-07-14T00:01:37.777935Z",
     "start_time": "2019-07-14T00:01:25.312150Z"
    },
    "scrolled": true
   },
   "outputs": [
    {
     "name": "stderr",
     "output_type": "stream",
     "text": [
      "\r",
      "Assign time window:   0%|          | 0/11414320 [00:00<?, ?it/s]"
     ]
    },
    {
     "name": "stdout",
     "output_type": "stream",
     "text": [
      "Starting with 11414320 rows, 43 columns\n"
     ]
    },
    {
     "name": "stderr",
     "output_type": "stream",
     "text": [
      "Assign time window: 100%|██████████| 11414320/11414320 [00:18<00:00, 604052.88it/s]\n"
     ]
    },
    {
     "name": "stdout",
     "output_type": "stream",
     "text": [
      "Ending with 11414320 rows, 43 columns\n"
     ]
    }
   ],
   "source": [
    "### Assign time window \n",
    "start_rows = len(cleaned_df_1)\n",
    "start_col = len(cleaned_df_1.columns)\n",
    "print(f\"Starting with {start_rows} rows, {start_col} columns\")\n",
    "\n",
    "tqdm.pandas(desc=\"Assign time window\")\n",
    "cleaned_df_1['Y'] = cleaned_df_1['days_taken_float'].progress_apply(assign_time_window)\n",
    "\n",
    "end_rows = len(cleaned_df_1)\n",
    "end_col = len(cleaned_df_1.columns)\n",
    "print(f\"Ending with {end_rows} rows, {end_col} columns\")\n",
    "\n",
    "### Visualize time window assignment\n",
    "cleaned_df_1.Y.value_counts().to_frame().style.bar()\n",
    "\n",
    "## Reset index since no more removing of rows\n",
    "cleaned_df_1 = cleaned_df_1.reset_index(drop=True)"
   ]
  },
  {
   "cell_type": "code",
   "execution_count": 11,
   "metadata": {},
   "outputs": [
    {
     "data": {
      "text/html": [
       "<div>\n",
       "<style scoped>\n",
       "    .dataframe tbody tr th:only-of-type {\n",
       "        vertical-align: middle;\n",
       "    }\n",
       "\n",
       "    .dataframe tbody tr th {\n",
       "        vertical-align: top;\n",
       "    }\n",
       "\n",
       "    .dataframe thead th {\n",
       "        text-align: right;\n",
       "    }\n",
       "</style>\n",
       "<table border=\"1\" class=\"dataframe\">\n",
       "  <thead>\n",
       "    <tr style=\"text-align: right;\">\n",
       "      <th></th>\n",
       "      <th>days_taken_float</th>\n",
       "      <th>Y</th>\n",
       "    </tr>\n",
       "  </thead>\n",
       "  <tbody>\n",
       "    <tr>\n",
       "      <th>0</th>\n",
       "      <td>4.688889</td>\n",
       "      <td>13</td>\n",
       "    </tr>\n",
       "    <tr>\n",
       "      <th>1</th>\n",
       "      <td>3.526389</td>\n",
       "      <td>12</td>\n",
       "    </tr>\n",
       "    <tr>\n",
       "      <th>2</th>\n",
       "      <td>0.557639</td>\n",
       "      <td>3</td>\n",
       "    </tr>\n",
       "    <tr>\n",
       "      <th>3</th>\n",
       "      <td>0.557639</td>\n",
       "      <td>3</td>\n",
       "    </tr>\n",
       "    <tr>\n",
       "      <th>4</th>\n",
       "      <td>0.557639</td>\n",
       "      <td>3</td>\n",
       "    </tr>\n",
       "    <tr>\n",
       "      <th>5</th>\n",
       "      <td>3.517361</td>\n",
       "      <td>12</td>\n",
       "    </tr>\n",
       "    <tr>\n",
       "      <th>6</th>\n",
       "      <td>3.687500</td>\n",
       "      <td>12</td>\n",
       "    </tr>\n",
       "    <tr>\n",
       "      <th>7</th>\n",
       "      <td>3.495833</td>\n",
       "      <td>12</td>\n",
       "    </tr>\n",
       "    <tr>\n",
       "      <th>8</th>\n",
       "      <td>4.615972</td>\n",
       "      <td>13</td>\n",
       "    </tr>\n",
       "    <tr>\n",
       "      <th>9</th>\n",
       "      <td>3.650000</td>\n",
       "      <td>12</td>\n",
       "    </tr>\n",
       "    <tr>\n",
       "      <th>10</th>\n",
       "      <td>3.411111</td>\n",
       "      <td>12</td>\n",
       "    </tr>\n",
       "    <tr>\n",
       "      <th>11</th>\n",
       "      <td>3.411111</td>\n",
       "      <td>12</td>\n",
       "    </tr>\n",
       "    <tr>\n",
       "      <th>12</th>\n",
       "      <td>1.399306</td>\n",
       "      <td>5</td>\n",
       "    </tr>\n",
       "    <tr>\n",
       "      <th>13</th>\n",
       "      <td>3.609028</td>\n",
       "      <td>12</td>\n",
       "    </tr>\n",
       "    <tr>\n",
       "      <th>14</th>\n",
       "      <td>3.620139</td>\n",
       "      <td>12</td>\n",
       "    </tr>\n",
       "    <tr>\n",
       "      <th>15</th>\n",
       "      <td>0.543750</td>\n",
       "      <td>3</td>\n",
       "    </tr>\n",
       "    <tr>\n",
       "      <th>16</th>\n",
       "      <td>0.612500</td>\n",
       "      <td>3</td>\n",
       "    </tr>\n",
       "    <tr>\n",
       "      <th>17</th>\n",
       "      <td>3.643056</td>\n",
       "      <td>12</td>\n",
       "    </tr>\n",
       "    <tr>\n",
       "      <th>18</th>\n",
       "      <td>1.475000</td>\n",
       "      <td>6</td>\n",
       "    </tr>\n",
       "    <tr>\n",
       "      <th>19</th>\n",
       "      <td>3.457639</td>\n",
       "      <td>12</td>\n",
       "    </tr>\n",
       "  </tbody>\n",
       "</table>\n",
       "</div>"
      ],
      "text/plain": [
       "    days_taken_float   Y\n",
       "0           4.688889  13\n",
       "1           3.526389  12\n",
       "2           0.557639   3\n",
       "3           0.557639   3\n",
       "4           0.557639   3\n",
       "5           3.517361  12\n",
       "6           3.687500  12\n",
       "7           3.495833  12\n",
       "8           4.615972  13\n",
       "9           3.650000  12\n",
       "10          3.411111  12\n",
       "11          3.411111  12\n",
       "12          1.399306   5\n",
       "13          3.609028  12\n",
       "14          3.620139  12\n",
       "15          0.543750   3\n",
       "16          0.612500   3\n",
       "17          3.643056  12\n",
       "18          1.475000   6\n",
       "19          3.457639  12"
      ]
     },
     "execution_count": 11,
     "metadata": {},
     "output_type": "execute_result"
    }
   ],
   "source": [
    "cleaned_df_1[['days_taken_float', 'Y']].iloc[:20]"
   ]
  },
  {
   "cell_type": "code",
   "execution_count": 12,
   "metadata": {
    "scrolled": true
   },
   "outputs": [
    {
     "data": {
      "text/html": [
       "<style  type=\"text/css\" >\n",
       "    #T_96704f82_ae42_11e9_98a2_db1ff16d5962row0_col0 {\n",
       "            width:  10em;\n",
       "             height:  80%;\n",
       "            background:  linear-gradient(90deg,#d65f5f 100.0%, transparent 100.0%);\n",
       "        }    #T_96704f82_ae42_11e9_98a2_db1ff16d5962row1_col0 {\n",
       "            width:  10em;\n",
       "             height:  80%;\n",
       "            background:  linear-gradient(90deg,#d65f5f 79.3%, transparent 79.3%);\n",
       "        }    #T_96704f82_ae42_11e9_98a2_db1ff16d5962row2_col0 {\n",
       "            width:  10em;\n",
       "             height:  80%;\n",
       "            background:  linear-gradient(90deg,#d65f5f 67.1%, transparent 67.1%);\n",
       "        }    #T_96704f82_ae42_11e9_98a2_db1ff16d5962row3_col0 {\n",
       "            width:  10em;\n",
       "             height:  80%;\n",
       "            background:  linear-gradient(90deg,#d65f5f 66.2%, transparent 66.2%);\n",
       "        }    #T_96704f82_ae42_11e9_98a2_db1ff16d5962row4_col0 {\n",
       "            width:  10em;\n",
       "             height:  80%;\n",
       "            background:  linear-gradient(90deg,#d65f5f 25.2%, transparent 25.2%);\n",
       "        }    #T_96704f82_ae42_11e9_98a2_db1ff16d5962row5_col0 {\n",
       "            width:  10em;\n",
       "             height:  80%;\n",
       "            background:  linear-gradient(90deg,#d65f5f 25.1%, transparent 25.1%);\n",
       "        }    #T_96704f82_ae42_11e9_98a2_db1ff16d5962row6_col0 {\n",
       "            width:  10em;\n",
       "             height:  80%;\n",
       "            background:  linear-gradient(90deg,#d65f5f 20.6%, transparent 20.6%);\n",
       "        }    #T_96704f82_ae42_11e9_98a2_db1ff16d5962row7_col0 {\n",
       "            width:  10em;\n",
       "             height:  80%;\n",
       "            background:  linear-gradient(90deg,#d65f5f 18.8%, transparent 18.8%);\n",
       "        }    #T_96704f82_ae42_11e9_98a2_db1ff16d5962row8_col0 {\n",
       "            width:  10em;\n",
       "             height:  80%;\n",
       "            background:  linear-gradient(90deg,#d65f5f 8.7%, transparent 8.7%);\n",
       "        }    #T_96704f82_ae42_11e9_98a2_db1ff16d5962row9_col0 {\n",
       "            width:  10em;\n",
       "             height:  80%;\n",
       "            background:  linear-gradient(90deg,#d65f5f 6.0%, transparent 6.0%);\n",
       "        }    #T_96704f82_ae42_11e9_98a2_db1ff16d5962row10_col0 {\n",
       "            width:  10em;\n",
       "             height:  80%;\n",
       "            background:  linear-gradient(90deg,#d65f5f 4.2%, transparent 4.2%);\n",
       "        }    #T_96704f82_ae42_11e9_98a2_db1ff16d5962row11_col0 {\n",
       "            width:  10em;\n",
       "             height:  80%;\n",
       "            background:  linear-gradient(90deg,#d65f5f 2.0%, transparent 2.0%);\n",
       "        }    #T_96704f82_ae42_11e9_98a2_db1ff16d5962row12_col0 {\n",
       "            width:  10em;\n",
       "             height:  80%;\n",
       "            background:  linear-gradient(90deg,#d65f5f 1.4%, transparent 1.4%);\n",
       "        }    #T_96704f82_ae42_11e9_98a2_db1ff16d5962row13_col0 {\n",
       "            width:  10em;\n",
       "             height:  80%;\n",
       "        }</style><table id=\"T_96704f82_ae42_11e9_98a2_db1ff16d5962\" ><thead>    <tr>        <th class=\"blank level0\" ></th>        <th class=\"col_heading level0 col0\" >Y</th>    </tr></thead><tbody>\n",
       "                <tr>\n",
       "                        <th id=\"T_96704f82_ae42_11e9_98a2_db1ff16d5962level0_row0\" class=\"row_heading level0 row0\" >6</th>\n",
       "                        <td id=\"T_96704f82_ae42_11e9_98a2_db1ff16d5962row0_col0\" class=\"data row0 col0\" >2667608</td>\n",
       "            </tr>\n",
       "            <tr>\n",
       "                        <th id=\"T_96704f82_ae42_11e9_98a2_db1ff16d5962level0_row1\" class=\"row_heading level0 row1\" >9</th>\n",
       "                        <td id=\"T_96704f82_ae42_11e9_98a2_db1ff16d5962row1_col0\" class=\"data row1 col0\" >2117051</td>\n",
       "            </tr>\n",
       "            <tr>\n",
       "                        <th id=\"T_96704f82_ae42_11e9_98a2_db1ff16d5962level0_row2\" class=\"row_heading level0 row2\" >3</th>\n",
       "                        <td id=\"T_96704f82_ae42_11e9_98a2_db1ff16d5962row2_col0\" class=\"data row2 col0\" >1791890</td>\n",
       "            </tr>\n",
       "            <tr>\n",
       "                        <th id=\"T_96704f82_ae42_11e9_98a2_db1ff16d5962level0_row3\" class=\"row_heading level0 row3\" >12</th>\n",
       "                        <td id=\"T_96704f82_ae42_11e9_98a2_db1ff16d5962row3_col0\" class=\"data row3 col0\" >1769008</td>\n",
       "            </tr>\n",
       "            <tr>\n",
       "                        <th id=\"T_96704f82_ae42_11e9_98a2_db1ff16d5962level0_row4\" class=\"row_heading level0 row4\" >5</th>\n",
       "                        <td id=\"T_96704f82_ae42_11e9_98a2_db1ff16d5962row4_col0\" class=\"data row4 col0\" >677888</td>\n",
       "            </tr>\n",
       "            <tr>\n",
       "                        <th id=\"T_96704f82_ae42_11e9_98a2_db1ff16d5962level0_row5\" class=\"row_heading level0 row5\" >13</th>\n",
       "                        <td id=\"T_96704f82_ae42_11e9_98a2_db1ff16d5962row5_col0\" class=\"data row5 col0\" >675174</td>\n",
       "            </tr>\n",
       "            <tr>\n",
       "                        <th id=\"T_96704f82_ae42_11e9_98a2_db1ff16d5962level0_row6\" class=\"row_heading level0 row6\" >2</th>\n",
       "                        <td id=\"T_96704f82_ae42_11e9_98a2_db1ff16d5962row6_col0\" class=\"data row6 col0\" >557137</td>\n",
       "            </tr>\n",
       "            <tr>\n",
       "                        <th id=\"T_96704f82_ae42_11e9_98a2_db1ff16d5962level0_row7\" class=\"row_heading level0 row7\" >4</th>\n",
       "                        <td id=\"T_96704f82_ae42_11e9_98a2_db1ff16d5962row7_col0\" class=\"data row7 col0\" >509351</td>\n",
       "            </tr>\n",
       "            <tr>\n",
       "                        <th id=\"T_96704f82_ae42_11e9_98a2_db1ff16d5962level0_row8\" class=\"row_heading level0 row8\" >7</th>\n",
       "                        <td id=\"T_96704f82_ae42_11e9_98a2_db1ff16d5962row8_col0\" class=\"data row8 col0\" >241163</td>\n",
       "            </tr>\n",
       "            <tr>\n",
       "                        <th id=\"T_96704f82_ae42_11e9_98a2_db1ff16d5962level0_row9\" class=\"row_heading level0 row9\" >10</th>\n",
       "                        <td id=\"T_96704f82_ae42_11e9_98a2_db1ff16d5962row9_col0\" class=\"data row9 col0\" >169003</td>\n",
       "            </tr>\n",
       "            <tr>\n",
       "                        <th id=\"T_96704f82_ae42_11e9_98a2_db1ff16d5962level0_row10\" class=\"row_heading level0 row10\" >0</th>\n",
       "                        <td id=\"T_96704f82_ae42_11e9_98a2_db1ff16d5962row10_col0\" class=\"data row10 col0\" >121154</td>\n",
       "            </tr>\n",
       "            <tr>\n",
       "                        <th id=\"T_96704f82_ae42_11e9_98a2_db1ff16d5962level0_row11\" class=\"row_heading level0 row11\" >8</th>\n",
       "                        <td id=\"T_96704f82_ae42_11e9_98a2_db1ff16d5962row11_col0\" class=\"data row11 col0\" >61549</td>\n",
       "            </tr>\n",
       "            <tr>\n",
       "                        <th id=\"T_96704f82_ae42_11e9_98a2_db1ff16d5962level0_row12\" class=\"row_heading level0 row12\" >11</th>\n",
       "                        <td id=\"T_96704f82_ae42_11e9_98a2_db1ff16d5962row12_col0\" class=\"data row12 col0\" >47135</td>\n",
       "            </tr>\n",
       "            <tr>\n",
       "                        <th id=\"T_96704f82_ae42_11e9_98a2_db1ff16d5962level0_row13\" class=\"row_heading level0 row13\" >1</th>\n",
       "                        <td id=\"T_96704f82_ae42_11e9_98a2_db1ff16d5962row13_col0\" class=\"data row13 col0\" >9209</td>\n",
       "            </tr>\n",
       "    </tbody></table>"
      ],
      "text/plain": [
       "<pandas.io.formats.style.Styler at 0x7fa2084789b0>"
      ]
     },
     "execution_count": 12,
     "metadata": {},
     "output_type": "execute_result"
    }
   ],
   "source": [
    "### Visualize time window assignment\n",
    "cleaned_df_1.Y.value_counts().to_frame().style.bar()"
   ]
  },
  {
   "cell_type": "markdown",
   "metadata": {},
   "source": [
    "# 5.1 Clean data - remove unneeded columns "
   ]
  },
  {
   "cell_type": "code",
   "execution_count": 13,
   "metadata": {
    "ExecuteTime": {
     "end_time": "2019-07-14T02:05:15.185579Z",
     "start_time": "2019-07-14T02:05:15.154338Z"
    }
   },
   "outputs": [
    {
     "data": {
      "text/plain": [
       "Index(['year_week', 'business_sid', 'industry', 'sub_industry', 'shipper',\n",
       "       'service_type', 'std_service_type', 'package_count', 'weight',\n",
       "       'std_weight', 'shipment_date', 'delivery_date', 'delivery_time',\n",
       "       'freight_charges', 'freight_discount_amount', 'misc_charges',\n",
       "       'misc_discount_amount', 'net_charge_amount', 'zone', 'sender_city',\n",
       "       'sender_state', 'sender_zip', 'recipient_city', 'recipient_state',\n",
       "       'recipient_zip', 'week_number', 'day_of_week', 'days_in_transit',\n",
       "       'days_taken_float', 'Y', 'same_MSA', 'sender_in_MSA', 'rec_in_MSA',\n",
       "       'sender_MSA_num', 'rec_MSA_num', 'distance', 'sender_pop',\n",
       "       'sender_pop_density', 'sender_houses', 'recipient_pop',\n",
       "       'recipient_pop_density', 'recipient_houses', 'month'],\n",
       "      dtype='object')"
      ]
     },
     "execution_count": 13,
     "metadata": {},
     "output_type": "execute_result"
    }
   ],
   "source": [
    "cleaned_df_1.columns"
   ]
  },
  {
   "cell_type": "code",
   "execution_count": 14,
   "metadata": {
    "ExecuteTime": {
     "end_time": "2019-07-14T02:05:51.973811Z",
     "start_time": "2019-07-14T02:05:51.364580Z"
    }
   },
   "outputs": [
    {
     "name": "stdout",
     "output_type": "stream",
     "text": [
      "Starting with 11414320 rows, 43 columns\n",
      "Removed unneeded columns: Removed 20 columns\n",
      "Ending with 11414320 rows, 23 columns\n"
     ]
    }
   ],
   "source": [
    "cleaned_df_2 = cleaned_df_1.copy(deep=False)\n",
    "start_rows = len(cleaned_df_2)\n",
    "start_col = len(cleaned_df_2.columns)\n",
    "print(f\"Starting with {start_rows} rows, {start_col} columns\")\n",
    "\n",
    "# Columns to keep\n",
    "columns_kept = ['shipper','std_service_type','std_weight','freight_charges','zone',\n",
    "                'sender_state','recipient_state', 'distance',\n",
    "                'sender_pop', 'sender_pop_density', 'sender_houses', \n",
    "                'recipient_pop', 'recipient_pop_density', 'recipient_houses',\n",
    "                'same_MSA', 'sender_in_MSA', 'rec_in_MSA', 'sender_MSA_num', 'rec_MSA_num',\n",
    "                'week_number','day_of_week','month','Y']\n",
    "\n",
    "cleaned_df_2 = cleaned_df_2[columns_kept]\n",
    "\n",
    "end_rows = len(cleaned_df_2)\n",
    "end_col = len(cleaned_df_2.columns)\n",
    "print(f\"Removed unneeded columns: Removed {start_col-end_col} columns\")\n",
    "print(f\"Ending with {end_rows} rows, {end_col} columns\")"
   ]
  },
  {
   "cell_type": "markdown",
   "metadata": {},
   "source": [
    "# 5.2 Clean data - categorize"
   ]
  },
  {
   "cell_type": "code",
   "execution_count": 15,
   "metadata": {
    "ExecuteTime": {
     "end_time": "2019-07-14T02:08:01.525391Z",
     "start_time": "2019-07-14T02:08:01.509741Z"
    }
   },
   "outputs": [],
   "source": [
    "cat_cols = ['shipper','std_service_type','zone',\n",
    "            'sender_state','recipient_state',\n",
    "            'same_MSA', 'sender_in_MSA', 'rec_in_MSA', 'sender_MSA_num', 'rec_MSA_num',\n",
    "            'week_number','day_of_week','month']\n",
    "\n",
    "float_cols = ['std_weight','freight_charges','distance',\n",
    "                'sender_pop', 'sender_pop_density', 'sender_houses', \n",
    "                'recipient_pop', 'recipient_pop_density', 'recipient_houses']\n",
    "assert len(cat_cols) + len(float_cols) == len(cleaned_df_2.columns) - 1 # -1 for Y variable"
   ]
  },
  {
   "cell_type": "code",
   "execution_count": 16,
   "metadata": {
    "ExecuteTime": {
     "end_time": "2019-07-14T02:08:18.365204Z",
     "start_time": "2019-07-14T02:08:18.021502Z"
    }
   },
   "outputs": [],
   "source": [
    "cleaned_df_2[cat_cols] = cleaned_df_2[cat_cols].astype('category')\n",
    "cleaned_df_2[float_cols] = cleaned_df_2[float_cols].astype('float64')"
   ]
  },
  {
   "cell_type": "code",
   "execution_count": 17,
   "metadata": {
    "ExecuteTime": {
     "end_time": "2019-07-14T02:08:18.990022Z",
     "start_time": "2019-07-14T02:08:18.599742Z"
    }
   },
   "outputs": [
    {
     "data": {
      "text/plain": [
       "['./data/final_df_14_Windows.pkl.z']"
      ]
     },
     "execution_count": 17,
     "metadata": {},
     "output_type": "execute_result"
    }
   ],
   "source": [
    "## Export to pickle\n",
    "joblib.dump(cleaned_df_2, \"./data/final_df_14_Windows.pkl.z\")"
   ]
  },
  {
   "cell_type": "markdown",
   "metadata": {},
   "source": [
    "## One hot encode"
   ]
  },
  {
   "cell_type": "code",
   "execution_count": 25,
   "metadata": {},
   "outputs": [],
   "source": [
    "final_df = joblib.load('data/final_df_14_Windows.pkl.z')"
   ]
  },
  {
   "cell_type": "code",
   "execution_count": 26,
   "metadata": {},
   "outputs": [
    {
     "data": {
      "text/plain": [
       "Index(['shipper', 'std_service_type', 'std_weight', 'freight_charges', 'zone',\n",
       "       'sender_state', 'recipient_state', 'distance', 'sender_pop',\n",
       "       'sender_pop_density', 'sender_houses', 'recipient_pop',\n",
       "       'recipient_pop_density', 'recipient_houses', 'same_MSA',\n",
       "       'sender_in_MSA', 'rec_in_MSA', 'sender_MSA_num', 'rec_MSA_num',\n",
       "       'week_number', 'day_of_week', 'month', 'Y'],\n",
       "      dtype='object')"
      ]
     },
     "execution_count": 26,
     "metadata": {},
     "output_type": "execute_result"
    }
   ],
   "source": [
    "final_df.columns"
   ]
  },
  {
   "cell_type": "code",
   "execution_count": 27,
   "metadata": {},
   "outputs": [],
   "source": [
    "def prepare_data(X, y, oversample=False):\n",
    "    '''\n",
    "    This function will prepare the data for classification.\n",
    "    It expects the following parameters:\n",
    "      - X: feature columns\n",
    "      - y: target variable column\n",
    "      - train_size: proportion of dataset used for training\n",
    "      - random_state: the random seed to use when selecting a subset of rows\n",
    "    \n",
    "    This function returns a dictionary with the following entries\n",
    "      - X_train: the matrix of training data\n",
    "      - y_train: the array of training labels\n",
    "      - X_test: the matrix of testing data\n",
    "      - y_test: the array of testing labels\n",
    "    '''\n",
    "    # Split data\n",
    "    print(\"Splitting data...\")\n",
    "    X_train, X_test, y_train, y_test = train_test_split(X, y, train_size=0.8, test_size=0.2, random_state=71)    \n",
    "    \n",
    "    # Scale the variables\n",
    "    print(\"Scaling data...\")\n",
    "    scaler = preprocessing.MinMaxScaler()\n",
    "\n",
    "    X_train = scaler.fit_transform(X_train)\n",
    "    X_test = scaler.transform(X_test)\n",
    "    \n",
    "    # SMOTE \n",
    "    # Oversample training set\n",
    "    if oversample is True:\n",
    "        os = SMOTE(n_jobs=-1, random_state=71)\n",
    "        print(\"Oversampling...\", X_train.shape, X_test.shape)  \n",
    "        X_train, y_train = os.fit_sample(X_train, y_train)\n",
    "        print(\"Oversampled: \", X_train.shape, X_test.shape)  \n",
    "    \n",
    "    # return training and testing data\n",
    "    out = {'X_train':X_train, 'y_train':y_train, \n",
    "           'X_test':X_test, 'y_test':y_test}\n",
    "    \n",
    "    return out"
   ]
  },
  {
   "cell_type": "code",
   "execution_count": null,
   "metadata": {},
   "outputs": [],
   "source": [
    "y = final_df.Y\n",
    "final_df = final_df.drop(columns=['Y'])\n",
    "ohe_df = pd.get_dummies(final_df)\n",
    "X = ohe_df\n",
    "\n",
    "# Free up memory\n",
    "# del final_df\n",
    "# del ohe_df\n",
    "# del cleaned_df_1\n",
    "# del cleaned_df_2"
   ]
  },
  {
   "cell_type": "code",
   "execution_count": null,
   "metadata": {},
   "outputs": [],
   "source": [
    "print(X.shape, y.shape)"
   ]
  },
  {
   "cell_type": "code",
   "execution_count": null,
   "metadata": {},
   "outputs": [],
   "source": [
    "data_dict = prepare_data(X,y, oversample=False)"
   ]
  },
  {
   "cell_type": "code",
   "execution_count": null,
   "metadata": {},
   "outputs": [],
   "source": [
    "npz_path = 'data/data_dict_14windows_SMOTEno_MSAyes.npz'\n",
    "np.savez_compressed(npz_path, \n",
    "        X_train = data_dict['X_train'],\n",
    "        y_train = data_dict['y_train'],\n",
    "        X_test = data_dict['X_test'],\n",
    "        y_test = data_dict['y_test'])"
   ]
  },
  {
   "cell_type": "code",
   "execution_count": null,
   "metadata": {},
   "outputs": [],
   "source": []
  }
 ],
 "metadata": {
  "kernelspec": {
   "display_name": "Python 3",
   "language": "python",
   "name": "python3"
  },
  "language_info": {
   "codemirror_mode": {
    "name": "ipython",
    "version": 3
   },
   "file_extension": ".py",
   "mimetype": "text/x-python",
   "name": "python",
   "nbconvert_exporter": "python",
   "pygments_lexer": "ipython3",
   "version": "3.6.8"
  },
  "latex_envs": {
   "LaTeX_envs_menu_present": true,
   "autoclose": true,
   "autocomplete": true,
   "bibliofile": "biblio.bib",
   "cite_by": "apalike",
   "current_citInitial": 1,
   "eqLabelWithNumbers": true,
   "eqNumInitial": 1,
   "hotkeys": {
    "equation": "Ctrl-E",
    "itemize": "Ctrl-I"
   },
   "labels_anchors": false,
   "latex_user_defs": false,
   "report_style_numbering": false,
   "user_envs_cfg": false
  }
 },
 "nbformat": 4,
 "nbformat_minor": 2
}
