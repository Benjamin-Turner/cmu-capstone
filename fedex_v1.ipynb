{
 "cells": [
  {
   "cell_type": "code",
   "execution_count": 1,
   "metadata": {},
   "outputs": [
    {
     "name": "stdout",
     "output_type": "stream",
     "text": [
      "Requirement already satisfied: fedex in c:\\users\\sumit\\anaconda3\\lib\\site-packages (2.4.0)\n",
      "Requirement already satisfied: suds-jurko in c:\\users\\sumit\\anaconda3\\lib\\site-packages (from fedex) (0.6)\n"
     ]
    }
   ],
   "source": [
    "!pip install fedex"
   ]
  },
  {
   "cell_type": "code",
   "execution_count": 2,
   "metadata": {},
   "outputs": [],
   "source": [
    "import os\n",
    "import sys\n",
    "\n",
    "# Use the fedex directory included in the downloaded package instead of\n",
    "# any globally installed versions.\n",
    "#sys.path.insert(0, os.path.dirname(os.path.dirname(os.path.abspath(__file__))))\n",
    "from fedex.config import FedexConfig\n",
    "\n",
    "# Change these values to match your testing account/meter number.\n",
    "CONFIG_OBJ = FedexConfig(key='Z2mMBLkkq2fdRCtP',\n",
    "                         password='zuXDi4RDuiDHnXZFoo9EsVdFl',\n",
    "                         account_number='510087500',\n",
    "                         meter_number='100420445',\n",
    "                         freight_account_number='xxxxxxxxxxx',\n",
    "                         use_test_server=True)"
   ]
  },
  {
   "cell_type": "code",
   "execution_count": 3,
   "metadata": {},
   "outputs": [],
   "source": [
    "import os, sys\n",
    "\n",
    "class HiddenPrints:\n",
    "    def __enter__(self):\n",
    "        self._original_stdout = sys.stdout\n",
    "        sys.stdout = open(os.devnull, 'w')\n",
    "\n",
    "    def __exit__(self, exc_type, exc_val, exc_tb):\n",
    "        sys.stdout.close()\n",
    "        sys.stdout = self._original_stdout"
   ]
  },
  {
   "cell_type": "code",
   "execution_count": 4,
   "metadata": {},
   "outputs": [
    {
     "name": "stderr",
     "output_type": "stream",
     "text": [
      "The origin state/province code has been changed.   (Error code: 819)\n",
      "The destination state/province code has been changed.   (Error code: 820)\n"
     ]
    }
   ],
   "source": [
    "#!/usr/bin/env python\n",
    "\"\"\"\n",
    "This example shows how to use the FedEx RateRequest service.\n",
    "The variables populated below represents the minimum required values.\n",
    "You will need to fill all of these, or risk seeing a SchemaValidationError\n",
    "exception thrown by suds.\n",
    "TIP: Near the bottom of the module, see how to check the if the destination\n",
    "     is Out of Delivery Area (ODA).\n",
    "\"\"\"\n",
    "import logging\n",
    "\n",
    "from fedex.services.rate_service import FedexRateServiceRequest\n",
    "from fedex.tools.conversion import sobject_to_dict\n",
    "\n",
    "# Un-comment to see the response from Fedex printed in stdout.\n",
    "#logging.basicConfig(stream=sys.stdout, level=logging.INFO)\n",
    "\n",
    "# This is the object that will be handling our request.\n",
    "# We're using the FedexConfig object from example_config.py in this dir.\n",
    "customer_transaction_id = \"*** RateService Request v18 using Python ***\"  # Optional transaction_id\n",
    "rate_request = FedexRateServiceRequest(CONFIG_OBJ, customer_transaction_id=customer_transaction_id)\n",
    "\n",
    "# If you wish to have transit data returned with your request you\n",
    "# need to uncomment the following\n",
    "# rate_request.ReturnTransitAndCommit = True\n",
    "\n",
    "# This is very generalized, top-level information.\n",
    "# REGULAR_PICKUP, REQUEST_COURIER, DROP_BOX, BUSINESS_SERVICE_CENTER or STATION\n",
    "rate_request.RequestedShipment.DropoffType = 'REGULAR_PICKUP'\n",
    "\n",
    "# See page 355 in WS_ShipService.pdf for a full list. Here are the common ones:\n",
    "# STANDARD_OVERNIGHT, PRIORITY_OVERNIGHT, FEDEX_GROUND, FEDEX_EXPRESS_SAVER\n",
    "# To receive rates for multiple ServiceTypes set to None.\n",
    "#rate_request.RequestedShipment.ServiceType = 'None'\n",
    "\n",
    "# What kind of package this will be shipped in.\n",
    "# FEDEX_BOX, FEDEX_PAK, FEDEX_TUBE, YOUR_PACKAGING\n",
    "rate_request.RequestedShipment.PackagingType = 'YOUR_PACKAGING'\n",
    "\n",
    "# Shipper's address\n",
    "rate_request.RequestedShipment.Shipper.Address.PostalCode = '29631'\n",
    "rate_request.RequestedShipment.Shipper.Address.CountryCode = 'US'\n",
    "rate_request.RequestedShipment.Shipper.Address.Residential = False\n",
    "\n",
    "# Recipient address\n",
    "rate_request.RequestedShipment.Recipient.Address.PostalCode = '27577'\n",
    "rate_request.RequestedShipment.Recipient.Address.CountryCode = 'US'\n",
    "# This is needed to ensure an accurate rate quote with the response.\n",
    "# rate_request.RequestedShipment.Recipient.Address.Residential = True\n",
    "# include estimated duties and taxes in rate quote, can be ALL or NONE\n",
    "rate_request.RequestedShipment.EdtRequestType = 'NONE'\n",
    "\n",
    "# Who pays for the rate_request?\n",
    "# RECIPIENT, SENDER or THIRD_PARTY\n",
    "rate_request.RequestedShipment.ShippingChargesPayment.PaymentType = 'SENDER'\n",
    "\n",
    "package1_weight = rate_request.create_wsdl_object_of_type('Weight')\n",
    "# Weight, in LB.\n",
    "package1_weight.Value = 1.0\n",
    "package1_weight.Units = \"LB\"\n",
    "\n",
    "package1 = rate_request.create_wsdl_object_of_type('RequestedPackageLineItem')\n",
    "package1.Weight = package1_weight\n",
    "# can be other values this is probably the most common\n",
    "package1.PhysicalPackaging = 'BOX'\n",
    "# Required, but according to FedEx docs:\n",
    "# \"Used only with PACKAGE_GROUPS, as a count of packages within a\n",
    "# group of identical packages\". In practice you can use this to get rates\n",
    "# for a shipment with multiple packages of an identical package size/weight\n",
    "# on rate request without creating multiple RequestedPackageLineItem elements.\n",
    "# You can OPTIONALLY specify a package group:\n",
    "# package1.GroupNumber = 0  # default is 0\n",
    "# The result will be found in RatedPackageDetail, with specified GroupNumber.\n",
    "package1.GroupPackageCount = 1\n",
    "# Un-comment this to see the other variables you may set on a package.\n",
    "# print(package1)\n",
    "\n",
    "# This adds the RequestedPackageLineItem WSDL object to the rate_request. It\n",
    "# increments the package count and total weight of the rate_request for you.\n",
    "rate_request.add_package(package1)\n",
    "\n",
    "# If you'd like to see some documentation on the ship service WSDL, un-comment\n",
    "# this line. (Spammy).\n",
    "# print(rate_request.client)\n",
    "\n",
    "# Un-comment this to see your complete, ready-to-send request as it stands\n",
    "# before it is actually sent. This is useful for seeing what values you can\n",
    "# change.\n",
    "# print(rate_request.RequestedShipment)\n",
    "\n",
    "# Fires off the request, sets the 'response' attribute on the object.\n",
    "\n",
    "with HiddenPrints():\n",
    "    rate_request.send_request()\n",
    "\n",
    "# This will show the reply to your rate_request being sent. You can access the\n",
    "# attributes through the response attribute on the request object. This is\n",
    "# good to un-comment to see the variables returned by the FedEx reply.\n",
    "# print(rate_request.response)\n",
    "\n",
    "# This will convert the response to a python dict object. To\n",
    "# make it easier to work with.\n",
    "# from fedex.tools.conversion import basic_sobject_to_dict\n",
    "# print(basic_sobject_to_dict(rate_request.response))\n",
    "\n",
    "# This will dump the response data dict to json.\n",
    "# from fedex.tools.conversion import sobject_to_json\n",
    "# print(sobject_to_json(rate_request.response))\n",
    "\n",
    "# Here is the overall end result of the query.\n",
    "#print(\"HighestSeverity: {}\".format(rate_request.response.HighestSeverity))\n",
    "d = {}\n",
    "# RateReplyDetails can contain rates for multiple ServiceTypes if ServiceType was set to None\n",
    "for service in rate_request.response.RateReplyDetails:\n",
    "    for rate_detail in service.RatedShipmentDetails:\n",
    "        key = service.ServiceType\n",
    "        d[key] = rate_detail.ShipmentRateDetail.TotalNetFedExCharge.Amount\n",
    "# Check for warnings, this is also logged by the base class.\n",
    "\n"
   ]
  },
  {
   "cell_type": "code",
   "execution_count": 5,
   "metadata": {},
   "outputs": [],
   "source": [
    "from collections import defaultdict\n",
    "comp_rates = defaultdict(list)\n",
    "\n",
    "for key in d.keys():\n",
    "        comp_rates[key].append(d[key]- d['FEDEX_GROUND'])\n",
    "        comp_rates[key].append((d[key]- d['FEDEX_GROUND'])*100/d[key])\n",
    "        comp_rates[key].append(d[key])\n",
    "   \n",
    "    \n",
    "    "
   ]
  },
  {
   "cell_type": "code",
   "execution_count": 8,
   "metadata": {},
   "outputs": [
    {
     "data": {
      "text/plain": [
       "defaultdict(list,\n",
       "            {FIRST_OVERNIGHT: [70.05, 85.68807339449542, 81.75],\n",
       "             PRIORITY_OVERNIGHT: [16.63, 58.70102364984116, 28.33],\n",
       "             STANDARD_OVERNIGHT: [31.180000000000003,\n",
       "              72.71455223880598,\n",
       "              42.88],\n",
       "             FEDEX_2_DAY_AM: [13.420000000000002, 53.4235668789809, 25.12],\n",
       "             FEDEX_2_DAY: [11.780000000000001, 50.170357751277685, 23.48],\n",
       "             FEDEX_EXPRESS_SAVER: [8.82, 42.98245614035088, 20.52],\n",
       "             FEDEX_GROUND: [0.0, 0.0, 11.7]})"
      ]
     },
     "execution_count": 8,
     "metadata": {},
     "output_type": "execute_result"
    }
   ],
   "source": [
    "comp_rates"
   ]
  },
  {
   "cell_type": "code",
   "execution_count": 84,
   "metadata": {},
   "outputs": [
    {
     "name": "stdout",
     "output_type": "stream",
     "text": [
      "Using Ground shipment compared to other shipments will result in \n",
      " Service_Type           Cost   Cost_Saving  %Cost Saving \n",
      " FIRST_OVERNIGHT       81.75        70.05        85.69 \n",
      " PRIORITY_OVERNIGHT    28.33        16.63        58.70 \n",
      " STANDARD_OVERNIGHT    42.88        31.18        72.71 \n",
      " FEDEX_2_DAY_AM        25.12        13.42        53.42 \n",
      " FEDEX_2_DAY           23.48        11.78        50.17 \n",
      " FEDEX_EXPRESS_SAVER   20.52         8.82        42.98 \n",
      " FEDEX_GROUND          11.70         0.00         0.00 \n"
     ]
    }
   ],
   "source": [
    "print(\"Using Ground shipment compared to other shipments will result in \")\n",
    "print(\" {:22s} {:6s} {:12s} {:12s} \".format(\"Service_Type\",\"Cost\",\"Cost_Saving\",\"%Cost Saving\"))\n",
    "for values in comp_rates:\n",
    "    print(\" {:20s} {:6.2f} {:12.2f} {:12.2f} \".format(values,comp_rates[values][2],comp_rates[values][0],comp_rates[values][1]))"
   ]
  }
 ],
 "metadata": {
  "kernelspec": {
   "display_name": "Python 3",
   "language": "python",
   "name": "python3"
  },
  "language_info": {
   "codemirror_mode": {
    "name": "ipython",
    "version": 3
   },
   "file_extension": ".py",
   "mimetype": "text/x-python",
   "name": "python",
   "nbconvert_exporter": "python",
   "pygments_lexer": "ipython3",
   "version": "3.7.1"
  }
 },
 "nbformat": 4,
 "nbformat_minor": 2
}
